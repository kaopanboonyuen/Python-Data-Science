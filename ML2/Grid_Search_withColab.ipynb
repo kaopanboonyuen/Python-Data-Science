{
  "nbformat": 4,
  "nbformat_minor": 0,
  "metadata": {
    "kernelspec": {
      "display_name": "Python 3",
      "language": "python",
      "name": "python3"
    },
    "language_info": {
      "codemirror_mode": {
        "name": "ipython",
        "version": 3
      },
      "file_extension": ".py",
      "mimetype": "text/x-python",
      "name": "python",
      "nbconvert_exporter": "python",
      "pygments_lexer": "ipython3",
      "version": "3.6.8"
    },
    "colab": {
      "name": "Grid_Search_withColab.ipynb",
      "provenance": [],
      "collapsed_sections": []
    }
  },
  "cells": [
    {
      "cell_type": "markdown",
      "metadata": {
        "id": "C3hiM5fnjWTU",
        "colab_type": "text"
      },
      "source": [
        "# Efficiently searching for optimal tuning parameters\n",
        "*From the video series: [Introduction to machine learning with scikit-learn](https://github.com/justmarkham/scikit-learn-videos)*"
      ]
    },
    {
      "cell_type": "markdown",
      "metadata": {
        "id": "dDv8SH40jWTY",
        "colab_type": "text"
      },
      "source": [
        "## Agenda\n",
        "\n",
        "- How can K-fold cross-validation be used to search for an **optimal tuning parameter**?\n",
        "- How can this process be made **more efficient**?\n",
        "- How do you search for **multiple tuning parameters** at once?\n",
        "- What do you do with those tuning parameters before making **real predictions**?\n",
        "- How can the **computational expense** of this process be reduced?"
      ]
    },
    {
      "cell_type": "markdown",
      "metadata": {
        "id": "h1rmSXLajWTZ",
        "colab_type": "text"
      },
      "source": [
        "## Review of K-fold cross-validation"
      ]
    },
    {
      "cell_type": "markdown",
      "metadata": {
        "id": "2Y9uJXO4jWTb",
        "colab_type": "text"
      },
      "source": [
        "Steps for cross-validation:\n",
        "\n",
        "- Dataset is split into K \"folds\" of **equal size**\n",
        "- Each fold acts as the **testing set** 1 time, and acts as the **training set** K-1 times\n",
        "- **Average testing performance** is used as the estimate of out-of-sample performance\n",
        "\n",
        "Benefits of cross-validation:\n",
        "\n",
        "- More **reliable** estimate of out-of-sample performance than train/test split\n",
        "- Can be used for selecting **tuning parameters**, choosing between **models**, and selecting **features**\n",
        "\n",
        "Drawbacks of cross-validation:\n",
        "\n",
        "- Can be computationally **expensive**"
      ]
    },
    {
      "cell_type": "markdown",
      "metadata": {
        "id": "7jWiFSHhjWTc",
        "colab_type": "text"
      },
      "source": [
        "## Review of parameter tuning using `cross_val_score`"
      ]
    },
    {
      "cell_type": "markdown",
      "metadata": {
        "id": "8lK4eHHVjWTf",
        "colab_type": "text"
      },
      "source": [
        "**Goal:** Select the best tuning parameters (aka \"hyperparameters\") for KNN on the iris dataset"
      ]
    },
    {
      "cell_type": "code",
      "metadata": {
        "id": "-HL__dYWjWTh",
        "colab_type": "code",
        "colab": {}
      },
      "source": [
        "from sklearn.datasets import load_iris\n",
        "from sklearn.neighbors import KNeighborsClassifier\n",
        "from sklearn.model_selection import cross_val_score\n",
        "import matplotlib.pyplot as plt\n",
        "import warnings\n",
        "warnings.filterwarnings('ignore')\n",
        "%matplotlib inline"
      ],
      "execution_count": 0,
      "outputs": []
    },
    {
      "cell_type": "code",
      "metadata": {
        "id": "wlBl3JO3jWTm",
        "colab_type": "code",
        "colab": {}
      },
      "source": [
        "# read in the iris data\n",
        "iris = load_iris()\n",
        "\n",
        "# create X (features) and y (response)\n",
        "X = iris.data\n",
        "y = iris.target"
      ],
      "execution_count": 0,
      "outputs": []
    },
    {
      "cell_type": "code",
      "metadata": {
        "id": "W3ctEOCOjWTs",
        "colab_type": "code",
        "outputId": "e7f1a815-8358-46c4-90f3-459e0546acfd",
        "colab": {
          "base_uri": "https://localhost:8080/",
          "height": 52
        }
      },
      "source": [
        "# 10-fold cross-validation with K=5 for KNN (the n_neighbors parameter)\n",
        "knn = KNeighborsClassifier(n_neighbors=5)\n",
        "scores = cross_val_score(knn, X, y, cv=10, scoring='accuracy')\n",
        "print(scores)"
      ],
      "execution_count": 3,
      "outputs": [
        {
          "output_type": "stream",
          "text": [
            "[1.         0.93333333 1.         1.         0.86666667 0.93333333\n",
            " 0.93333333 1.         1.         1.        ]\n"
          ],
          "name": "stdout"
        }
      ]
    },
    {
      "cell_type": "code",
      "metadata": {
        "id": "TusTFMtdjWTz",
        "colab_type": "code",
        "outputId": "621d4c7d-2492-44b4-b652-dd320a4ed188",
        "colab": {
          "base_uri": "https://localhost:8080/",
          "height": 34
        }
      },
      "source": [
        "# use average accuracy as an estimate of out-of-sample accuracy\n",
        "print(scores.mean())"
      ],
      "execution_count": 4,
      "outputs": [
        {
          "output_type": "stream",
          "text": [
            "0.9666666666666668\n"
          ],
          "name": "stdout"
        }
      ]
    },
    {
      "cell_type": "code",
      "metadata": {
        "id": "Z0z2qs5MjWT4",
        "colab_type": "code",
        "outputId": "666b867b-2df9-489d-a751-36bc0453ed46",
        "colab": {
          "base_uri": "https://localhost:8080/",
          "height": 54
        }
      },
      "source": [
        "# search for an optimal value of K for KNN\n",
        "k_range = list(range(1, 31))\n",
        "k_scores = []\n",
        "for k in k_range:\n",
        "    knn = KNeighborsClassifier(n_neighbors=k)\n",
        "    scores = cross_val_score(knn, X, y, cv=10, scoring='accuracy')\n",
        "    k_scores.append(scores.mean())\n",
        "print(k_scores)"
      ],
      "execution_count": 5,
      "outputs": [
        {
          "output_type": "stream",
          "text": [
            "[0.96, 0.9533333333333334, 0.9666666666666666, 0.9666666666666666, 0.9666666666666668, 0.9666666666666668, 0.9666666666666668, 0.9666666666666668, 0.9733333333333334, 0.9666666666666668, 0.9666666666666668, 0.9733333333333334, 0.9800000000000001, 0.9733333333333334, 0.9733333333333334, 0.9733333333333334, 0.9733333333333334, 0.9800000000000001, 0.9733333333333334, 0.9800000000000001, 0.9666666666666666, 0.9666666666666666, 0.9733333333333334, 0.96, 0.9666666666666666, 0.96, 0.9666666666666666, 0.9533333333333334, 0.9533333333333334, 0.9533333333333334]\n"
          ],
          "name": "stdout"
        }
      ]
    },
    {
      "cell_type": "code",
      "metadata": {
        "id": "3td-BEjFjWT9",
        "colab_type": "code",
        "outputId": "8e4c3a5b-a21a-4580-f1a4-53fa05fd1fd6",
        "colab": {
          "base_uri": "https://localhost:8080/",
          "height": 296
        }
      },
      "source": [
        "# plot the value of K for KNN (x-axis) versus the cross-validated accuracy (y-axis)\n",
        "plt.plot(k_range, k_scores)\n",
        "plt.xlabel('Value of K for KNN')\n",
        "plt.ylabel('Cross-Validated Accuracy')"
      ],
      "execution_count": 6,
      "outputs": [
        {
          "output_type": "execute_result",
          "data": {
            "text/plain": [
              "Text(0, 0.5, 'Cross-Validated Accuracy')"
            ]
          },
          "metadata": {
            "tags": []
          },
          "execution_count": 6
        },
        {
          "output_type": "display_data",
          "data": {
            "image/png": "[encoded data removed]",
            "text/plain": [
              "<Figure size 432x288 with 1 Axes>"
            ]
          },
          "metadata": {
            "tags": []
          }
        }
      ]
    },
    {
      "cell_type": "markdown",
      "metadata": {
        "id": "qVgWYDZHjWUD",
        "colab_type": "text"
      },
      "source": [
        "## More efficient parameter tuning using `GridSearchCV`"
      ]
    },
    {
      "cell_type": "markdown",
      "metadata": {
        "id": "jjAO_qckjWUG",
        "colab_type": "text"
      },
      "source": [
        "Allows you to define a **grid of parameters** that will be **searched** using K-fold cross-validation"
      ]
    },
    {
      "cell_type": "code",
      "metadata": {
        "id": "qoe5vbwsjWUH",
        "colab_type": "code",
        "colab": {}
      },
      "source": [
        "from sklearn.model_selection import GridSearchCV"
      ],
      "execution_count": 0,
      "outputs": []
    },
    {
      "cell_type": "code",
      "metadata": {
        "id": "QGfqtRDmjWUM",
        "colab_type": "code",
        "outputId": "966907f5-bb40-4a52-f016-5be90af0ed35",
        "colab": {
          "base_uri": "https://localhost:8080/",
          "height": 34
        }
      },
      "source": [
        "# define the parameter values that should be searched\n",
        "k_range = list(range(1, 31))\n",
        "print(k_range)"
      ],
      "execution_count": 8,
      "outputs": [
        {
          "output_type": "stream",
          "text": [
            "[1, 2, 3, 4, 5, 6, 7, 8, 9, 10, 11, 12, 13, 14, 15, 16, 17, 18, 19, 20, 21, 22, 23, 24, 25, 26, 27, 28, 29, 30]\n"
          ],
          "name": "stdout"
        }
      ]
    },
    {
      "cell_type": "code",
      "metadata": {
        "id": "X9uzdWsOjWUQ",
        "colab_type": "code",
        "outputId": "5ae66c14-6d4d-4a80-c34c-086816315bf3",
        "colab": {
          "base_uri": "https://localhost:8080/",
          "height": 34
        }
      },
      "source": [
        "# create a parameter grid: map the parameter names to the values that should be searched\n",
        "param_grid = dict(n_neighbors=k_range)\n",
        "print(param_grid)"
      ],
      "execution_count": 9,
      "outputs": [
        {
          "output_type": "stream",
          "text": [
            "{'n_neighbors': [1, 2, 3, 4, 5, 6, 7, 8, 9, 10, 11, 12, 13, 14, 15, 16, 17, 18, 19, 20, 21, 22, 23, 24, 25, 26, 27, 28, 29, 30]}\n"
          ],
          "name": "stdout"
        }
      ]
    },
    {
      "cell_type": "code",
      "metadata": {
        "id": "BCRMDNnCjWUX",
        "colab_type": "code",
        "colab": {}
      },
      "source": [
        "# instantiate the grid\n",
        "grid = GridSearchCV(knn, param_grid, cv=10, scoring='accuracy')"
      ],
      "execution_count": 0,
      "outputs": []
    },
    {
      "cell_type": "markdown",
      "metadata": {
        "id": "wuysBqIsjWUb",
        "colab_type": "text"
      },
      "source": [
        "- You can set **`n_jobs = -1`** to run computations in parallel (if supported by your computer and OS)"
      ]
    },
    {
      "cell_type": "code",
      "metadata": {
        "id": "LpPob5SQjWUd",
        "colab_type": "code",
        "outputId": "0419e542-ccef-45f2-d668-51a91a52d05b",
        "colab": {
          "base_uri": "https://localhost:8080/",
          "height": 230
        }
      },
      "source": [
        "# fit the grid with data\n",
        "grid.fit(X, y)"
      ],
      "execution_count": 11,
      "outputs": [
        {
          "output_type": "execute_result",
          "data": {
            "text/plain": [
              "GridSearchCV(cv=10, error_score=nan,\n",
              "             estimator=KNeighborsClassifier(algorithm='auto', leaf_size=30,\n",
              "                                            metric='minkowski',\n",
              "                                            metric_params=None, n_jobs=None,\n",
              "                                            n_neighbors=30, p=2,\n",
              "                                            weights='uniform'),\n",
              "             iid='deprecated', n_jobs=None,\n",
              "             param_grid={'n_neighbors': [1, 2, 3, 4, 5, 6, 7, 8, 9, 10, 11, 12,\n",
              "                                         13, 14, 15, 16, 17, 18, 19, 20, 21, 22,\n",
              "                                         23, 24, 25, 26, 27, 28, 29, 30]},\n",
              "             pre_dispatch='2*n_jobs', refit=True, return_train_score=False,\n",
              "             scoring='accuracy', verbose=0)"
            ]
          },
          "metadata": {
            "tags": []
          },
          "execution_count": 11
        }
      ]
    },
    {
      "cell_type": "code",
      "metadata": {
        "id": "sLocFIORjWUh",
        "colab_type": "code",
        "outputId": "cea761de-3723-4ccd-f85b-7c9826f915a1",
        "colab": {
          "base_uri": "https://localhost:8080/",
          "height": 143
        }
      },
      "source": [
        "# view the complete results (list of named tuples)\n",
        "#grid.grid_scores_\n",
        "print(grid.cv_results_['mean_test_score'])\n",
        "print(grid.cv_results_['params'])"
      ],
      "execution_count": 12,
      "outputs": [
        {
          "output_type": "stream",
          "text": [
            "[0.96       0.95333333 0.96666667 0.96666667 0.96666667 0.96666667\n",
            " 0.96666667 0.96666667 0.97333333 0.96666667 0.96666667 0.97333333\n",
            " 0.98       0.97333333 0.97333333 0.97333333 0.97333333 0.98\n",
            " 0.97333333 0.98       0.96666667 0.96666667 0.97333333 0.96\n",
            " 0.96666667 0.96       0.96666667 0.95333333 0.95333333 0.95333333]\n",
            "[{'n_neighbors': 1}, {'n_neighbors': 2}, {'n_neighbors': 3}, {'n_neighbors': 4}, {'n_neighbors': 5}, {'n_neighbors': 6}, {'n_neighbors': 7}, {'n_neighbors': 8}, {'n_neighbors': 9}, {'n_neighbors': 10}, {'n_neighbors': 11}, {'n_neighbors': 12}, {'n_neighbors': 13}, {'n_neighbors': 14}, {'n_neighbors': 15}, {'n_neighbors': 16}, {'n_neighbors': 17}, {'n_neighbors': 18}, {'n_neighbors': 19}, {'n_neighbors': 20}, {'n_neighbors': 21}, {'n_neighbors': 22}, {'n_neighbors': 23}, {'n_neighbors': 24}, {'n_neighbors': 25}, {'n_neighbors': 26}, {'n_neighbors': 27}, {'n_neighbors': 28}, {'n_neighbors': 29}, {'n_neighbors': 30}]\n"
          ],
          "name": "stdout"
        }
      ]
    },
    {
      "cell_type": "code",
      "metadata": {
        "id": "VmKG4Z6fjWUq",
        "colab_type": "code",
        "outputId": "45ef60b8-9205-4616-99b9-b52d74456a7a",
        "colab": {
          "base_uri": "https://localhost:8080/",
          "height": 52
        }
      },
      "source": [
        "# examine the first tuple\n",
        "print(grid.cv_results_['mean_test_score'][0])\n",
        "print(grid.cv_results_['params'][0])"
      ],
      "execution_count": 13,
      "outputs": [
        {
          "output_type": "stream",
          "text": [
            "0.96\n",
            "{'n_neighbors': 1}\n"
          ],
          "name": "stdout"
        }
      ]
    },
    {
      "cell_type": "code",
      "metadata": {
        "id": "HsLAr_LQjWUw",
        "colab_type": "code",
        "outputId": "2438ecc4-60f3-4cfb-ae8d-9a088237d608",
        "colab": {
          "base_uri": "https://localhost:8080/",
          "height": 54
        }
      },
      "source": [
        "# create a list of the mean scores only\n",
        "grid_mean_scores = [result for result in grid.cv_results_['mean_test_score']]\n",
        "print(grid_mean_scores)"
      ],
      "execution_count": 14,
      "outputs": [
        {
          "output_type": "stream",
          "text": [
            "[0.96, 0.9533333333333334, 0.9666666666666666, 0.9666666666666666, 0.9666666666666668, 0.9666666666666668, 0.9666666666666668, 0.9666666666666668, 0.9733333333333334, 0.9666666666666668, 0.9666666666666668, 0.9733333333333334, 0.9800000000000001, 0.9733333333333334, 0.9733333333333334, 0.9733333333333334, 0.9733333333333334, 0.9800000000000001, 0.9733333333333334, 0.9800000000000001, 0.9666666666666666, 0.9666666666666666, 0.9733333333333334, 0.96, 0.9666666666666666, 0.96, 0.9666666666666666, 0.9533333333333334, 0.9533333333333334, 0.9533333333333334]\n"
          ],
          "name": "stdout"
        }
      ]
    },
    {
      "cell_type": "code",
      "metadata": {
        "id": "kwvRxI5QjWU2",
        "colab_type": "code",
        "outputId": "f22af56e-084a-479b-b03a-2f395104cb77",
        "colab": {
          "base_uri": "https://localhost:8080/",
          "height": 296
        }
      },
      "source": [
        "# plot the results\n",
        "plt.plot(k_range, grid_mean_scores)\n",
        "plt.xlabel('Value of K for KNN')\n",
        "plt.ylabel('Cross-Validated Accuracy')"
      ],
      "execution_count": 15,
      "outputs": [
        {
          "output_type": "execute_result",
          "data": {
            "text/plain": [
              "Text(0, 0.5, 'Cross-Validated Accuracy')"
            ]
          },
          "metadata": {
            "tags": []
          },
          "execution_count": 15
        },
        {
          "output_type": "display_data",
          "data": {
            "image/png": "[encoded data removed]",
            "text/plain": [
              "<Figure size 432x288 with 1 Axes>"
            ]
          },
          "metadata": {
            "tags": []
          }
        }
      ]
    },
    {
      "cell_type": "code",
      "metadata": {
        "id": "R7Qp4YhJjWU6",
        "colab_type": "code",
        "outputId": "0aa9bd72-d638-49e5-cd0e-d21ce19ad475",
        "colab": {
          "base_uri": "https://localhost:8080/",
          "height": 105
        }
      },
      "source": [
        "# examine the best model\n",
        "print(grid.best_score_)\n",
        "print(grid.best_params_)\n",
        "print(grid.best_estimator_)"
      ],
      "execution_count": 16,
      "outputs": [
        {
          "output_type": "stream",
          "text": [
            "0.9800000000000001\n",
            "{'n_neighbors': 13}\n",
            "KNeighborsClassifier(algorithm='auto', leaf_size=30, metric='minkowski',\n",
            "                     metric_params=None, n_jobs=None, n_neighbors=13, p=2,\n",
            "                     weights='uniform')\n"
          ],
          "name": "stdout"
        }
      ]
    },
    {
      "cell_type": "markdown",
      "metadata": {
        "id": "98f6sfdpjWU9",
        "colab_type": "text"
      },
      "source": [
        "## Searching multiple parameters simultaneously"
      ]
    },
    {
      "cell_type": "markdown",
      "metadata": {
        "id": "4PUBBUPejWU-",
        "colab_type": "text"
      },
      "source": [
        "- **Example:** tuning `max_depth` and `min_samples_leaf` for a `DecisionTreeClassifier`\n",
        "- Could tune parameters **independently**: change `max_depth` while leaving `min_samples_leaf` at its default value, and vice versa\n",
        "- But, best performance might be achieved when **neither parameter** is at its default value"
      ]
    },
    {
      "cell_type": "code",
      "metadata": {
        "id": "nSLfNIlEjWU_",
        "colab_type": "code",
        "colab": {}
      },
      "source": [
        "# define the parameter values that should be searched\n",
        "k_range = list(range(1, 31))\n",
        "weight_options = ['uniform', 'distance']"
      ],
      "execution_count": 0,
      "outputs": []
    },
    {
      "cell_type": "code",
      "metadata": {
        "id": "C2mXUqt4jWVJ",
        "colab_type": "code",
        "outputId": "a3de3514-e39f-40d1-a2af-06030a9577b5",
        "colab": {
          "base_uri": "https://localhost:8080/",
          "height": 34
        }
      },
      "source": [
        "# create a parameter grid: map the parameter names to the values that should be searched\n",
        "param_grid = dict(n_neighbors=k_range, weights=weight_options)\n",
        "print(param_grid)"
      ],
      "execution_count": 18,
      "outputs": [
        {
          "output_type": "stream",
          "text": [
            "{'n_neighbors': [1, 2, 3, 4, 5, 6, 7, 8, 9, 10, 11, 12, 13, 14, 15, 16, 17, 18, 19, 20, 21, 22, 23, 24, 25, 26, 27, 28, 29, 30], 'weights': ['uniform', 'distance']}\n"
          ],
          "name": "stdout"
        }
      ]
    },
    {
      "cell_type": "code",
      "metadata": {
        "id": "EhSpDAjMjWVN",
        "colab_type": "code",
        "outputId": "d6e26927-157e-4ab0-d962-b1f1d40e10d3",
        "colab": {
          "base_uri": "https://localhost:8080/",
          "height": 247
        }
      },
      "source": [
        "# instantiate and fit the grid\n",
        "grid = GridSearchCV(knn, param_grid, cv=10, scoring='accuracy')\n",
        "grid.fit(X, y)"
      ],
      "execution_count": 19,
      "outputs": [
        {
          "output_type": "execute_result",
          "data": {
            "text/plain": [
              "GridSearchCV(cv=10, error_score=nan,\n",
              "             estimator=KNeighborsClassifier(algorithm='auto', leaf_size=30,\n",
              "                                            metric='minkowski',\n",
              "                                            metric_params=None, n_jobs=None,\n",
              "                                            n_neighbors=30, p=2,\n",
              "                                            weights='uniform'),\n",
              "             iid='deprecated', n_jobs=None,\n",
              "             param_grid={'n_neighbors': [1, 2, 3, 4, 5, 6, 7, 8, 9, 10, 11, 12,\n",
              "                                         13, 14, 15, 16, 17, 18, 19, 20, 21, 22,\n",
              "                                         23, 24, 25, 26, 27, 28, 29, 30],\n",
              "                         'weights': ['uniform', 'distance']},\n",
              "             pre_dispatch='2*n_jobs', refit=True, return_train_score=False,\n",
              "             scoring='accuracy', verbose=0)"
            ]
          },
          "metadata": {
            "tags": []
          },
          "execution_count": 19
        }
      ]
    },
    {
      "cell_type": "code",
      "metadata": {
        "id": "WgFndhgkjWVQ",
        "colab_type": "code",
        "outputId": "bee38c39-14af-49ac-b8e0-fb863c31831f",
        "colab": {
          "base_uri": "https://localhost:8080/",
          "height": 1000
        }
      },
      "source": [
        "# view the complete results\n",
        "grid.cv_results_"
      ],
      "execution_count": 20,
      "outputs": [
        {
          "output_type": "execute_result",
          "data": {
            "text/plain": [
              "{'mean_fit_time': array([0.00078914, 0.00040274, 0.00046217, 0.00042005, 0.0004108 ,\n",
              "        0.00040903, 0.00047326, 0.00041049, 0.00041366, 0.00040128,\n",
              "        0.00042336, 0.00042605, 0.00043366, 0.00040753, 0.00043006,\n",
              "        0.00041983, 0.00040255, 0.00040314, 0.00040538, 0.00039721,\n",
              "        0.00041034, 0.00060482, 0.00041533, 0.00043433, 0.000406  ,\n",
              "        0.00045819, 0.00041633, 0.00040841, 0.00040998, 0.00040581,\n",
              "        0.00040648, 0.00039539, 0.000422  , 0.00041745, 0.00043952,\n",
              "        0.0004425 , 0.0004478 , 0.00043983, 0.00043595, 0.00041721,\n",
              "        0.00050838, 0.0004173 , 0.00045662, 0.00042746, 0.00041492,\n",
              "        0.00041459, 0.00042744, 0.00042481, 0.00048735, 0.00044777,\n",
              "        0.00041285, 0.0004585 , 0.00042706, 0.00043781, 0.00046346,\n",
              "        0.00046065, 0.00041401, 0.00042365, 0.00041928, 0.00044262]),\n",
              " 'mean_score_time': array([0.0020128 , 0.0007617 , 0.00128856, 0.00078661, 0.00113118,\n",
              "        0.00081978, 0.00126829, 0.00077555, 0.00112317, 0.00078888,\n",
              "        0.00112567, 0.00080183, 0.00112755, 0.00076275, 0.00127933,\n",
              "        0.00081177, 0.00110765, 0.00081909, 0.00111883, 0.00079091,\n",
              "        0.00113893, 0.00115449, 0.00113223, 0.00099194, 0.00112071,\n",
              "        0.00086257, 0.0011656 , 0.00079269, 0.00114112, 0.00079336,\n",
              "        0.00114112, 0.00080338, 0.0011518 , 0.00082626, 0.00117471,\n",
              "        0.00085185, 0.00134048, 0.00085387, 0.00118597, 0.0008595 ,\n",
              "        0.00128345, 0.00087159, 0.00120635, 0.00085154, 0.00119507,\n",
              "        0.00092874, 0.00115933, 0.00083036, 0.00140224, 0.00091872,\n",
              "        0.0012249 , 0.00106697, 0.00145576, 0.00090218, 0.00123572,\n",
              "        0.00090938, 0.00128269, 0.00090346, 0.0012161 , 0.00085037]),\n",
              " 'mean_test_score': array([0.96      , 0.96      , 0.95333333, 0.96      , 0.96666667,\n",
              "        0.96666667, 0.96666667, 0.96666667, 0.96666667, 0.96666667,\n",
              "        0.96666667, 0.96666667, 0.96666667, 0.96666667, 0.96666667,\n",
              "        0.96666667, 0.97333333, 0.97333333, 0.96666667, 0.97333333,\n",
              "        0.96666667, 0.97333333, 0.97333333, 0.97333333, 0.98      ,\n",
              "        0.97333333, 0.97333333, 0.97333333, 0.97333333, 0.98      ,\n",
              "        0.97333333, 0.97333333, 0.97333333, 0.98      , 0.98      ,\n",
              "        0.97333333, 0.97333333, 0.98      , 0.98      , 0.96666667,\n",
              "        0.96666667, 0.96666667, 0.96666667, 0.96666667, 0.97333333,\n",
              "        0.97333333, 0.96      , 0.97333333, 0.96666667, 0.97333333,\n",
              "        0.96      , 0.96666667, 0.96666667, 0.98      , 0.95333333,\n",
              "        0.97333333, 0.95333333, 0.97333333, 0.95333333, 0.96666667]),\n",
              " 'param_n_neighbors': masked_array(data=[1, 1, 2, 2, 3, 3, 4, 4, 5, 5, 6, 6, 7, 7, 8, 8, 9, 9,\n",
              "                    10, 10, 11, 11, 12, 12, 13, 13, 14, 14, 15, 15, 16, 16,\n",
              "                    17, 17, 18, 18, 19, 19, 20, 20, 21, 21, 22, 22, 23, 23,\n",
              "                    24, 24, 25, 25, 26, 26, 27, 27, 28, 28, 29, 29, 30, 30],\n",
              "              mask=[False, False, False, False, False, False, False, False,\n",
              "                    False, False, False, False, False, False, False, False,\n",
              "                    False, False, False, False, False, False, False, False,\n",
              "                    False, False, False, False, False, False, False, False,\n",
              "                    False, False, False, False, False, False, False, False,\n",
              "                    False, False, False, False, False, False, False, False,\n",
              "                    False, False, False, False, False, False, False, False,\n",
              "                    False, False, False, False],\n",
              "        fill_value='?',\n",
              "             dtype=object),\n",
              " 'param_weights': masked_array(data=['uniform', 'distance', 'uniform', 'distance',\n",
              "                    'uniform', 'distance', 'uniform', 'distance',\n",
              "                    'uniform', 'distance', 'uniform', 'distance',\n",
              "                    'uniform', 'distance', 'uniform', 'distance',\n",
              "                    'uniform', 'distance', 'uniform', 'distance',\n",
              "                    'uniform', 'distance', 'uniform', 'distance',\n",
              "                    'uniform', 'distance', 'uniform', 'distance',\n",
              "                    'uniform', 'distance', 'uniform', 'distance',\n",
              "                    'uniform', 'distance', 'uniform', 'distance',\n",
              "                    'uniform', 'distance', 'uniform', 'distance',\n",
              "                    'uniform', 'distance', 'uniform', 'distance',\n",
              "                    'uniform', 'distance', 'uniform', 'distance',\n",
              "                    'uniform', 'distance', 'uniform', 'distance',\n",
              "                    'uniform', 'distance', 'uniform', 'distance',\n",
              "                    'uniform', 'distance', 'uniform', 'distance'],\n",
              "              mask=[False, False, False, False, False, False, False, False,\n",
              "                    False, False, False, False, False, False, False, False,\n",
              "                    False, False, False, False, False, False, False, False,\n",
              "                    False, False, False, False, False, False, False, False,\n",
              "                    False, False, False, False, False, False, False, False,\n",
              "                    False, False, False, False, False, False, False, False,\n",
              "                    False, False, False, False, False, False, False, False,\n",
              "                    False, False, False, False],\n",
              "        fill_value='?',\n",
              "             dtype=object),\n",
              " 'params': [{'n_neighbors': 1, 'weights': 'uniform'},\n",
              "  {'n_neighbors': 1, 'weights': 'distance'},\n",
              "  {'n_neighbors': 2, 'weights': 'uniform'},\n",
              "  {'n_neighbors': 2, 'weights': 'distance'},\n",
              "  {'n_neighbors': 3, 'weights': 'uniform'},\n",
              "  {'n_neighbors': 3, 'weights': 'distance'},\n",
              "  {'n_neighbors': 4, 'weights': 'uniform'},\n",
              "  {'n_neighbors': 4, 'weights': 'distance'},\n",
              "  {'n_neighbors': 5, 'weights': 'uniform'},\n",
              "  {'n_neighbors': 5, 'weights': 'distance'},\n",
              "  {'n_neighbors': 6, 'weights': 'uniform'},\n",
              "  {'n_neighbors': 6, 'weights': 'distance'},\n",
              "  {'n_neighbors': 7, 'weights': 'uniform'},\n",
              "  {'n_neighbors': 7, 'weights': 'distance'},\n",
              "  {'n_neighbors': 8, 'weights': 'uniform'},\n",
              "  {'n_neighbors': 8, 'weights': 'distance'},\n",
              "  {'n_neighbors': 9, 'weights': 'uniform'},\n",
              "  {'n_neighbors': 9, 'weights': 'distance'},\n",
              "  {'n_neighbors': 10, 'weights': 'uniform'},\n",
              "  {'n_neighbors': 10, 'weights': 'distance'},\n",
              "  {'n_neighbors': 11, 'weights': 'uniform'},\n",
              "  {'n_neighbors': 11, 'weights': 'distance'},\n",
              "  {'n_neighbors': 12, 'weights': 'uniform'},\n",
              "  {'n_neighbors': 12, 'weights': 'distance'},\n",
              "  {'n_neighbors': 13, 'weights': 'uniform'},\n",
              "  {'n_neighbors': 13, 'weights': 'distance'},\n",
              "  {'n_neighbors': 14, 'weights': 'uniform'},\n",
              "  {'n_neighbors': 14, 'weights': 'distance'},\n",
              "  {'n_neighbors': 15, 'weights': 'uniform'},\n",
              "  {'n_neighbors': 15, 'weights': 'distance'},\n",
              "  {'n_neighbors': 16, 'weights': 'uniform'},\n",
              "  {'n_neighbors': 16, 'weights': 'distance'},\n",
              "  {'n_neighbors': 17, 'weights': 'uniform'},\n",
              "  {'n_neighbors': 17, 'weights': 'distance'},\n",
              "  {'n_neighbors': 18, 'weights': 'uniform'},\n",
              "  {'n_neighbors': 18, 'weights': 'distance'},\n",
              "  {'n_neighbors': 19, 'weights': 'uniform'},\n",
              "  {'n_neighbors': 19, 'weights': 'distance'},\n",
              "  {'n_neighbors': 20, 'weights': 'uniform'},\n",
              "  {'n_neighbors': 20, 'weights': 'distance'},\n",
              "  {'n_neighbors': 21, 'weights': 'uniform'},\n",
              "  {'n_neighbors': 21, 'weights': 'distance'},\n",
              "  {'n_neighbors': 22, 'weights': 'uniform'},\n",
              "  {'n_neighbors': 22, 'weights': 'distance'},\n",
              "  {'n_neighbors': 23, 'weights': 'uniform'},\n",
              "  {'n_neighbors': 23, 'weights': 'distance'},\n",
              "  {'n_neighbors': 24, 'weights': 'uniform'},\n",
              "  {'n_neighbors': 24, 'weights': 'distance'},\n",
              "  {'n_neighbors': 25, 'weights': 'uniform'},\n",
              "  {'n_neighbors': 25, 'weights': 'distance'},\n",
              "  {'n_neighbors': 26, 'weights': 'uniform'},\n",
              "  {'n_neighbors': 26, 'weights': 'distance'},\n",
              "  {'n_neighbors': 27, 'weights': 'uniform'},\n",
              "  {'n_neighbors': 27, 'weights': 'distance'},\n",
              "  {'n_neighbors': 28, 'weights': 'uniform'},\n",
              "  {'n_neighbors': 28, 'weights': 'distance'},\n",
              "  {'n_neighbors': 29, 'weights': 'uniform'},\n",
              "  {'n_neighbors': 29, 'weights': 'distance'},\n",
              "  {'n_neighbors': 30, 'weights': 'uniform'},\n",
              "  {'n_neighbors': 30, 'weights': 'distance'}],\n",
              " 'rank_test_score': array([52, 52, 57, 52, 43, 43, 43, 43, 29, 29, 29, 29, 29, 29, 29, 29,  8,\n",
              "         8, 29,  8, 29,  8,  8,  8,  1,  8,  8,  8,  8,  1,  8,  8,  8,  1,\n",
              "         1,  8,  8,  1,  1, 29, 43, 29, 43, 29,  8,  8, 52,  8, 43,  8, 52,\n",
              "        29, 43,  1, 57,  8, 57,  8, 57, 43], dtype=int32),\n",
              " 'split0_test_score': array([1.        , 1.        , 1.        , 1.        , 1.        ,\n",
              "        1.        , 1.        , 1.        , 1.        , 1.        ,\n",
              "        1.        , 1.        , 1.        , 1.        , 1.        ,\n",
              "        1.        , 1.        , 1.        , 1.        , 1.        ,\n",
              "        1.        , 1.        , 1.        , 1.        , 1.        ,\n",
              "        1.        , 1.        , 1.        , 0.93333333, 1.        ,\n",
              "        1.        , 1.        , 0.93333333, 1.        , 1.        ,\n",
              "        1.        , 0.93333333, 1.        , 1.        , 1.        ,\n",
              "        0.93333333, 1.        , 0.93333333, 1.        , 0.93333333,\n",
              "        1.        , 0.93333333, 1.        , 0.93333333, 1.        ,\n",
              "        0.93333333, 1.        , 0.93333333, 1.        , 0.93333333,\n",
              "        1.        , 0.93333333, 1.        , 0.93333333, 1.        ]),\n",
              " 'split1_test_score': array([0.93333333, 0.93333333, 0.93333333, 0.93333333, 0.93333333,\n",
              "        0.93333333, 0.93333333, 0.93333333, 0.93333333, 0.93333333,\n",
              "        0.93333333, 0.93333333, 0.93333333, 0.93333333, 0.93333333,\n",
              "        0.93333333, 0.93333333, 0.93333333, 0.93333333, 0.93333333,\n",
              "        0.93333333, 0.93333333, 0.93333333, 0.93333333, 0.93333333,\n",
              "        0.93333333, 0.93333333, 0.93333333, 0.93333333, 0.93333333,\n",
              "        0.93333333, 0.93333333, 0.93333333, 0.93333333, 0.93333333,\n",
              "        0.93333333, 0.93333333, 0.93333333, 0.93333333, 0.93333333,\n",
              "        0.93333333, 0.93333333, 0.93333333, 0.93333333, 0.93333333,\n",
              "        0.93333333, 0.93333333, 0.93333333, 0.93333333, 0.93333333,\n",
              "        0.93333333, 0.93333333, 0.93333333, 0.93333333, 0.93333333,\n",
              "        0.93333333, 0.93333333, 0.93333333, 0.93333333, 0.93333333]),\n",
              " 'split2_test_score': array([1., 1., 1., 1., 1., 1., 1., 1., 1., 1., 1., 1., 1., 1., 1., 1., 1.,\n",
              "        1., 1., 1., 1., 1., 1., 1., 1., 1., 1., 1., 1., 1., 1., 1., 1., 1.,\n",
              "        1., 1., 1., 1., 1., 1., 1., 1., 1., 1., 1., 1., 1., 1., 1., 1., 1.,\n",
              "        1., 1., 1., 1., 1., 1., 1., 1., 1.]),\n",
              " 'split3_test_score': array([0.93333333, 0.93333333, 0.93333333, 0.93333333, 0.93333333,\n",
              "        0.93333333, 0.93333333, 0.93333333, 1.        , 1.        ,\n",
              "        1.        , 1.        , 1.        , 1.        , 1.        ,\n",
              "        1.        , 1.        , 1.        , 1.        , 1.        ,\n",
              "        1.        , 1.        , 1.        , 1.        , 1.        ,\n",
              "        1.        , 1.        , 1.        , 1.        , 1.        ,\n",
              "        1.        , 1.        , 1.        , 1.        , 1.        ,\n",
              "        1.        , 1.        , 1.        , 1.        , 1.        ,\n",
              "        1.        , 1.        , 1.        , 1.        , 1.        ,\n",
              "        1.        , 1.        , 1.        , 1.        , 1.        ,\n",
              "        1.        , 1.        , 1.        , 1.        , 0.93333333,\n",
              "        1.        , 0.93333333, 0.93333333, 0.93333333, 0.93333333]),\n",
              " 'split4_test_score': array([0.86666667, 0.86666667, 0.86666667, 0.86666667, 0.86666667,\n",
              "        0.86666667, 0.86666667, 0.86666667, 0.86666667, 0.86666667,\n",
              "        0.86666667, 0.86666667, 0.86666667, 0.86666667, 1.        ,\n",
              "        0.86666667, 1.        , 0.93333333, 1.        , 0.93333333,\n",
              "        1.        , 0.93333333, 1.        , 0.86666667, 1.        ,\n",
              "        0.93333333, 1.        , 0.93333333, 1.        , 1.        ,\n",
              "        1.        , 0.93333333, 1.        , 1.        , 1.        ,\n",
              "        0.93333333, 1.        , 1.        , 1.        , 0.86666667,\n",
              "        0.93333333, 0.86666667, 1.        , 0.86666667, 1.        ,\n",
              "        0.93333333, 1.        , 0.93333333, 1.        , 0.93333333,\n",
              "        1.        , 0.86666667, 1.        , 1.        , 1.        ,\n",
              "        0.93333333, 1.        , 1.        , 1.        , 0.93333333]),\n",
              " 'split5_test_score': array([1.        , 1.        , 1.        , 1.        , 1.        ,\n",
              "        1.        , 1.        , 1.        , 0.93333333, 0.93333333,\n",
              "        0.93333333, 0.93333333, 0.93333333, 0.93333333, 0.86666667,\n",
              "        0.93333333, 0.93333333, 0.93333333, 0.86666667, 0.93333333,\n",
              "        0.86666667, 0.93333333, 0.93333333, 1.        , 0.93333333,\n",
              "        0.93333333, 0.86666667, 0.93333333, 0.93333333, 0.93333333,\n",
              "        0.93333333, 0.93333333, 0.93333333, 0.93333333, 0.93333333,\n",
              "        0.93333333, 0.93333333, 0.93333333, 0.93333333, 0.93333333,\n",
              "        0.93333333, 0.93333333, 0.93333333, 0.93333333, 0.93333333,\n",
              "        0.93333333, 0.86666667, 0.93333333, 0.93333333, 0.93333333,\n",
              "        0.86666667, 0.93333333, 0.86666667, 0.93333333, 0.86666667,\n",
              "        0.93333333, 0.86666667, 0.93333333, 0.86666667, 0.93333333]),\n",
              " 'split6_test_score': array([0.86666667, 0.86666667, 0.86666667, 0.86666667, 0.93333333,\n",
              "        0.93333333, 0.93333333, 0.93333333, 0.93333333, 0.93333333,\n",
              "        0.93333333, 0.93333333, 0.93333333, 0.93333333, 0.93333333,\n",
              "        0.93333333, 0.93333333, 0.93333333, 0.93333333, 0.93333333,\n",
              "        0.93333333, 0.93333333, 0.93333333, 0.93333333, 0.93333333,\n",
              "        0.93333333, 0.93333333, 0.93333333, 0.93333333, 0.93333333,\n",
              "        0.93333333, 0.93333333, 0.93333333, 0.93333333, 0.93333333,\n",
              "        0.93333333, 0.93333333, 0.93333333, 0.93333333, 0.93333333,\n",
              "        0.93333333, 0.93333333, 0.93333333, 0.93333333, 0.93333333,\n",
              "        0.93333333, 0.93333333, 0.93333333, 0.93333333, 0.93333333,\n",
              "        0.93333333, 0.93333333, 0.93333333, 0.93333333, 0.93333333,\n",
              "        0.93333333, 0.93333333, 0.93333333, 0.93333333, 0.93333333]),\n",
              " 'split7_test_score': array([1.        , 1.        , 0.93333333, 1.        , 1.        ,\n",
              "        1.        , 1.        , 1.        , 1.        , 1.        ,\n",
              "        1.        , 1.        , 1.        , 1.        , 0.93333333,\n",
              "        1.        , 0.93333333, 1.        , 0.93333333, 1.        ,\n",
              "        0.93333333, 1.        , 0.93333333, 1.        , 1.        ,\n",
              "        1.        , 1.        , 1.        , 1.        , 1.        ,\n",
              "        0.93333333, 1.        , 1.        , 1.        , 1.        ,\n",
              "        1.        , 1.        , 1.        , 1.        , 1.        ,\n",
              "        1.        , 1.        , 0.93333333, 1.        , 1.        ,\n",
              "        1.        , 0.93333333, 1.        , 0.93333333, 1.        ,\n",
              "        0.93333333, 1.        , 1.        , 1.        , 0.93333333,\n",
              "        1.        , 0.93333333, 1.        , 0.93333333, 1.        ]),\n",
              " 'split8_test_score': array([1., 1., 1., 1., 1., 1., 1., 1., 1., 1., 1., 1., 1., 1., 1., 1., 1.,\n",
              "        1., 1., 1., 1., 1., 1., 1., 1., 1., 1., 1., 1., 1., 1., 1., 1., 1.,\n",
              "        1., 1., 1., 1., 1., 1., 1., 1., 1., 1., 1., 1., 1., 1., 1., 1., 1.,\n",
              "        1., 1., 1., 1., 1., 1., 1., 1., 1.]),\n",
              " 'split9_test_score': array([1., 1., 1., 1., 1., 1., 1., 1., 1., 1., 1., 1., 1., 1., 1., 1., 1.,\n",
              "        1., 1., 1., 1., 1., 1., 1., 1., 1., 1., 1., 1., 1., 1., 1., 1., 1.,\n",
              "        1., 1., 1., 1., 1., 1., 1., 1., 1., 1., 1., 1., 1., 1., 1., 1., 1.,\n",
              "        1., 1., 1., 1., 1., 1., 1., 1., 1.]),\n",
              " 'std_fit_time': array([3.34672066e-04, 1.40577223e-05, 1.03043685e-04, 1.19945162e-05,\n",
              "        1.35588711e-05, 1.84321464e-05, 6.87943992e-05, 1.19166605e-05,\n",
              "        3.50635842e-05, 1.54054013e-05, 4.60219563e-05, 3.70933645e-05,\n",
              "        6.49313599e-05, 2.27589360e-05, 3.58289742e-05, 2.05650225e-05,\n",
              "        1.48820564e-05, 1.70576622e-05, 2.34657786e-05, 1.51803564e-05,\n",
              "        1.76843114e-05, 1.77749703e-04, 1.73967161e-05, 4.77750678e-05,\n",
              "        1.46162257e-05, 7.24952297e-05, 2.55205457e-05, 2.78317313e-05,\n",
              "        1.34630308e-05, 1.45702625e-05, 1.45159327e-05, 1.07733545e-05,\n",
              "        2.98196742e-05, 2.62804875e-05, 5.49994250e-05, 6.90654634e-05,\n",
              "        7.40674705e-05, 7.21616910e-05, 3.06069009e-05, 1.57873611e-05,\n",
              "        9.78442108e-05, 1.84663001e-05, 5.89501496e-05, 4.91969618e-05,\n",
              "        1.47604209e-05, 1.39377837e-05, 3.44888442e-05, 3.48105496e-05,\n",
              "        1.02302156e-04, 6.60295897e-05, 2.47140610e-05, 7.28195641e-05,\n",
              "        1.58309937e-05, 7.02196793e-05, 6.90780094e-05, 5.59853785e-05,\n",
              "        1.86562348e-05, 2.65184166e-05, 2.44132243e-05, 6.03298181e-05]),\n",
              " 'std_score_time': array([6.99342754e-04, 2.90823370e-05, 2.04662075e-04, 4.03629417e-05,\n",
              "        4.21045118e-05, 1.04614215e-04, 2.27620159e-04, 1.99408174e-05,\n",
              "        7.61433284e-05, 4.71771031e-05, 7.20040845e-05, 7.60590730e-05,\n",
              "        5.19709903e-05, 2.19435259e-05, 2.97325681e-04, 6.00853419e-05,\n",
              "        2.20525716e-05, 7.02634762e-05, 3.74408349e-05, 2.10425299e-05,\n",
              "        6.78164874e-05, 4.09038103e-04, 2.68917662e-05, 1.29783751e-04,\n",
              "        1.87146284e-05, 1.23667671e-04, 6.78209674e-05, 3.78127357e-05,\n",
              "        5.10681020e-05, 3.22930374e-05, 7.06270363e-05, 4.03491590e-05,\n",
              "        5.12593291e-05, 7.43258363e-05, 7.38952569e-05, 8.50801936e-05,\n",
              "        2.34788976e-04, 4.03747908e-05, 4.88359067e-05, 9.90357603e-05,\n",
              "        1.26672480e-04, 1.15977935e-04, 9.93979495e-05, 7.95861216e-05,\n",
              "        6.29409922e-05, 1.19485687e-04, 2.18660385e-05, 1.80187671e-05,\n",
              "        4.63861580e-04, 1.72852621e-04, 1.16887767e-04, 1.21299247e-04,\n",
              "        2.52031116e-04, 9.67733935e-05, 1.11009339e-04, 7.49860961e-05,\n",
              "        1.09930357e-04, 8.90714198e-05, 6.92072957e-05, 3.37885562e-05]),\n",
              " 'std_test_score': array([0.05333333, 0.05333333, 0.05206833, 0.05333333, 0.04472136,\n",
              "        0.04472136, 0.04472136, 0.04472136, 0.04472136, 0.04472136,\n",
              "        0.04472136, 0.04472136, 0.04472136, 0.04472136, 0.04472136,\n",
              "        0.04472136, 0.03265986, 0.03265986, 0.04472136, 0.03265986,\n",
              "        0.04472136, 0.03265986, 0.03265986, 0.04422166, 0.0305505 ,\n",
              "        0.03265986, 0.04422166, 0.03265986, 0.03265986, 0.0305505 ,\n",
              "        0.03265986, 0.03265986, 0.03265986, 0.0305505 , 0.0305505 ,\n",
              "        0.03265986, 0.03265986, 0.0305505 , 0.0305505 , 0.04472136,\n",
              "        0.03333333, 0.04472136, 0.03333333, 0.04472136, 0.03265986,\n",
              "        0.03265986, 0.04422166, 0.03265986, 0.03333333, 0.03265986,\n",
              "        0.04422166, 0.04472136, 0.04472136, 0.0305505 , 0.04268749,\n",
              "        0.03265986, 0.04268749, 0.03265986, 0.04268749, 0.03333333])}"
            ]
          },
          "metadata": {
            "tags": []
          },
          "execution_count": 20
        }
      ]
    },
    {
      "cell_type": "code",
      "metadata": {
        "id": "2dUV-RvJjWVU",
        "colab_type": "code",
        "outputId": "5f395323-f475-4b4c-d3b2-7a2d09d09bb0",
        "colab": {
          "base_uri": "https://localhost:8080/",
          "height": 52
        }
      },
      "source": [
        "# examine the best model\n",
        "print(grid.best_score_)\n",
        "print(grid.best_params_)"
      ],
      "execution_count": 21,
      "outputs": [
        {
          "output_type": "stream",
          "text": [
            "0.9800000000000001\n",
            "{'n_neighbors': 13, 'weights': 'uniform'}\n"
          ],
          "name": "stdout"
        }
      ]
    },
    {
      "cell_type": "markdown",
      "metadata": {
        "id": "QBF2QpySjWVZ",
        "colab_type": "text"
      },
      "source": [
        "## Using the best parameters to make predictions"
      ]
    },
    {
      "cell_type": "code",
      "metadata": {
        "id": "lVGrulx8jWVa",
        "colab_type": "code",
        "outputId": "08669988-af56-49b0-99f9-787f0ed9ccd1",
        "colab": {
          "base_uri": "https://localhost:8080/",
          "height": 34
        }
      },
      "source": [
        "# train your model using all data and the best known parameters\n",
        "knn = KNeighborsClassifier(n_neighbors=grid.best_params_[\"n_neighbors\"], weights=grid.best_params_[\"weights\"])\n",
        "knn.fit(X, y)\n",
        "\n",
        "# make a prediction on out-of-sample data\n",
        "knn.predict([[3, 5, 4, 2]])"
      ],
      "execution_count": 22,
      "outputs": [
        {
          "output_type": "execute_result",
          "data": {
            "text/plain": [
              "array([1])"
            ]
          },
          "metadata": {
            "tags": []
          },
          "execution_count": 22
        }
      ]
    },
    {
      "cell_type": "code",
      "metadata": {
        "id": "2drqfW5WjWVe",
        "colab_type": "code",
        "outputId": "9f519250-f42a-435d-f344-5379639af054",
        "colab": {
          "base_uri": "https://localhost:8080/",
          "height": 34
        }
      },
      "source": [
        "# shortcut: GridSearchCV automatically refits the best model using all of the data\n",
        "grid.predict([[3, 5, 4, 2]])"
      ],
      "execution_count": 23,
      "outputs": [
        {
          "output_type": "execute_result",
          "data": {
            "text/plain": [
              "array([1])"
            ]
          },
          "metadata": {
            "tags": []
          },
          "execution_count": 23
        }
      ]
    },
    {
      "cell_type": "markdown",
      "metadata": {
        "id": "_E2FUPeCjWVh",
        "colab_type": "text"
      },
      "source": [
        "## Reducing computational expense using `RandomizedSearchCV`"
      ]
    },
    {
      "cell_type": "markdown",
      "metadata": {
        "id": "R9yWQ9SEjWVj",
        "colab_type": "text"
      },
      "source": [
        "- Searching many different parameters at once may be computationally infeasible\n",
        "- `RandomizedSearchCV` searches a subset of the parameters, and you control the computational \"budget\""
      ]
    },
    {
      "cell_type": "code",
      "metadata": {
        "id": "nWRUwtS6jWVl",
        "colab_type": "code",
        "colab": {}
      },
      "source": [
        "from sklearn.model_selection import RandomizedSearchCV"
      ],
      "execution_count": 0,
      "outputs": []
    },
    {
      "cell_type": "code",
      "metadata": {
        "id": "0259sCJtjWVr",
        "colab_type": "code",
        "colab": {}
      },
      "source": [
        "# specify \"parameter distributions\" rather than a \"parameter grid\"\n",
        "param_dist = dict(n_neighbors=k_range, weights=weight_options)"
      ],
      "execution_count": 0,
      "outputs": []
    },
    {
      "cell_type": "markdown",
      "metadata": {
        "id": "5vB7Ka5pjWVw",
        "colab_type": "text"
      },
      "source": [
        "- **Important:** Specify a continuous distribution (rather than a list of values) for any continous parameters"
      ]
    },
    {
      "cell_type": "code",
      "metadata": {
        "id": "YkiUOv4rjWVx",
        "colab_type": "code",
        "outputId": "9affb7cf-f179-472c-80f0-61186c561e73",
        "colab": {
          "base_uri": "https://localhost:8080/",
          "height": 976
        }
      },
      "source": [
        "# n_iter controls the number of searches\n",
        "rand = RandomizedSearchCV(knn, param_dist, cv=10, scoring='accuracy', n_iter=10, random_state=5)\n",
        "rand.fit(X, y)\n",
        "rand.cv_results_"
      ],
      "execution_count": 26,
      "outputs": [
        {
          "output_type": "execute_result",
          "data": {
            "text/plain": [
              "{'mean_fit_time': array([0.00066526, 0.0009223 , 0.0004029 , 0.00041897, 0.00041988,\n",
              "        0.00043662, 0.00049982, 0.0004225 , 0.00040522, 0.00041893]),\n",
              " 'mean_score_time': array([0.00131927, 0.00211279, 0.00112467, 0.00119743, 0.00118899,\n",
              "        0.00098348, 0.0009397 , 0.00113876, 0.00079384, 0.00115194]),\n",
              " 'mean_test_score': array([0.97333333, 0.96666667, 0.98      , 0.96666667, 0.95333333,\n",
              "        0.97333333, 0.96666667, 0.97333333, 0.97333333, 0.97333333]),\n",
              " 'param_n_neighbors': masked_array(data=[16, 22, 18, 27, 29, 10, 22, 14, 12, 15],\n",
              "              mask=[False, False, False, False, False, False, False, False,\n",
              "                    False, False],\n",
              "        fill_value='?',\n",
              "             dtype=object),\n",
              " 'param_weights': masked_array(data=['distance', 'uniform', 'uniform', 'uniform', 'uniform',\n",
              "                    'distance', 'distance', 'uniform', 'distance',\n",
              "                    'uniform'],\n",
              "              mask=[False, False, False, False, False, False, False, False,\n",
              "                    False, False],\n",
              "        fill_value='?',\n",
              "             dtype=object),\n",
              " 'params': [{'n_neighbors': 16, 'weights': 'distance'},\n",
              "  {'n_neighbors': 22, 'weights': 'uniform'},\n",
              "  {'n_neighbors': 18, 'weights': 'uniform'},\n",
              "  {'n_neighbors': 27, 'weights': 'uniform'},\n",
              "  {'n_neighbors': 29, 'weights': 'uniform'},\n",
              "  {'n_neighbors': 10, 'weights': 'distance'},\n",
              "  {'n_neighbors': 22, 'weights': 'distance'},\n",
              "  {'n_neighbors': 14, 'weights': 'uniform'},\n",
              "  {'n_neighbors': 12, 'weights': 'distance'},\n",
              "  {'n_neighbors': 15, 'weights': 'uniform'}],\n",
              " 'rank_test_score': array([ 2,  8,  1,  8, 10,  2,  7,  2,  2,  2], dtype=int32),\n",
              " 'split0_test_score': array([1.        , 0.93333333, 1.        , 0.93333333, 0.93333333,\n",
              "        1.        , 1.        , 1.        , 1.        , 0.93333333]),\n",
              " 'split1_test_score': array([0.93333333, 0.93333333, 0.93333333, 0.93333333, 0.93333333,\n",
              "        0.93333333, 0.93333333, 0.93333333, 0.93333333, 0.93333333]),\n",
              " 'split2_test_score': array([1., 1., 1., 1., 1., 1., 1., 1., 1., 1.]),\n",
              " 'split3_test_score': array([1.        , 1.        , 1.        , 1.        , 0.93333333,\n",
              "        1.        , 1.        , 1.        , 1.        , 1.        ]),\n",
              " 'split4_test_score': array([0.93333333, 1.        , 1.        , 1.        , 1.        ,\n",
              "        0.93333333, 0.86666667, 1.        , 0.86666667, 1.        ]),\n",
              " 'split5_test_score': array([0.93333333, 0.93333333, 0.93333333, 0.86666667, 0.86666667,\n",
              "        0.93333333, 0.93333333, 0.86666667, 1.        , 0.93333333]),\n",
              " 'split6_test_score': array([0.93333333, 0.93333333, 0.93333333, 0.93333333, 0.93333333,\n",
              "        0.93333333, 0.93333333, 0.93333333, 0.93333333, 0.93333333]),\n",
              " 'split7_test_score': array([1.        , 0.93333333, 1.        , 1.        , 0.93333333,\n",
              "        1.        , 1.        , 1.        , 1.        , 1.        ]),\n",
              " 'split8_test_score': array([1., 1., 1., 1., 1., 1., 1., 1., 1., 1.]),\n",
              " 'split9_test_score': array([1., 1., 1., 1., 1., 1., 1., 1., 1., 1.]),\n",
              " 'std_fit_time': array([9.33856114e-05, 7.50590931e-04, 1.22355198e-05, 2.85224861e-05,\n",
              "        1.66690056e-05, 4.75129467e-05, 2.27367568e-04, 3.68987626e-05,\n",
              "        1.63997325e-05, 3.72194922e-05]),\n",
              " 'std_score_time': array([2.76244491e-04, 1.10057329e-03, 3.26087942e-05, 8.56753241e-05,\n",
              "        8.76247151e-05, 2.12370203e-04, 2.09043643e-04, 6.64390963e-05,\n",
              "        3.04652302e-05, 3.92896457e-05]),\n",
              " 'std_test_score': array([0.03265986, 0.03333333, 0.0305505 , 0.04472136, 0.04268749,\n",
              "        0.03265986, 0.04472136, 0.04422166, 0.04422166, 0.03265986])}"
            ]
          },
          "metadata": {
            "tags": []
          },
          "execution_count": 26
        }
      ]
    },
    {
      "cell_type": "code",
      "metadata": {
        "id": "parGdDIijWV1",
        "colab_type": "code",
        "outputId": "be7dd692-be48-488f-e770-fc966136fef4",
        "colab": {
          "base_uri": "https://localhost:8080/",
          "height": 52
        }
      },
      "source": [
        "# examine the best model\n",
        "print(rand.best_score_)\n",
        "print(rand.best_params_)"
      ],
      "execution_count": 27,
      "outputs": [
        {
          "output_type": "stream",
          "text": [
            "0.9800000000000001\n",
            "{'weights': 'uniform', 'n_neighbors': 18}\n"
          ],
          "name": "stdout"
        }
      ]
    },
    {
      "cell_type": "code",
      "metadata": {
        "id": "m8UCQb9qjWV9",
        "colab_type": "code",
        "outputId": "7a52b7eb-a786-47ce-b4f4-70909a5c3036",
        "colab": {
          "base_uri": "https://localhost:8080/",
          "height": 34
        }
      },
      "source": [
        "# run RandomizedSearchCV 20 times (with n_iter=10) and record the best score\n",
        "best_scores = []\n",
        "for _ in range(20):\n",
        "    rand = RandomizedSearchCV(knn, param_dist, cv=10, scoring='accuracy', n_iter=10)\n",
        "    rand.fit(X, y)\n",
        "    best_scores.append(round(rand.best_score_, 3))\n",
        "print(best_scores)"
      ],
      "execution_count": 28,
      "outputs": [
        {
          "output_type": "stream",
          "text": [
            "[0.973, 0.973, 0.98, 0.98, 0.973, 0.98, 0.98, 0.98, 0.973, 0.973, 0.98, 0.98, 0.98, 0.98, 0.98, 0.973, 0.98, 0.98, 0.98, 0.98]\n"
          ],
          "name": "stdout"
        }
      ]
    },
    {
      "cell_type": "code",
      "metadata": {
        "id": "UylZfQeMjWWB",
        "colab_type": "code",
        "colab": {}
      },
      "source": [
        ""
      ],
      "execution_count": 0,
      "outputs": []
    },
    {
      "cell_type": "code",
      "metadata": {
        "id": "-61YCqa4jWWG",
        "colab_type": "code",
        "colab": {}
      },
      "source": [
        ""
      ],
      "execution_count": 0,
      "outputs": []
    }
  ]
}