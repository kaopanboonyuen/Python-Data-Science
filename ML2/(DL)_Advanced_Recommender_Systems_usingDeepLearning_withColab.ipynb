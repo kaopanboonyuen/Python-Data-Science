{
  "nbformat": 4,
  "nbformat_minor": 0,
  "metadata": {
    "colab": {
      "name": "(DL)_Advanced_Recommender_Systems_usingDeepLearning_withColab.ipynb",
      "provenance": [],
      "collapsed_sections": []
    },
    "kernelspec": {
      "name": "python3",
      "display_name": "Python 3"
    },
    "accelerator": "GPU"
  },
  "cells": [
    {
      "cell_type": "markdown",
      "metadata": {
        "id": "uADom80sNB0J",
        "colab_type": "text"
      },
      "source": [
        "# Advanced Recommender Systems with Deep Learning\n",
        "\n",
        "Welcome to the code notebook for creating Advanced Recommender Systems with Python. This is an optional lecture notebook for you to check out. Currently there is no video for this lecture because of the level of mathematics used and the heavy use of SciPy here.\n",
        "\n",
        "Recommendation Systems usually rely on larger data sets and specifically need to be organized in a particular fashion. Because of this, we won't have a project to go along with this topic, instead we will have a more intensive walkthrough process on creating a recommendation system with Python with the same Movie Lens Data Set.\n",
        "\n",
        "*Note: The actual mathematics behind recommender systems is pretty heavy in Linear Algebra.*\n",
        "\n",
        "![](https://miro.medium.com/max/2728/1*x8gTiprhLs7zflmEn1UjAQ.png)\n",
        "___"
      ]
    },
    {
      "cell_type": "markdown",
      "metadata": {
        "id": "DjNjm1kMNB0L",
        "colab_type": "text"
      },
      "source": [
        "## Methods Used\n",
        "\n",
        "Deep Learning\n",
        "\n",
        "![](https://4.bp.blogspot.com/-ddjdiyQZY_I/W6Tkxi1ggiI/AAAAAAAACjY/k5VvkVF6nXUBLJjLklutMCwhER4LCb2fACLcBGAs/s1600/keras.PNG)"
      ]
    },
    {
      "cell_type": "code",
      "metadata": {
        "id": "dwqTi9WbNB0M",
        "colab_type": "code",
        "colab": {}
      },
      "source": [
        "%matplotlib inline\n",
        "import numpy as np\n",
        "import pandas as pd\n",
        "from sklearn.model_selection import train_test_split\n",
        "from sklearn.preprocessing import LabelEncoder\n",
        "import matplotlib.pyplot as plt\n",
        "from keras import backend"
      ],
      "execution_count": 0,
      "outputs": []
    },
    {
      "cell_type": "markdown",
      "metadata": {
        "id": "kf7TpdN1NB0R",
        "colab_type": "text"
      },
      "source": [
        "We can then read in the **u.data** file, which contains the full dataset. You can read a brief description of the dataset [here](http://files.grouplens.org/datasets/movielens/ml-100k-README.txt).\n",
        "\n",
        "Note how we specify the separator argument for a Tab separated file."
      ]
    },
    {
      "cell_type": "code",
      "metadata": {
        "id": "sx1XJq6dNB0S",
        "colab_type": "code",
        "colab": {}
      },
      "source": [
        "column_names = ['user_id', 'item_id', 'rating', 'timestamp']\n",
        "ratings = pd.read_csv('https://github.com/davidjohnnn/all_datasets/raw/master/bay/u.data', sep='\\t', names=column_names)\n",
        "# df.rename(columns={'oldName1': 'newName1', 'oldName2': 'newName2'}, inplace=True)\n",
        "ratings.rename(columns={'user_id': 'userId', 'item_id': 'movieId'}, inplace=True)"
      ],
      "execution_count": 0,
      "outputs": []
    },
    {
      "cell_type": "markdown",
      "metadata": {
        "id": "C_hMh7WONB0Z",
        "colab_type": "text"
      },
      "source": [
        "Let's take a quick look at the data."
      ]
    },
    {
      "cell_type": "code",
      "metadata": {
        "id": "oKxqeRz0NB0b",
        "colab_type": "code",
        "outputId": "ec160be1-6af6-4ce9-be66-3c409083aa03",
        "colab": {
          "base_uri": "https://localhost:8080/",
          "height": 197
        }
      },
      "source": [
        "ratings.head()"
      ],
      "execution_count": 308,
      "outputs": [
        {
          "output_type": "execute_result",
          "data": {
            "text/html": [
              "<div>\n",
              "<style scoped>\n",
              "    .dataframe tbody tr th:only-of-type {\n",
              "        vertical-align: middle;\n",
              "    }\n",
              "\n",
              "    .dataframe tbody tr th {\n",
              "        vertical-align: top;\n",
              "    }\n",
              "\n",
              "    .dataframe thead th {\n",
              "        text-align: right;\n",
              "    }\n",
              "</style>\n",
              "<table border=\"1\" class=\"dataframe\">\n",
              "  <thead>\n",
              "    <tr style=\"text-align: right;\">\n",
              "      <th></th>\n",
              "      <th>userId</th>\n",
              "      <th>movieId</th>\n",
              "      <th>rating</th>\n",
              "      <th>timestamp</th>\n",
              "    </tr>\n",
              "  </thead>\n",
              "  <tbody>\n",
              "    <tr>\n",
              "      <th>0</th>\n",
              "      <td>0</td>\n",
              "      <td>50</td>\n",
              "      <td>5</td>\n",
              "      <td>881250949</td>\n",
              "    </tr>\n",
              "    <tr>\n",
              "      <th>1</th>\n",
              "      <td>0</td>\n",
              "      <td>172</td>\n",
              "      <td>5</td>\n",
              "      <td>881250949</td>\n",
              "    </tr>\n",
              "    <tr>\n",
              "      <th>2</th>\n",
              "      <td>0</td>\n",
              "      <td>133</td>\n",
              "      <td>1</td>\n",
              "      <td>881250949</td>\n",
              "    </tr>\n",
              "    <tr>\n",
              "      <th>3</th>\n",
              "      <td>196</td>\n",
              "      <td>242</td>\n",
              "      <td>3</td>\n",
              "      <td>881250949</td>\n",
              "    </tr>\n",
              "    <tr>\n",
              "      <th>4</th>\n",
              "      <td>186</td>\n",
              "      <td>302</td>\n",
              "      <td>3</td>\n",
              "      <td>891717742</td>\n",
              "    </tr>\n",
              "  </tbody>\n",
              "</table>\n",
              "</div>"
            ],
            "text/plain": [
              "   userId  movieId  rating  timestamp\n",
              "0       0       50       5  881250949\n",
              "1       0      172       5  881250949\n",
              "2       0      133       1  881250949\n",
              "3     196      242       3  881250949\n",
              "4     186      302       3  891717742"
            ]
          },
          "metadata": {
            "tags": []
          },
          "execution_count": 308
        }
      ]
    },
    {
      "cell_type": "markdown",
      "metadata": {
        "id": "hbyDIjyjNB0k",
        "colab_type": "text"
      },
      "source": [
        "Note how we only have the item_id, not the movie name. We can use the Movie_ID_Titles csv file to grab the movie names and merge it with this dataframe:"
      ]
    },
    {
      "cell_type": "code",
      "metadata": {
        "id": "X00A-AwPNB0m",
        "colab_type": "code",
        "outputId": "e8110fa2-6939-4065-a9e4-d5c4bb5b33e0",
        "colab": {
          "base_uri": "https://localhost:8080/",
          "height": 197
        }
      },
      "source": [
        "movies = pd.read_csv(\"https://github.com/davidjohnnn/all_datasets/raw/master/bay/Movie_Id_Titles\")\n",
        "movies.rename(columns={'item_id': 'movieId'}, inplace=True)\n",
        "movies.head()"
      ],
      "execution_count": 309,
      "outputs": [
        {
          "output_type": "execute_result",
          "data": {
            "text/html": [
              "<div>\n",
              "<style scoped>\n",
              "    .dataframe tbody tr th:only-of-type {\n",
              "        vertical-align: middle;\n",
              "    }\n",
              "\n",
              "    .dataframe tbody tr th {\n",
              "        vertical-align: top;\n",
              "    }\n",
              "\n",
              "    .dataframe thead th {\n",
              "        text-align: right;\n",
              "    }\n",
              "</style>\n",
              "<table border=\"1\" class=\"dataframe\">\n",
              "  <thead>\n",
              "    <tr style=\"text-align: right;\">\n",
              "      <th></th>\n",
              "      <th>movieId</th>\n",
              "      <th>title</th>\n",
              "    </tr>\n",
              "  </thead>\n",
              "  <tbody>\n",
              "    <tr>\n",
              "      <th>0</th>\n",
              "      <td>1</td>\n",
              "      <td>Toy Story (1995)</td>\n",
              "    </tr>\n",
              "    <tr>\n",
              "      <th>1</th>\n",
              "      <td>2</td>\n",
              "      <td>GoldenEye (1995)</td>\n",
              "    </tr>\n",
              "    <tr>\n",
              "      <th>2</th>\n",
              "      <td>3</td>\n",
              "      <td>Four Rooms (1995)</td>\n",
              "    </tr>\n",
              "    <tr>\n",
              "      <th>3</th>\n",
              "      <td>4</td>\n",
              "      <td>Get Shorty (1995)</td>\n",
              "    </tr>\n",
              "    <tr>\n",
              "      <th>4</th>\n",
              "      <td>5</td>\n",
              "      <td>Copycat (1995)</td>\n",
              "    </tr>\n",
              "  </tbody>\n",
              "</table>\n",
              "</div>"
            ],
            "text/plain": [
              "   movieId              title\n",
              "0        1   Toy Story (1995)\n",
              "1        2   GoldenEye (1995)\n",
              "2        3  Four Rooms (1995)\n",
              "3        4  Get Shorty (1995)\n",
              "4        5     Copycat (1995)"
            ]
          },
          "metadata": {
            "tags": []
          },
          "execution_count": 309
        }
      ]
    },
    {
      "cell_type": "markdown",
      "metadata": {
        "id": "yMlkEvx0NB0t",
        "colab_type": "text"
      },
      "source": [
        "Then merge the dataframes:"
      ]
    },
    {
      "cell_type": "code",
      "metadata": {
        "id": "SXcGJnPdNB0u",
        "colab_type": "code",
        "outputId": "ceb31ea6-e7c1-4242-f1b3-14dbf2454880",
        "colab": {
          "base_uri": "https://localhost:8080/",
          "height": 197
        }
      },
      "source": [
        "df = pd.merge(ratings,movies,on='movieId')\n",
        "df.head()"
      ],
      "execution_count": 310,
      "outputs": [
        {
          "output_type": "execute_result",
          "data": {
            "text/html": [
              "<div>\n",
              "<style scoped>\n",
              "    .dataframe tbody tr th:only-of-type {\n",
              "        vertical-align: middle;\n",
              "    }\n",
              "\n",
              "    .dataframe tbody tr th {\n",
              "        vertical-align: top;\n",
              "    }\n",
              "\n",
              "    .dataframe thead th {\n",
              "        text-align: right;\n",
              "    }\n",
              "</style>\n",
              "<table border=\"1\" class=\"dataframe\">\n",
              "  <thead>\n",
              "    <tr style=\"text-align: right;\">\n",
              "      <th></th>\n",
              "      <th>userId</th>\n",
              "      <th>movieId</th>\n",
              "      <th>rating</th>\n",
              "      <th>timestamp</th>\n",
              "      <th>title</th>\n",
              "    </tr>\n",
              "  </thead>\n",
              "  <tbody>\n",
              "    <tr>\n",
              "      <th>0</th>\n",
              "      <td>0</td>\n",
              "      <td>50</td>\n",
              "      <td>5</td>\n",
              "      <td>881250949</td>\n",
              "      <td>Star Wars (1977)</td>\n",
              "    </tr>\n",
              "    <tr>\n",
              "      <th>1</th>\n",
              "      <td>290</td>\n",
              "      <td>50</td>\n",
              "      <td>5</td>\n",
              "      <td>880473582</td>\n",
              "      <td>Star Wars (1977)</td>\n",
              "    </tr>\n",
              "    <tr>\n",
              "      <th>2</th>\n",
              "      <td>79</td>\n",
              "      <td>50</td>\n",
              "      <td>4</td>\n",
              "      <td>891271545</td>\n",
              "      <td>Star Wars (1977)</td>\n",
              "    </tr>\n",
              "    <tr>\n",
              "      <th>3</th>\n",
              "      <td>2</td>\n",
              "      <td>50</td>\n",
              "      <td>5</td>\n",
              "      <td>888552084</td>\n",
              "      <td>Star Wars (1977)</td>\n",
              "    </tr>\n",
              "    <tr>\n",
              "      <th>4</th>\n",
              "      <td>8</td>\n",
              "      <td>50</td>\n",
              "      <td>5</td>\n",
              "      <td>879362124</td>\n",
              "      <td>Star Wars (1977)</td>\n",
              "    </tr>\n",
              "  </tbody>\n",
              "</table>\n",
              "</div>"
            ],
            "text/plain": [
              "   userId  movieId  rating  timestamp             title\n",
              "0       0       50       5  881250949  Star Wars (1977)\n",
              "1     290       50       5  880473582  Star Wars (1977)\n",
              "2      79       50       4  891271545  Star Wars (1977)\n",
              "3       2       50       5  888552084  Star Wars (1977)\n",
              "4       8       50       5  879362124  Star Wars (1977)"
            ]
          },
          "metadata": {
            "tags": []
          },
          "execution_count": 310
        }
      ]
    },
    {
      "cell_type": "code",
      "metadata": {
        "id": "5iraAGLbD0Vl",
        "colab_type": "code",
        "outputId": "bbdfcff9-786c-4837-a48b-d6345cd9ce30",
        "colab": {
          "base_uri": "https://localhost:8080/",
          "height": 287
        }
      },
      "source": [
        "df.describe()"
      ],
      "execution_count": 311,
      "outputs": [
        {
          "output_type": "execute_result",
          "data": {
            "text/html": [
              "<div>\n",
              "<style scoped>\n",
              "    .dataframe tbody tr th:only-of-type {\n",
              "        vertical-align: middle;\n",
              "    }\n",
              "\n",
              "    .dataframe tbody tr th {\n",
              "        vertical-align: top;\n",
              "    }\n",
              "\n",
              "    .dataframe thead th {\n",
              "        text-align: right;\n",
              "    }\n",
              "</style>\n",
              "<table border=\"1\" class=\"dataframe\">\n",
              "  <thead>\n",
              "    <tr style=\"text-align: right;\">\n",
              "      <th></th>\n",
              "      <th>userId</th>\n",
              "      <th>movieId</th>\n",
              "      <th>rating</th>\n",
              "      <th>timestamp</th>\n",
              "    </tr>\n",
              "  </thead>\n",
              "  <tbody>\n",
              "    <tr>\n",
              "      <th>count</th>\n",
              "      <td>100003.000000</td>\n",
              "      <td>100003.000000</td>\n",
              "      <td>100003.000000</td>\n",
              "      <td>1.000030e+05</td>\n",
              "    </tr>\n",
              "    <tr>\n",
              "      <th>mean</th>\n",
              "      <td>462.470876</td>\n",
              "      <td>425.520914</td>\n",
              "      <td>3.529864</td>\n",
              "      <td>8.835288e+08</td>\n",
              "    </tr>\n",
              "    <tr>\n",
              "      <th>std</th>\n",
              "      <td>266.622454</td>\n",
              "      <td>330.797791</td>\n",
              "      <td>1.125704</td>\n",
              "      <td>5.343791e+06</td>\n",
              "    </tr>\n",
              "    <tr>\n",
              "      <th>min</th>\n",
              "      <td>0.000000</td>\n",
              "      <td>1.000000</td>\n",
              "      <td>1.000000</td>\n",
              "      <td>8.747247e+08</td>\n",
              "    </tr>\n",
              "    <tr>\n",
              "      <th>25%</th>\n",
              "      <td>254.000000</td>\n",
              "      <td>175.000000</td>\n",
              "      <td>3.000000</td>\n",
              "      <td>8.794487e+08</td>\n",
              "    </tr>\n",
              "    <tr>\n",
              "      <th>50%</th>\n",
              "      <td>447.000000</td>\n",
              "      <td>322.000000</td>\n",
              "      <td>4.000000</td>\n",
              "      <td>8.828269e+08</td>\n",
              "    </tr>\n",
              "    <tr>\n",
              "      <th>75%</th>\n",
              "      <td>682.000000</td>\n",
              "      <td>631.000000</td>\n",
              "      <td>4.000000</td>\n",
              "      <td>8.882600e+08</td>\n",
              "    </tr>\n",
              "    <tr>\n",
              "      <th>max</th>\n",
              "      <td>943.000000</td>\n",
              "      <td>1682.000000</td>\n",
              "      <td>5.000000</td>\n",
              "      <td>8.932866e+08</td>\n",
              "    </tr>\n",
              "  </tbody>\n",
              "</table>\n",
              "</div>"
            ],
            "text/plain": [
              "              userId        movieId         rating     timestamp\n",
              "count  100003.000000  100003.000000  100003.000000  1.000030e+05\n",
              "mean      462.470876     425.520914       3.529864  8.835288e+08\n",
              "std       266.622454     330.797791       1.125704  5.343791e+06\n",
              "min         0.000000       1.000000       1.000000  8.747247e+08\n",
              "25%       254.000000     175.000000       3.000000  8.794487e+08\n",
              "50%       447.000000     322.000000       4.000000  8.828269e+08\n",
              "75%       682.000000     631.000000       4.000000  8.882600e+08\n",
              "max       943.000000    1682.000000       5.000000  8.932866e+08"
            ]
          },
          "metadata": {
            "tags": []
          },
          "execution_count": 311
        }
      ]
    },
    {
      "cell_type": "markdown",
      "metadata": {
        "id": "R7_LmoCoNB00",
        "colab_type": "text"
      },
      "source": [
        "Now let's take a quick look at the number of unique users and movies."
      ]
    },
    {
      "cell_type": "code",
      "metadata": {
        "id": "Tod0yjVwNB00",
        "colab_type": "code",
        "outputId": "69410bc7-3879-492b-9405-24f2e86b0273",
        "colab": {
          "base_uri": "https://localhost:8080/",
          "height": 52
        }
      },
      "source": [
        "n_users = df.userId.nunique()\n",
        "n_items = df.movieId.nunique()\n",
        "\n",
        "print('Num. of Users: '+ str(n_users))\n",
        "print('Num of Movies: '+str(n_items))"
      ],
      "execution_count": 312,
      "outputs": [
        {
          "output_type": "stream",
          "text": [
            "Num. of Users: 944\n",
            "Num of Movies: 1682\n"
          ],
          "name": "stdout"
        }
      ]
    },
    {
      "cell_type": "code",
      "metadata": {
        "id": "7ZDzeayYKhDd",
        "colab_type": "code",
        "colab": {
          "base_uri": "https://localhost:8080/",
          "height": 527
        },
        "outputId": "ff19d1e7-8d97-4e86-c19e-94e6d2bb22a1"
      },
      "source": [
        "# To get a better sense of what the data looks like, we can turn it into a table by selecting the top 15 users/movies from the data and joining them together. \n",
        "# The result shows how each of the top users rated each of the top movies.\n",
        "\n",
        "g = ratings.groupby('userId')['rating'].count()\n",
        "top_users = g.sort_values(ascending=False)[:15]\n",
        "\n",
        "g = ratings.groupby('movieId')['rating'].count()\n",
        "top_movies = g.sort_values(ascending=False)[:15]\n",
        "\n",
        "top_r = ratings.join(top_users, rsuffix='_r', how='inner', on='userId')\n",
        "top_r = top_r.join(top_movies, rsuffix='_r', how='inner', on='movieId')\n",
        "pd.crosstab(top_r.userId, top_r.movieId, top_r.rating, aggfunc=np.sum)"
      ],
      "execution_count": 313,
      "outputs": [
        {
          "output_type": "execute_result",
          "data": {
            "text/html": [
              "<div>\n",
              "<style scoped>\n",
              "    .dataframe tbody tr th:only-of-type {\n",
              "        vertical-align: middle;\n",
              "    }\n",
              "\n",
              "    .dataframe tbody tr th {\n",
              "        vertical-align: top;\n",
              "    }\n",
              "\n",
              "    .dataframe thead th {\n",
              "        text-align: right;\n",
              "    }\n",
              "</style>\n",
              "<table border=\"1\" class=\"dataframe\">\n",
              "  <thead>\n",
              "    <tr style=\"text-align: right;\">\n",
              "      <th>movieId</th>\n",
              "      <th>1</th>\n",
              "      <th>7</th>\n",
              "      <th>50</th>\n",
              "      <th>56</th>\n",
              "      <th>98</th>\n",
              "      <th>100</th>\n",
              "      <th>121</th>\n",
              "      <th>127</th>\n",
              "      <th>174</th>\n",
              "      <th>181</th>\n",
              "      <th>258</th>\n",
              "      <th>286</th>\n",
              "      <th>288</th>\n",
              "      <th>294</th>\n",
              "      <th>300</th>\n",
              "    </tr>\n",
              "    <tr>\n",
              "      <th>userId</th>\n",
              "      <th></th>\n",
              "      <th></th>\n",
              "      <th></th>\n",
              "      <th></th>\n",
              "      <th></th>\n",
              "      <th></th>\n",
              "      <th></th>\n",
              "      <th></th>\n",
              "      <th></th>\n",
              "      <th></th>\n",
              "      <th></th>\n",
              "      <th></th>\n",
              "      <th></th>\n",
              "      <th></th>\n",
              "      <th></th>\n",
              "    </tr>\n",
              "  </thead>\n",
              "  <tbody>\n",
              "    <tr>\n",
              "      <th>7</th>\n",
              "      <td>NaN</td>\n",
              "      <td>5.0</td>\n",
              "      <td>5.0</td>\n",
              "      <td>5.0</td>\n",
              "      <td>4.0</td>\n",
              "      <td>5.0</td>\n",
              "      <td>5.0</td>\n",
              "      <td>5.0</td>\n",
              "      <td>5.0</td>\n",
              "      <td>3.0</td>\n",
              "      <td>4.0</td>\n",
              "      <td>4.0</td>\n",
              "      <td>4.0</td>\n",
              "      <td>1.0</td>\n",
              "      <td>4.0</td>\n",
              "    </tr>\n",
              "    <tr>\n",
              "      <th>13</th>\n",
              "      <td>3.0</td>\n",
              "      <td>2.0</td>\n",
              "      <td>5.0</td>\n",
              "      <td>5.0</td>\n",
              "      <td>4.0</td>\n",
              "      <td>5.0</td>\n",
              "      <td>5.0</td>\n",
              "      <td>5.0</td>\n",
              "      <td>4.0</td>\n",
              "      <td>5.0</td>\n",
              "      <td>4.0</td>\n",
              "      <td>3.0</td>\n",
              "      <td>1.0</td>\n",
              "      <td>2.0</td>\n",
              "      <td>1.0</td>\n",
              "    </tr>\n",
              "    <tr>\n",
              "      <th>181</th>\n",
              "      <td>3.0</td>\n",
              "      <td>4.0</td>\n",
              "      <td>NaN</td>\n",
              "      <td>NaN</td>\n",
              "      <td>NaN</td>\n",
              "      <td>3.0</td>\n",
              "      <td>4.0</td>\n",
              "      <td>NaN</td>\n",
              "      <td>NaN</td>\n",
              "      <td>NaN</td>\n",
              "      <td>3.0</td>\n",
              "      <td>1.0</td>\n",
              "      <td>4.0</td>\n",
              "      <td>2.0</td>\n",
              "      <td>3.0</td>\n",
              "    </tr>\n",
              "    <tr>\n",
              "      <th>234</th>\n",
              "      <td>3.0</td>\n",
              "      <td>2.0</td>\n",
              "      <td>4.0</td>\n",
              "      <td>3.0</td>\n",
              "      <td>4.0</td>\n",
              "      <td>4.0</td>\n",
              "      <td>NaN</td>\n",
              "      <td>4.0</td>\n",
              "      <td>3.0</td>\n",
              "      <td>3.0</td>\n",
              "      <td>2.0</td>\n",
              "      <td>3.0</td>\n",
              "      <td>3.0</td>\n",
              "      <td>3.0</td>\n",
              "      <td>3.0</td>\n",
              "    </tr>\n",
              "    <tr>\n",
              "      <th>276</th>\n",
              "      <td>5.0</td>\n",
              "      <td>5.0</td>\n",
              "      <td>5.0</td>\n",
              "      <td>5.0</td>\n",
              "      <td>5.0</td>\n",
              "      <td>5.0</td>\n",
              "      <td>4.0</td>\n",
              "      <td>5.0</td>\n",
              "      <td>5.0</td>\n",
              "      <td>5.0</td>\n",
              "      <td>5.0</td>\n",
              "      <td>NaN</td>\n",
              "      <td>4.0</td>\n",
              "      <td>4.0</td>\n",
              "      <td>4.0</td>\n",
              "    </tr>\n",
              "    <tr>\n",
              "      <th>279</th>\n",
              "      <td>3.0</td>\n",
              "      <td>5.0</td>\n",
              "      <td>3.0</td>\n",
              "      <td>4.0</td>\n",
              "      <td>NaN</td>\n",
              "      <td>4.0</td>\n",
              "      <td>4.0</td>\n",
              "      <td>NaN</td>\n",
              "      <td>4.0</td>\n",
              "      <td>3.0</td>\n",
              "      <td>NaN</td>\n",
              "      <td>NaN</td>\n",
              "      <td>3.0</td>\n",
              "      <td>2.0</td>\n",
              "      <td>NaN</td>\n",
              "    </tr>\n",
              "    <tr>\n",
              "      <th>303</th>\n",
              "      <td>5.0</td>\n",
              "      <td>4.0</td>\n",
              "      <td>5.0</td>\n",
              "      <td>5.0</td>\n",
              "      <td>5.0</td>\n",
              "      <td>5.0</td>\n",
              "      <td>3.0</td>\n",
              "      <td>5.0</td>\n",
              "      <td>5.0</td>\n",
              "      <td>5.0</td>\n",
              "      <td>4.0</td>\n",
              "      <td>5.0</td>\n",
              "      <td>4.0</td>\n",
              "      <td>4.0</td>\n",
              "      <td>1.0</td>\n",
              "    </tr>\n",
              "    <tr>\n",
              "      <th>393</th>\n",
              "      <td>3.0</td>\n",
              "      <td>4.0</td>\n",
              "      <td>5.0</td>\n",
              "      <td>2.0</td>\n",
              "      <td>NaN</td>\n",
              "      <td>1.0</td>\n",
              "      <td>4.0</td>\n",
              "      <td>NaN</td>\n",
              "      <td>NaN</td>\n",
              "      <td>4.0</td>\n",
              "      <td>4.0</td>\n",
              "      <td>NaN</td>\n",
              "      <td>3.0</td>\n",
              "      <td>4.0</td>\n",
              "      <td>NaN</td>\n",
              "    </tr>\n",
              "    <tr>\n",
              "      <th>405</th>\n",
              "      <td>NaN</td>\n",
              "      <td>NaN</td>\n",
              "      <td>5.0</td>\n",
              "      <td>4.0</td>\n",
              "      <td>4.0</td>\n",
              "      <td>NaN</td>\n",
              "      <td>NaN</td>\n",
              "      <td>5.0</td>\n",
              "      <td>5.0</td>\n",
              "      <td>5.0</td>\n",
              "      <td>NaN</td>\n",
              "      <td>NaN</td>\n",
              "      <td>5.0</td>\n",
              "      <td>NaN</td>\n",
              "      <td>NaN</td>\n",
              "    </tr>\n",
              "    <tr>\n",
              "      <th>416</th>\n",
              "      <td>5.0</td>\n",
              "      <td>4.0</td>\n",
              "      <td>5.0</td>\n",
              "      <td>5.0</td>\n",
              "      <td>5.0</td>\n",
              "      <td>5.0</td>\n",
              "      <td>5.0</td>\n",
              "      <td>5.0</td>\n",
              "      <td>5.0</td>\n",
              "      <td>5.0</td>\n",
              "      <td>5.0</td>\n",
              "      <td>5.0</td>\n",
              "      <td>5.0</td>\n",
              "      <td>4.0</td>\n",
              "      <td>4.0</td>\n",
              "    </tr>\n",
              "    <tr>\n",
              "      <th>429</th>\n",
              "      <td>3.0</td>\n",
              "      <td>2.0</td>\n",
              "      <td>5.0</td>\n",
              "      <td>4.0</td>\n",
              "      <td>4.0</td>\n",
              "      <td>5.0</td>\n",
              "      <td>3.0</td>\n",
              "      <td>4.0</td>\n",
              "      <td>4.0</td>\n",
              "      <td>5.0</td>\n",
              "      <td>4.0</td>\n",
              "      <td>NaN</td>\n",
              "      <td>3.0</td>\n",
              "      <td>NaN</td>\n",
              "      <td>3.0</td>\n",
              "    </tr>\n",
              "    <tr>\n",
              "      <th>450</th>\n",
              "      <td>4.0</td>\n",
              "      <td>4.0</td>\n",
              "      <td>5.0</td>\n",
              "      <td>4.0</td>\n",
              "      <td>4.0</td>\n",
              "      <td>4.0</td>\n",
              "      <td>3.0</td>\n",
              "      <td>5.0</td>\n",
              "      <td>5.0</td>\n",
              "      <td>4.0</td>\n",
              "      <td>4.0</td>\n",
              "      <td>4.0</td>\n",
              "      <td>3.0</td>\n",
              "      <td>4.0</td>\n",
              "      <td>4.0</td>\n",
              "    </tr>\n",
              "    <tr>\n",
              "      <th>537</th>\n",
              "      <td>2.0</td>\n",
              "      <td>4.0</td>\n",
              "      <td>4.0</td>\n",
              "      <td>5.0</td>\n",
              "      <td>3.0</td>\n",
              "      <td>4.0</td>\n",
              "      <td>1.0</td>\n",
              "      <td>5.0</td>\n",
              "      <td>3.0</td>\n",
              "      <td>2.0</td>\n",
              "      <td>4.0</td>\n",
              "      <td>3.0</td>\n",
              "      <td>2.0</td>\n",
              "      <td>1.0</td>\n",
              "      <td>1.0</td>\n",
              "    </tr>\n",
              "    <tr>\n",
              "      <th>655</th>\n",
              "      <td>2.0</td>\n",
              "      <td>3.0</td>\n",
              "      <td>4.0</td>\n",
              "      <td>3.0</td>\n",
              "      <td>4.0</td>\n",
              "      <td>3.0</td>\n",
              "      <td>3.0</td>\n",
              "      <td>5.0</td>\n",
              "      <td>3.0</td>\n",
              "      <td>3.0</td>\n",
              "      <td>2.0</td>\n",
              "      <td>3.0</td>\n",
              "      <td>3.0</td>\n",
              "      <td>3.0</td>\n",
              "      <td>3.0</td>\n",
              "    </tr>\n",
              "    <tr>\n",
              "      <th>846</th>\n",
              "      <td>NaN</td>\n",
              "      <td>NaN</td>\n",
              "      <td>5.0</td>\n",
              "      <td>5.0</td>\n",
              "      <td>4.0</td>\n",
              "      <td>NaN</td>\n",
              "      <td>NaN</td>\n",
              "      <td>5.0</td>\n",
              "      <td>5.0</td>\n",
              "      <td>5.0</td>\n",
              "      <td>3.0</td>\n",
              "      <td>NaN</td>\n",
              "      <td>4.0</td>\n",
              "      <td>3.0</td>\n",
              "      <td>NaN</td>\n",
              "    </tr>\n",
              "  </tbody>\n",
              "</table>\n",
              "</div>"
            ],
            "text/plain": [
              "movieId  1    7    50   56   98   100  121  ...  174  181  258  286  288  294  300\n",
              "userId                                      ...                                   \n",
              "7        NaN  5.0  5.0  5.0  4.0  5.0  5.0  ...  5.0  3.0  4.0  4.0  4.0  1.0  4.0\n",
              "13       3.0  2.0  5.0  5.0  4.0  5.0  5.0  ...  4.0  5.0  4.0  3.0  1.0  2.0  1.0\n",
              "181      3.0  4.0  NaN  NaN  NaN  3.0  4.0  ...  NaN  NaN  3.0  1.0  4.0  2.0  3.0\n",
              "234      3.0  2.0  4.0  3.0  4.0  4.0  NaN  ...  3.0  3.0  2.0  3.0  3.0  3.0  3.0\n",
              "276      5.0  5.0  5.0  5.0  5.0  5.0  4.0  ...  5.0  5.0  5.0  NaN  4.0  4.0  4.0\n",
              "279      3.0  5.0  3.0  4.0  NaN  4.0  4.0  ...  4.0  3.0  NaN  NaN  3.0  2.0  NaN\n",
              "303      5.0  4.0  5.0  5.0  5.0  5.0  3.0  ...  5.0  5.0  4.0  5.0  4.0  4.0  1.0\n",
              "393      3.0  4.0  5.0  2.0  NaN  1.0  4.0  ...  NaN  4.0  4.0  NaN  3.0  4.0  NaN\n",
              "405      NaN  NaN  5.0  4.0  4.0  NaN  NaN  ...  5.0  5.0  NaN  NaN  5.0  NaN  NaN\n",
              "416      5.0  4.0  5.0  5.0  5.0  5.0  5.0  ...  5.0  5.0  5.0  5.0  5.0  4.0  4.0\n",
              "429      3.0  2.0  5.0  4.0  4.0  5.0  3.0  ...  4.0  5.0  4.0  NaN  3.0  NaN  3.0\n",
              "450      4.0  4.0  5.0  4.0  4.0  4.0  3.0  ...  5.0  4.0  4.0  4.0  3.0  4.0  4.0\n",
              "537      2.0  4.0  4.0  5.0  3.0  4.0  1.0  ...  3.0  2.0  4.0  3.0  2.0  1.0  1.0\n",
              "655      2.0  3.0  4.0  3.0  4.0  3.0  3.0  ...  3.0  3.0  2.0  3.0  3.0  3.0  3.0\n",
              "846      NaN  NaN  5.0  5.0  4.0  NaN  NaN  ...  5.0  5.0  3.0  NaN  4.0  3.0  NaN\n",
              "\n",
              "[15 rows x 15 columns]"
            ]
          },
          "metadata": {
            "tags": []
          },
          "execution_count": 313
        }
      ]
    },
    {
      "cell_type": "markdown",
      "metadata": {
        "id": "fH3Oq8yIL8OR",
        "colab_type": "text"
      },
      "source": [
        "To build our first collaborative filtering model, we need to take care of a few things first. \n",
        "\n",
        "- The user/movie fields are currently non-sequential integers representing some unique ID for that entity. \n",
        "\n",
        "- We need them to be sequential starting at zero to use for modeling (you’ll see why later). \n",
        "\n",
        "- We can use scikit-learn’s LabelEncoder class to transform the fields. We’ll also create variables with the total number of unique users and movies in the data, as well as the min and max ratings present in the data, for reasons that will become apparent shortly."
      ]
    },
    {
      "cell_type": "code",
      "metadata": {
        "id": "SKxRmiawKhKj",
        "colab_type": "code",
        "colab": {}
      },
      "source": [
        "user_enc = LabelEncoder()\n",
        "ratings['user'] = user_enc.fit_transform(ratings['userId'].values)\n",
        "n_users = ratings['user'].nunique()"
      ],
      "execution_count": 0,
      "outputs": []
    },
    {
      "cell_type": "code",
      "metadata": {
        "id": "YQVAb9dqKhNW",
        "colab_type": "code",
        "colab": {}
      },
      "source": [
        "item_enc = LabelEncoder()\n",
        "ratings['movie'] = item_enc.fit_transform(ratings['movieId'].values)\n",
        "n_movies = ratings['movie'].nunique()"
      ],
      "execution_count": 0,
      "outputs": []
    },
    {
      "cell_type": "code",
      "metadata": {
        "id": "r2rfQsQFKhQD",
        "colab_type": "code",
        "colab": {
          "base_uri": "https://localhost:8080/",
          "height": 34
        },
        "outputId": "f5a3ca2c-6737-4f42-9165-211704dfa417"
      },
      "source": [
        "ratings['rating'] = ratings['rating'].values.astype(np.float32)\n",
        "min_rating = min(ratings['rating'])\n",
        "max_rating = max(ratings['rating'])\n",
        "n_users, n_movies, min_rating, max_rating"
      ],
      "execution_count": 316,
      "outputs": [
        {
          "output_type": "execute_result",
          "data": {
            "text/plain": [
              "(944, 1682, 1.0, 5.0)"
            ]
          },
          "metadata": {
            "tags": []
          },
          "execution_count": 316
        }
      ]
    },
    {
      "cell_type": "markdown",
      "metadata": {
        "id": "_ts9a6sJMWQz",
        "colab_type": "text"
      },
      "source": [
        "- Create a traditional (X, y) pairing of data and label, then split the data into training and test data sets."
      ]
    },
    {
      "cell_type": "code",
      "metadata": {
        "id": "vhzhjlVLMVqh",
        "colab_type": "code",
        "colab": {
          "base_uri": "https://localhost:8080/",
          "height": 34
        },
        "outputId": "a7de76e5-758d-44df-f369-99f3a65444d7"
      },
      "source": [
        "X = ratings[['user', 'movie']].values\n",
        "y = ratings['rating'].values\n",
        "X_train, X_test, y_train, y_test = train_test_split(X, y, test_size=0.1, random_state=2020)\n",
        "X_train.shape, X_test.shape, y_train.shape, y_test.shape"
      ],
      "execution_count": 317,
      "outputs": [
        {
          "output_type": "execute_result",
          "data": {
            "text/plain": [
              "((90002, 2), (10001, 2), (90002,), (10001,))"
            ]
          },
          "metadata": {
            "tags": []
          },
          "execution_count": 317
        }
      ]
    },
    {
      "cell_type": "markdown",
      "metadata": {
        "id": "vBjGj7qxMh6J",
        "colab_type": "text"
      },
      "source": [
        "## Another constant we’ll need for the model is the number of factors per user/movie. \n",
        "\n",
        "- This number can be whatever we want, however for the collaborative filtering model it does need to be the same size for both users and movies. \n",
        "- When Jeremy covered this in his class, he said he played around with different numbers and 50 seemed to work best so we’ll go with that.\n",
        "- Finally, we need to turn users and movies into separate arrays in the training and test data.\n",
        "- This is because in Keras they’ll each be defined as distinct inputs, and the way Keras works is each input needs to be fed in as its own array."
      ]
    },
    {
      "cell_type": "code",
      "metadata": {
        "id": "b8YE4Q4BMV1c",
        "colab_type": "code",
        "colab": {}
      },
      "source": [
        "n_factors = 50\n",
        "X_train_array = [X_train[:, 0], X_train[:, 1]]\n",
        "X_test_array = [X_test[:, 0], X_test[:, 1]]"
      ],
      "execution_count": 0,
      "outputs": []
    },
    {
      "cell_type": "markdown",
      "metadata": {
        "id": "ARQUDywLPDvF",
        "colab_type": "text"
      },
      "source": [
        "# Model 1 (Embedding + Dot Product)"
      ]
    },
    {
      "cell_type": "code",
      "metadata": {
        "id": "J6P5nDY6MV4C",
        "colab_type": "code",
        "colab": {}
      },
      "source": [
        "from keras.models import Model\n",
        "from keras.layers import Input, Reshape, Dot\n",
        "from keras.layers.embeddings import Embedding\n",
        "from keras.optimizers import Adam\n",
        "from keras.regularizers import l2"
      ],
      "execution_count": 0,
      "outputs": []
    },
    {
      "cell_type": "code",
      "metadata": {
        "id": "0-IjjgCrSw79",
        "colab_type": "code",
        "colab": {}
      },
      "source": [
        "from keras import backend as K\n",
        "\n",
        "def root_mean_squared_error(y_true, y_pred):\n",
        "        return K.sqrt(K.mean(K.square(y_pred - y_true), axis=-1)) "
      ],
      "execution_count": 0,
      "outputs": []
    },
    {
      "cell_type": "code",
      "metadata": {
        "id": "Il1nuV0iMV6k",
        "colab_type": "code",
        "colab": {}
      },
      "source": [
        "def RecommenderV1(n_users, n_movies, n_factors):\n",
        "    user = Input(shape=(1,))\n",
        "    u = Embedding(n_users, n_factors, embeddings_initializer='he_normal',\n",
        "                  embeddings_regularizer=l2(1e-6))(user)\n",
        "    u = Reshape((n_factors,))(u)\n",
        "    \n",
        "    movie = Input(shape=(1,))\n",
        "    m = Embedding(n_movies, n_factors, embeddings_initializer='he_normal',\n",
        "                  embeddings_regularizer=l2(1e-6))(movie)\n",
        "    m = Reshape((n_factors,))(m)\n",
        "    \n",
        "    x = Dot(axes=1)([u, m])\n",
        "    model = Model(inputs=[user, movie], outputs=x)\n",
        "    opt = Adam(lr=0.001)\n",
        "    model.compile(loss=root_mean_squared_error, optimizer=opt)\n",
        "    return model"
      ],
      "execution_count": 0,
      "outputs": []
    },
    {
      "cell_type": "code",
      "metadata": {
        "id": "CFPkCfHPM1-c",
        "colab_type": "code",
        "colab": {
          "base_uri": "https://localhost:8080/",
          "height": 425
        },
        "outputId": "d96eb448-72b9-40b1-aef0-34b7c4934202"
      },
      "source": [
        "model = RecommenderV1(n_users, n_movies, n_factors)\n",
        "model.summary()"
      ],
      "execution_count": 322,
      "outputs": [
        {
          "output_type": "stream",
          "text": [
            "Model: \"model_35\"\n",
            "__________________________________________________________________________________________________\n",
            "Layer (type)                    Output Shape         Param #     Connected to                     \n",
            "==================================================================================================\n",
            "input_69 (InputLayer)           (None, 1)            0                                            \n",
            "__________________________________________________________________________________________________\n",
            "input_70 (InputLayer)           (None, 1)            0                                            \n",
            "__________________________________________________________________________________________________\n",
            "embedding_85 (Embedding)        (None, 1, 50)        47200       input_69[0][0]                   \n",
            "__________________________________________________________________________________________________\n",
            "embedding_86 (Embedding)        (None, 1, 50)        84100       input_70[0][0]                   \n",
            "__________________________________________________________________________________________________\n",
            "reshape_85 (Reshape)            (None, 50)           0           embedding_85[0][0]               \n",
            "__________________________________________________________________________________________________\n",
            "reshape_86 (Reshape)            (None, 50)           0           embedding_86[0][0]               \n",
            "__________________________________________________________________________________________________\n",
            "dot_23 (Dot)                    (None, 1)            0           reshape_85[0][0]                 \n",
            "                                                                 reshape_86[0][0]                 \n",
            "==================================================================================================\n",
            "Total params: 131,300\n",
            "Trainable params: 131,300\n",
            "Non-trainable params: 0\n",
            "__________________________________________________________________________________________________\n"
          ],
          "name": "stdout"
        }
      ]
    },
    {
      "cell_type": "code",
      "metadata": {
        "id": "hjJ1w-4rM2BC",
        "colab_type": "code",
        "colab": {
          "base_uri": "https://localhost:8080/",
          "height": 212
        },
        "outputId": "aa69be9e-7fe1-406e-852c-4d5e88cc98ce"
      },
      "source": [
        "history = model.fit(x=X_train_array, y=y_train, batch_size=64, epochs=5,\n",
        "                    verbose=1, validation_data=(X_test_array, y_test))"
      ],
      "execution_count": 323,
      "outputs": [
        {
          "output_type": "stream",
          "text": [
            "Train on 90002 samples, validate on 10001 samples\n",
            "Epoch 1/5\n",
            "90002/90002 [==============================] - 7s 73us/step - loss: 2.5685 - val_loss: 1.0150\n",
            "Epoch 2/5\n",
            "90002/90002 [==============================] - 5s 53us/step - loss: 0.8324 - val_loss: 0.7973\n",
            "Epoch 3/5\n",
            "90002/90002 [==============================] - 5s 52us/step - loss: 0.7572 - val_loss: 0.7727\n",
            "Epoch 4/5\n",
            "90002/90002 [==============================] - 5s 50us/step - loss: 0.7358 - val_loss: 0.7641\n",
            "Epoch 5/5\n",
            "90002/90002 [==============================] - 4s 50us/step - loss: 0.7153 - val_loss: 0.7581\n"
          ],
          "name": "stdout"
        }
      ]
    },
    {
      "cell_type": "code",
      "metadata": {
        "id": "IvIwbApCSDas",
        "colab_type": "code",
        "colab": {
          "base_uri": "https://localhost:8080/",
          "height": 87
        },
        "outputId": "27868447-6415-433e-b99e-ab3f1a9902a3"
      },
      "source": [
        "# EVALUATE MODEL IN THE TEST SET\n",
        "score_rmse_test = model.evaluate(X_test_array, y_test)\n",
        "print('Test Score:', score_rmse_test)\n",
        "\n",
        "# EVALUATE MODEL IN THE TRAIN SET\n",
        "score_rmse_train = model.evaluate(X_train_array, y_train)\n",
        "print('Train Score:', score_rmse_train)"
      ],
      "execution_count": 324,
      "outputs": [
        {
          "output_type": "stream",
          "text": [
            "10001/10001 [==============================] - 0s 42us/step\n",
            "Test Score: 0.758058329341817\n",
            "90002/90002 [==============================] - 4s 43us/step\n",
            "Train Score: 0.6836391046604515\n"
          ],
          "name": "stdout"
        }
      ]
    },
    {
      "cell_type": "code",
      "metadata": {
        "id": "imPklmCFSbzc",
        "colab_type": "code",
        "colab": {
          "base_uri": "https://localhost:8080/",
          "height": 426
        },
        "outputId": "7f518ad0-9313-4865-b515-266fe3fa81e7"
      },
      "source": [
        "plt.figure(figsize=(15, 6))\n",
        "plt.plot(history.history['loss'], lw =3, ls = '--', label = 'Loss')\n",
        "plt.plot(history.history['val_loss'], lw =2, ls = '-', label = 'Val Loss')\n",
        "plt.xlabel('Epochs', fontsize=15)\n",
        "plt.ylabel('Loss', fontsize=15)\n",
        "plt.title('RMSE')\n",
        "plt.legend()"
      ],
      "execution_count": 325,
      "outputs": [
        {
          "output_type": "execute_result",
          "data": {
            "text/plain": [
              "<matplotlib.legend.Legend at 0x7fe0b29e8898>"
            ]
          },
          "metadata": {
            "tags": []
          },
          "execution_count": 325
        },
        {
          "output_type": "display_data",
          "data": {
            "image/png": "[encoded data removed]",
            "text/plain": [
              "<Figure size 1080x432 with 1 Axes>"
            ]
          },
          "metadata": {
            "tags": []
          }
        }
      ]
    },
    {
      "cell_type": "markdown",
      "metadata": {
        "id": "EJRZQVzYM-1s",
        "colab_type": "text"
      },
      "source": [
        "## The second improvement we can make is running the output of the dot product through a sigmoid layer and then scaling the result using the min and max ratings in the data. \n",
        "\n",
        "- This is a neat technique that introduces a non-linearity into the output and results in a modest performance bump.\n",
        "- I also refactored the code a bit by pulling out the embedding layer and reshape operation into a separate class."
      ]
    },
    {
      "cell_type": "markdown",
      "metadata": {
        "id": "sR49S6nbPUYo",
        "colab_type": "text"
      },
      "source": [
        "# Model 2 (Embedding + Dot Product + Normalize + Sigmoid)"
      ]
    },
    {
      "cell_type": "code",
      "metadata": {
        "id": "WWnS739kM2Fm",
        "colab_type": "code",
        "colab": {}
      },
      "source": [
        "from keras.layers import Add, Activation, Lambda"
      ],
      "execution_count": 0,
      "outputs": []
    },
    {
      "cell_type": "code",
      "metadata": {
        "id": "FV5d_HbDM2D0",
        "colab_type": "code",
        "colab": {}
      },
      "source": [
        "class EmbeddingLayer:\n",
        "    def __init__(self, n_items, n_factors):\n",
        "        self.n_items = n_items\n",
        "        self.n_factors = n_factors\n",
        "    \n",
        "    def __call__(self, x):\n",
        "        x = Embedding(self.n_items, self.n_factors, embeddings_initializer='he_normal',\n",
        "                      embeddings_regularizer=l2(1e-6))(x)\n",
        "        x = Reshape((self.n_factors,))(x)\n",
        "        return x\n",
        "def RecommenderV2(n_users, n_movies, n_factors, min_rating, max_rating):\n",
        "    user = Input(shape=(1,))\n",
        "    u = EmbeddingLayer(n_users, n_factors)(user)\n",
        "    ub = EmbeddingLayer(n_users, 1)(user)\n",
        "    \n",
        "    movie = Input(shape=(1,))\n",
        "    m = EmbeddingLayer(n_movies, n_factors)(movie)\n",
        "    mb = EmbeddingLayer(n_movies, 1)(movie)\n",
        "    x = Dot(axes=1)([u, m])\n",
        "    x = Add()([x, ub, mb])\n",
        "    x = Activation('sigmoid')(x)\n",
        "    x = Lambda(lambda x: x * (max_rating - min_rating) + min_rating)(x)\n",
        "    model = Model(inputs=[user, movie], outputs=x)\n",
        "    opt = Adam(lr=0.001)\n",
        "    model.compile(loss=root_mean_squared_error, optimizer=opt)\n",
        "    return model"
      ],
      "execution_count": 0,
      "outputs": []
    },
    {
      "cell_type": "code",
      "metadata": {
        "id": "1mTDrlbbNB2C",
        "colab_type": "code",
        "colab": {
          "base_uri": "https://localhost:8080/",
          "height": 710
        },
        "outputId": "f82ba1b5-03e6-449b-b4c6-2fededf5714e"
      },
      "source": [
        "model2 = RecommenderV2(n_users, n_movies, n_factors, min_rating, max_rating)\n",
        "model2.summary()"
      ],
      "execution_count": 328,
      "outputs": [
        {
          "output_type": "stream",
          "text": [
            "Model: \"model_36\"\n",
            "__________________________________________________________________________________________________\n",
            "Layer (type)                    Output Shape         Param #     Connected to                     \n",
            "==================================================================================================\n",
            "input_71 (InputLayer)           (None, 1)            0                                            \n",
            "__________________________________________________________________________________________________\n",
            "input_72 (InputLayer)           (None, 1)            0                                            \n",
            "__________________________________________________________________________________________________\n",
            "embedding_87 (Embedding)        (None, 1, 50)        47200       input_71[0][0]                   \n",
            "__________________________________________________________________________________________________\n",
            "embedding_89 (Embedding)        (None, 1, 50)        84100       input_72[0][0]                   \n",
            "__________________________________________________________________________________________________\n",
            "reshape_87 (Reshape)            (None, 50)           0           embedding_87[0][0]               \n",
            "__________________________________________________________________________________________________\n",
            "reshape_89 (Reshape)            (None, 50)           0           embedding_89[0][0]               \n",
            "__________________________________________________________________________________________________\n",
            "embedding_88 (Embedding)        (None, 1, 1)         944         input_71[0][0]                   \n",
            "__________________________________________________________________________________________________\n",
            "embedding_90 (Embedding)        (None, 1, 1)         1682        input_72[0][0]                   \n",
            "__________________________________________________________________________________________________\n",
            "dot_24 (Dot)                    (None, 1)            0           reshape_87[0][0]                 \n",
            "                                                                 reshape_89[0][0]                 \n",
            "__________________________________________________________________________________________________\n",
            "reshape_88 (Reshape)            (None, 1)            0           embedding_88[0][0]               \n",
            "__________________________________________________________________________________________________\n",
            "reshape_90 (Reshape)            (None, 1)            0           embedding_90[0][0]               \n",
            "__________________________________________________________________________________________________\n",
            "add_9 (Add)                     (None, 1)            0           dot_24[0][0]                     \n",
            "                                                                 reshape_88[0][0]                 \n",
            "                                                                 reshape_90[0][0]                 \n",
            "__________________________________________________________________________________________________\n",
            "activation_33 (Activation)      (None, 1)            0           add_9[0][0]                      \n",
            "__________________________________________________________________________________________________\n",
            "lambda_21 (Lambda)              (None, 1)            0           activation_33[0][0]              \n",
            "==================================================================================================\n",
            "Total params: 133,926\n",
            "Trainable params: 133,926\n",
            "Non-trainable params: 0\n",
            "__________________________________________________________________________________________________\n"
          ],
          "name": "stdout"
        }
      ]
    },
    {
      "cell_type": "code",
      "metadata": {
        "id": "oNK-ul3PNHMd",
        "colab_type": "code",
        "colab": {
          "base_uri": "https://localhost:8080/",
          "height": 212
        },
        "outputId": "1f89d9c0-f765-445f-fa8f-39f5973ac966"
      },
      "source": [
        "history = model2.fit(x=X_train_array, y=y_train, batch_size=64, epochs=5,\n",
        "                    verbose=1, validation_data=(X_test_array, y_test))"
      ],
      "execution_count": 329,
      "outputs": [
        {
          "output_type": "stream",
          "text": [
            "Train on 90002 samples, validate on 10001 samples\n",
            "Epoch 1/5\n",
            "90002/90002 [==============================] - 8s 85us/step - loss: 0.9398 - val_loss: 0.8483\n",
            "Epoch 2/5\n",
            "90002/90002 [==============================] - 5s 60us/step - loss: 0.7509 - val_loss: 0.7570\n",
            "Epoch 3/5\n",
            "90002/90002 [==============================] - 5s 59us/step - loss: 0.6748 - val_loss: 0.7382\n",
            "Epoch 4/5\n",
            "90002/90002 [==============================] - 5s 60us/step - loss: 0.6196 - val_loss: 0.7340\n",
            "Epoch 5/5\n",
            "90002/90002 [==============================] - 5s 60us/step - loss: 0.5697 - val_loss: 0.7347\n"
          ],
          "name": "stdout"
        }
      ]
    },
    {
      "cell_type": "code",
      "metadata": {
        "id": "-kTPH6EMVc6_",
        "colab_type": "code",
        "colab": {
          "base_uri": "https://localhost:8080/",
          "height": 87
        },
        "outputId": "9e7b177e-39fd-43d1-a815-2769382a73ae"
      },
      "source": [
        "# EVALUATE MODEL IN THE TEST SET\n",
        "score_rmse_test = model2.evaluate(X_test_array, y_test)\n",
        "print('Test Score:', score_rmse_test)\n",
        "\n",
        "# EVALUATE MODEL IN THE TRAIN SET\n",
        "score_rmse_train = model2.evaluate(X_train_array, y_train)\n",
        "print('Train Score:', score_rmse_train)"
      ],
      "execution_count": 330,
      "outputs": [
        {
          "output_type": "stream",
          "text": [
            "10001/10001 [==============================] - 1s 53us/step\n",
            "Test Score: 0.7346740534288646\n",
            "90002/90002 [==============================] - 4s 48us/step\n",
            "Train Score: 0.5202489207419858\n"
          ],
          "name": "stdout"
        }
      ]
    },
    {
      "cell_type": "code",
      "metadata": {
        "id": "zM7fgE1-VdC_",
        "colab_type": "code",
        "colab": {
          "base_uri": "https://localhost:8080/",
          "height": 426
        },
        "outputId": "e802a8a6-fb5a-4ce6-9982-fcb5219ab6c2"
      },
      "source": [
        "plt.figure(figsize=(15, 6))\n",
        "plt.plot(history.history['loss'], lw =3, ls = '--', label = 'Loss')\n",
        "plt.plot(history.history['val_loss'], lw =2, ls = '-', label = 'Val Loss')\n",
        "plt.xlabel('Epochs', fontsize=15)\n",
        "plt.ylabel('Loss', fontsize=15)\n",
        "plt.title('RMSE')\n",
        "plt.legend()"
      ],
      "execution_count": 331,
      "outputs": [
        {
          "output_type": "execute_result",
          "data": {
            "text/plain": [
              "<matplotlib.legend.Legend at 0x7fe0b27b9f60>"
            ]
          },
          "metadata": {
            "tags": []
          },
          "execution_count": 331
        },
        {
          "output_type": "display_data",
          "data": {
            "image/png": "[encoded data removed]",
            "text/plain": [
              "<Figure size 1080x432 with 1 Axes>"
            ]
          },
          "metadata": {
            "tags": []
          }
        }
      ]
    },
    {
      "cell_type": "markdown",
      "metadata": {
        "id": "o6JqcmN9NJPl",
        "colab_type": "text"
      },
      "source": [
        "- Those two additions to the model resulted in a pretty sizable improvement. Validation error is now down to ~0.76 which is about as good as what Jeremy got (and I believe close to SOTA for this data set).\n",
        "\n",
        "- That pretty much covers the conventional approach to solving this problem, but there’s another way we can tackle this. \n",
        "\n",
        "- Instead of taking the dot product of the embedding vectors, what if we just concatenated the embeddings together and stuck a fully-connected layer on top of them? \n",
        "\n",
        "- It’s still not technically “deep” but it would at least be a neural network! To modify the code, we can remove the bias embeddings from V2 and do a concat on the embedding layers instead. \n",
        "- Then we can add some dropout, insert a dense layer, and stick some dropout on the dense layer as well. \n",
        "- - Finally, we’ll run it through a single-unit dense layer to keep the sigmoid trick at the end."
      ]
    },
    {
      "cell_type": "markdown",
      "metadata": {
        "id": "vEBMfVFwPcT7",
        "colab_type": "text"
      },
      "source": [
        "# Model 3 (Embedding + Dot Product + Normalize + Dense + Dropout + Sigmoid)"
      ]
    },
    {
      "cell_type": "code",
      "metadata": {
        "id": "4HxMVZOhNIlL",
        "colab_type": "code",
        "colab": {}
      },
      "source": [
        "from keras.layers import Concatenate, Dense, Dropout"
      ],
      "execution_count": 0,
      "outputs": []
    },
    {
      "cell_type": "code",
      "metadata": {
        "id": "wCYNmEODfnEh",
        "colab_type": "code",
        "colab": {}
      },
      "source": [
        "from keras import backend as K\n",
        "\n",
        "def root_mean_squared_error(y_true, y_pred):\n",
        "        return K.sqrt(K.mean(K.square(y_pred - y_true), axis=-1)) "
      ],
      "execution_count": 0,
      "outputs": []
    },
    {
      "cell_type": "code",
      "metadata": {
        "id": "tcOhHLasNR-I",
        "colab_type": "code",
        "colab": {}
      },
      "source": [
        "def RecommenderNet(n_users, n_movies, n_factors, min_rating, max_rating):\n",
        "    user = Input(shape=(1,))\n",
        "    u = EmbeddingLayer(n_users, n_factors)(user)\n",
        "    \n",
        "    movie = Input(shape=(1,))\n",
        "    m = EmbeddingLayer(n_movies, n_factors)(movie)\n",
        "    \n",
        "    x = Concatenate()([u, m])\n",
        "    x = Dropout(0.05)(x)\n",
        "    \n",
        "    x = Dense(10)(x) \n",
        "    x = Activation('relu')(x)\n",
        "    x = Dropout(0.5)(x)\n",
        "    \n",
        "    x = Dense(1)(x)\n",
        "    x = Activation('sigmoid')(x)\n",
        "    x = Lambda(lambda x: x * (max_rating - min_rating) + min_rating)(x)\n",
        "    model = Model(inputs=[user, movie], outputs=x)\n",
        "    opt = Adam(lr=0.001)\n",
        "    model.compile(loss=root_mean_squared_error, optimizer=opt)\n",
        "    return model"
      ],
      "execution_count": 0,
      "outputs": []
    },
    {
      "cell_type": "code",
      "metadata": {
        "id": "-82O0L9aNTdF",
        "colab_type": "code",
        "colab": {
          "base_uri": "https://localhost:8080/",
          "height": 674
        },
        "outputId": "7d01d18a-8036-4dc7-fa7d-7bdbd0781a70"
      },
      "source": [
        "model3 = RecommenderNet(n_users, n_movies, n_factors, min_rating, max_rating)\n",
        "model3.summary()"
      ],
      "execution_count": 335,
      "outputs": [
        {
          "output_type": "stream",
          "text": [
            "Model: \"model_37\"\n",
            "__________________________________________________________________________________________________\n",
            "Layer (type)                    Output Shape         Param #     Connected to                     \n",
            "==================================================================================================\n",
            "input_73 (InputLayer)           (None, 1)            0                                            \n",
            "__________________________________________________________________________________________________\n",
            "input_74 (InputLayer)           (None, 1)            0                                            \n",
            "__________________________________________________________________________________________________\n",
            "embedding_91 (Embedding)        (None, 1, 50)        47200       input_73[0][0]                   \n",
            "__________________________________________________________________________________________________\n",
            "embedding_92 (Embedding)        (None, 1, 50)        84100       input_74[0][0]                   \n",
            "__________________________________________________________________________________________________\n",
            "reshape_91 (Reshape)            (None, 50)           0           embedding_91[0][0]               \n",
            "__________________________________________________________________________________________________\n",
            "reshape_92 (Reshape)            (None, 50)           0           embedding_92[0][0]               \n",
            "__________________________________________________________________________________________________\n",
            "concatenate_13 (Concatenate)    (None, 100)          0           reshape_91[0][0]                 \n",
            "                                                                 reshape_92[0][0]                 \n",
            "__________________________________________________________________________________________________\n",
            "dropout_25 (Dropout)            (None, 100)          0           concatenate_13[0][0]             \n",
            "__________________________________________________________________________________________________\n",
            "dense_25 (Dense)                (None, 10)           1010        dropout_25[0][0]                 \n",
            "__________________________________________________________________________________________________\n",
            "activation_34 (Activation)      (None, 10)           0           dense_25[0][0]                   \n",
            "__________________________________________________________________________________________________\n",
            "dropout_26 (Dropout)            (None, 10)           0           activation_34[0][0]              \n",
            "__________________________________________________________________________________________________\n",
            "dense_26 (Dense)                (None, 1)            11          dropout_26[0][0]                 \n",
            "__________________________________________________________________________________________________\n",
            "activation_35 (Activation)      (None, 1)            0           dense_26[0][0]                   \n",
            "__________________________________________________________________________________________________\n",
            "lambda_22 (Lambda)              (None, 1)            0           activation_35[0][0]              \n",
            "==================================================================================================\n",
            "Total params: 132,321\n",
            "Trainable params: 132,321\n",
            "Non-trainable params: 0\n",
            "__________________________________________________________________________________________________\n"
          ],
          "name": "stdout"
        }
      ]
    },
    {
      "cell_type": "code",
      "metadata": {
        "id": "nFk9xxxMNVK0",
        "colab_type": "code",
        "colab": {
          "base_uri": "https://localhost:8080/",
          "height": 212
        },
        "outputId": "5d5653ac-fec9-4bd4-aae8-585391e80201"
      },
      "source": [
        "history3 = model3.fit(x=X_train_array, y=y_train, batch_size=64, epochs=5,\n",
        "                    verbose=1, validation_data=(X_test_array, y_test))"
      ],
      "execution_count": 336,
      "outputs": [
        {
          "output_type": "stream",
          "text": [
            "Train on 90002 samples, validate on 10001 samples\n",
            "Epoch 1/5\n",
            "90002/90002 [==============================] - 8s 90us/step - loss: 0.8212 - val_loss: 0.7575\n",
            "Epoch 2/5\n",
            "90002/90002 [==============================] - 6s 63us/step - loss: 0.7637 - val_loss: 0.7484\n",
            "Epoch 3/5\n",
            "90002/90002 [==============================] - 6s 63us/step - loss: 0.7525 - val_loss: 0.7430\n",
            "Epoch 4/5\n",
            "90002/90002 [==============================] - 6s 64us/step - loss: 0.7485 - val_loss: 0.7430\n",
            "Epoch 5/5\n",
            "90002/90002 [==============================] - 6s 63us/step - loss: nan - val_loss: nan\n"
          ],
          "name": "stdout"
        }
      ]
    },
    {
      "cell_type": "code",
      "metadata": {
        "id": "hNF97d1UVeBS",
        "colab_type": "code",
        "colab": {
          "base_uri": "https://localhost:8080/",
          "height": 87
        },
        "outputId": "bf3f82db-7d59-4b1a-ab58-b96041e51ccb"
      },
      "source": [
        "# EVALUATE MODEL IN THE TEST SET\n",
        "score_rmse_test = model3.evaluate(X_test_array, y_test)\n",
        "print('Test Score:', score_rmse_test)\n",
        "\n",
        "# EVALUATE MODEL IN THE TRAIN SET\n",
        "score_rmse_train = model3.evaluate(X_train_array, y_train)\n",
        "print('Train Score:', score_rmse_train)"
      ],
      "execution_count": 337,
      "outputs": [
        {
          "output_type": "stream",
          "text": [
            "10001/10001 [==============================] - 0s 46us/step\n",
            "Test Score: nan\n",
            "90002/90002 [==============================] - 4s 45us/step\n",
            "Train Score: nan\n"
          ],
          "name": "stdout"
        }
      ]
    },
    {
      "cell_type": "code",
      "metadata": {
        "id": "YpHdqN1pVhB2",
        "colab_type": "code",
        "colab": {
          "base_uri": "https://localhost:8080/",
          "height": 426
        },
        "outputId": "9ad2adaa-212a-4911-b742-f2bfeb2230e3"
      },
      "source": [
        "plt.figure(figsize=(15, 6))\n",
        "plt.plot(history3.history['loss'], lw =3, ls = '--', label = 'Loss')\n",
        "plt.plot(history3.history['val_loss'], lw =2, ls = '-', label = 'Val Loss')\n",
        "plt.xlabel('Epochs', fontsize=15)\n",
        "plt.ylabel('Loss', fontsize=15)\n",
        "plt.title('RMSE')\n",
        "plt.legend()"
      ],
      "execution_count": 338,
      "outputs": [
        {
          "output_type": "execute_result",
          "data": {
            "text/plain": [
              "<matplotlib.legend.Legend at 0x7fe0b255e908>"
            ]
          },
          "metadata": {
            "tags": []
          },
          "execution_count": 338
        },
        {
          "output_type": "display_data",
          "data": {
            "image/png": "[encoded data removed]",
            "text/plain": [
              "<Figure size 1080x432 with 1 Axes>"
            ]
          },
          "metadata": {
            "tags": []
          }
        }
      ]
    },
    {
      "cell_type": "markdown",
      "metadata": {
        "id": "4_ev7fHKNZ6Y",
        "colab_type": "text"
      },
      "source": [
        "## Without doing any tuning at all we still managed to get a result that’s pretty close to the best performance we saw with the traditional approach. \n",
        "- This technique has the added benefit that we can easily incorporate additional features into the model. \n",
        "- For instance, we could create some date features from the timestamp or throw in the movie genres as a new embedding layer. \n",
        "- We could tune the size of the movie and user embeddings independently since they no longer need to match. Lots of possibilities here.\n",
        "\n",
        "-- Reference: https://medium.com/@jdwittenauer/deep-learning-with-keras-recommender-systems-e7b99cb29929"
      ]
    }
  ]
}