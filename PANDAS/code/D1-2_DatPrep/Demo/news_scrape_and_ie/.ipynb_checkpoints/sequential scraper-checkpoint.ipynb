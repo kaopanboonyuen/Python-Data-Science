{
 "cells": [
  {
   "cell_type": "code",
   "execution_count": 1,
   "metadata": {},
   "outputs": [],
   "source": [
    "import requests\n",
    "import os\n",
    "from datetime import datetime, timedelta\n",
    "import re\n",
    "import csv\n",
    "from lxml import etree"
   ]
  },
  {
   "cell_type": "code",
   "execution_count": 2,
   "metadata": {
    "collapsed": true
   },
   "outputs": [],
   "source": [
    "URL = 'https://news.mthai.com/economy-news/page/{}'\n",
    "start_page, stop_page = 1, 3\n",
    "out_dir = 'output'\n",
    "item_filename = 'item3.csv'"
   ]
  },
  {
   "cell_type": "code",
   "execution_count": 3,
   "metadata": {
    "collapsed": true
   },
   "outputs": [],
   "source": [
    "def get_tree(link):\n",
    "    response = requests.get(link)\n",
    "    tree = etree.fromstring(response.content, parser=etree.HTMLParser())\n",
    "    return tree"
   ]
  },
  {
   "cell_type": "code",
   "execution_count": 4,
   "metadata": {},
   "outputs": [],
   "source": [
    "def get_content_from_page(tree, i):\n",
    "    return tree.xpath('//*[@id=\"main\"]/div[1]/div')"
   ]
  },
  {
   "cell_type": "code",
   "execution_count": 5,
   "metadata": {},
   "outputs": [],
   "source": [
    "def get_link_from_block(block):\n",
    "    return block.xpath('.//h3/a/@href')[0]"
   ]
  },
  {
   "cell_type": "code",
   "execution_count": 6,
   "metadata": {},
   "outputs": [],
   "source": [
    "def proceed_link(link):\n",
    "    id_ = link.split('/')[-1].split('.')[0]\n",
    "    out_file = os.path.join(out_dir, id_+'.txt')\n",
    "\n",
    "    tree = get_tree(link)\n",
    "    \n",
    "    with open(out_file, 'w', encoding='utf-8') as f:\n",
    "        for p in tree.xpath('//*[@id=\"content-inner-{}\"]/p'.format(id_)):\n",
    "            print(' '.join(p.xpath('.//text()')).strip(), file=f)\n",
    "\n",
    "    item = dict()\n",
    "    item['path'] = out_file\n",
    "    item['id'] = id_\n",
    "    item['author'] = tree.xpath('//*[@itemprop=\"author\"]/a/text()')[0].strip()\n",
    "    item['title'] = tree.xpath('//*[@id=\"post-{}\"]/header/h1/text()'.format(id_))[0].strip()\n",
    "    item['date'] = tree.xpath('//*[@id=\"post-{}\"]//time/@datetime'.format(id_))[0].split('T')[0].strip()\n",
    "    \n",
    "    return item"
   ]
  },
  {
   "cell_type": "code",
   "execution_count": 7,
   "metadata": {},
   "outputs": [],
   "source": [
    "csv_header = 'id date author title path'.split()\n",
    "\n",
    "i = start_page # start page\n",
    "\n",
    "tree = get_tree(URL.format(i))\n",
    "content_blocks = get_content_from_page(tree, i)\n",
    "\n",
    "with open(item_filename, 'w') as file:\n",
    "    writer = csv.DictWriter(file, csv_header)\n",
    "    writer.writeheader()\n",
    "\n",
    "    while content_blocks:\n",
    "        for block in content_blocks:\n",
    "            link = get_link_from_block(block)\n",
    "            item = proceed_link(link)\n",
    "            \n",
    "            writer.writerow(item)\n",
    "\n",
    "        if i == stop_page:\n",
    "            break\n",
    "            \n",
    "        i += 1\n",
    "        content_blocks = get_content_from_page(tree, i)"
   ]
  },
  {
   "cell_type": "code",
   "execution_count": null,
   "metadata": {
    "collapsed": true
   },
   "outputs": [],
   "source": []
  }
 ],
 "metadata": {
  "kernelspec": {
   "display_name": "Python 3",
   "language": "python",
   "name": "python3"
  },
  "language_info": {
   "codemirror_mode": {
    "name": "ipython",
    "version": 3
   },
   "file_extension": ".py",
   "mimetype": "text/x-python",
   "name": "python",
   "nbconvert_exporter": "python",
   "pygments_lexer": "ipython3",
   "version": "3.6.3"
  }
 },
 "nbformat": 4,
 "nbformat_minor": 2
}
