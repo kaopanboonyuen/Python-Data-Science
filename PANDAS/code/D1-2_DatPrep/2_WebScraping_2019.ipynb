{
 "cells": [
  {
   "cell_type": "markdown",
   "metadata": {
    "colab_type": "text",
    "id": "T6Ecr1IoGTGd"
   },
   "source": [
    "# Web Scraping Using Requests and Beautiful Soup (bs4)"
   ]
  },
  {
   "cell_type": "code",
   "execution_count": 0,
   "metadata": {
    "colab": {},
    "colab_type": "code",
    "id": "6Ya2hzhdGEEX"
   },
   "outputs": [],
   "source": [
    "from bs4 import BeautifulSoup\n",
    "import requests"
   ]
  },
  {
   "cell_type": "code",
   "execution_count": 0,
   "metadata": {
    "colab": {},
    "colab_type": "code",
    "id": "MKEgYLjnGIDD"
   },
   "outputs": [],
   "source": [
    "url = \"http://sunsettheatre.com/\"\n",
    "response = requests.get(url, headers={'User-Agent':'XY'})\n",
    "soup = BeautifulSoup(response.content, \"html5lib\")"
   ]
  },
  {
   "cell_type": "code",
   "execution_count": 0,
   "metadata": {
    "colab": {
     "base_uri": "https://localhost:8080/",
     "height": 391
    },
    "colab_type": "code",
    "executionInfo": {
     "elapsed": 814,
     "status": "ok",
     "timestamp": 1560668603956,
     "user": {
      "displayName": "Teerapong Panboonyuen",
      "photoUrl": "https://lh6.googleusercontent.com/-iKyx5xtWFk8/AAAAAAAAAAI/AAAAAAAACqY/cdrOGhiN8Pw/s64/photo.jpg",
      "userId": "10952242531985089596"
     },
     "user_tz": -420
    },
    "id": "foP_XuICGOjJ",
    "outputId": "5fbfee50-2c79-4c14-be4f-84afbde394f6"
   },
   "outputs": [
    {
     "name": "stdout",
     "output_type": "stream",
     "text": [
      "January 4, 5 & 6: Aquaman\n",
      "January 11, 12 & 13: Aquaman 3D\n",
      "January 18, 19 & 20: Mary Poppins Returns\n",
      "January 25, 26 & 27: BumbleBee\n",
      "February 1, 2 & 3: A Dog's Way Home\n",
      "February 8, 9 & 10: The Upside\n",
      "February 15, 16 & 17: Glass\n",
      "February 22, 23 & 24: The Lego Movie 2: The Second Part\n",
      "March 1, 2 & 3: The Lego Movie 2: The Second Part 3D\n",
      "March 8, 9 & 10: How to Train Your Dragon: The Hidden World\n",
      "March 15, 16 & 17: How to Train Your Dragon: The Hidden World 3D\n",
      "March 22, 23 & 24: Alita: Battle Angel\n",
      "March 29, 30, 31, April 1 & 2: Captain Marvel\n",
      "April 5, 6 & 7: Captain Marvel 3D\n",
      "April 12, 13 & 14: Dumbo\n",
      "April 19, 20 & 21: Dumbo 3D\n",
      "April 26, 27, 28, 29 & 30: Avengers Endgame\n",
      "May 3, 4 & 5: Avengers Endgame 3D\n",
      "May 10, 11 & 12: Avengers Endgame\n",
      "May 17, 18 & 19: Shazam!\n",
      "May 24, 25, 26, 27 & 28: Aladdin\n",
      "May 31, June 1 & 2: Aladdin 3D\n"
     ]
    }
   ],
   "source": [
    "font = soup.find(\"b\", text=\"Past Movies:\").find_next_sibling(\"font\")\n",
    "for event in font.find_all(\"b\", recursive=False):\n",
    "   event_date = event.previous_sibling.strip()\n",
    "   event_text = event.get_text(strip=True)\n",
    "   print(event_date, event_text)"
   ]
  },
  {
   "cell_type": "code",
   "execution_count": 0,
   "metadata": {
    "colab": {},
    "colab_type": "code",
    "id": "VTUoAzT2HBA1"
   },
   "outputs": [],
   "source": []
  },
  {
   "cell_type": "code",
   "execution_count": 0,
   "metadata": {
    "colab": {
     "base_uri": "https://localhost:8080/",
     "height": 326
    },
    "colab_type": "code",
    "executionInfo": {
     "elapsed": 21223,
     "status": "ok",
     "timestamp": 1560669801124,
     "user": {
      "displayName": "Teerapong Panboonyuen",
      "photoUrl": "https://lh6.googleusercontent.com/-iKyx5xtWFk8/AAAAAAAAAAI/AAAAAAAACqY/cdrOGhiN8Pw/s64/photo.jpg",
      "userId": "10952242531985089596"
     },
     "user_tz": -420
    },
    "id": "MO-_ibYVJJqa",
    "outputId": "4d69ec1e-9d58-4027-bc2a-285cc8239b8f"
   },
   "outputs": [
    {
     "name": "stdout",
     "output_type": "stream",
     "text": [
      "Requirement already satisfied: lxml in /usr/local/lib/python3.6/dist-packages (4.2.6)\n",
      "Collecting dateparser\n",
      "\u001b[?25l  Downloading https://files.pythonhosted.org/packages/a0/30/5cb8bb214c0b111fb59137c2e19c636a136209dbe45e1c3e9d63f7a76c1a/dateparser-0.7.1-py2.py3-none-any.whl (351kB)\n",
      "\u001b[K     |████████████████████████████████| 358kB 2.8MB/s \n",
      "\u001b[?25hRequirement already satisfied: tzlocal in /usr/local/lib/python3.6/dist-packages (from dateparser) (1.5.1)\n",
      "Requirement already satisfied: python-dateutil in /usr/local/lib/python3.6/dist-packages (from dateparser) (2.5.3)\n",
      "Collecting regex (from dateparser)\n",
      "\u001b[?25l  Downloading https://files.pythonhosted.org/packages/6f/4e/1b178c38c9a1a184288f72065a65ca01f3154df43c6ad898624149b8b4e0/regex-2019.06.08.tar.gz (651kB)\n",
      "\u001b[K     |████████████████████████████████| 655kB 47.3MB/s \n",
      "\u001b[?25hRequirement already satisfied: pytz in /usr/local/lib/python3.6/dist-packages (from dateparser) (2018.9)\n",
      "Requirement already satisfied: six>=1.5 in /usr/local/lib/python3.6/dist-packages (from python-dateutil->dateparser) (1.12.0)\n",
      "Building wheels for collected packages: regex\n",
      "  Building wheel for regex (setup.py) ... \u001b[?25l\u001b[?25hdone\n",
      "  Stored in directory: /root/.cache/pip/wheels/35/e4/80/abf3b33ba89cf65cd262af8a22a5a999cc28fbfabea6b38473\n",
      "Successfully built regex\n",
      "Installing collected packages: regex, dateparser\n",
      "Successfully installed dateparser-0.7.1 regex-2019.6.8\n"
     ]
    }
   ],
   "source": [
    "!pip install lxml\n",
    "!pip install dateparser"
   ]
  },
  {
   "cell_type": "code",
   "execution_count": 0,
   "metadata": {
    "colab": {},
    "colab_type": "code",
    "id": "yD_-guLZHBnz"
   },
   "outputs": [],
   "source": [
    "from bs4 import BeautifulSoup\n",
    "import lxml\n",
    "import dateparser\n",
    "import requests\n",
    "import pandas as pd"
   ]
  },
  {
   "cell_type": "code",
   "execution_count": 0,
   "metadata": {
    "colab": {},
    "colab_type": "code",
    "id": "FqT4XpH2HBhU"
   },
   "outputs": [],
   "source": [
    "r = requests.get(\"https://www.eng.chula.ac.th/th/news/pr/\")"
   ]
  },
  {
   "cell_type": "code",
   "execution_count": 0,
   "metadata": {
    "colab": {},
    "colab_type": "code",
    "id": "B9qyW3P0I2gM"
   },
   "outputs": [],
   "source": [
    "soup = BeautifulSoup(r.text)"
   ]
  },
  {
   "cell_type": "code",
   "execution_count": 0,
   "metadata": {
    "colab": {},
    "colab_type": "code",
    "id": "AFC9MWLLMJNU"
   },
   "outputs": [],
   "source": [
    "titles = soup.findAll(\"div\", {\"class\":\"news-feed-title clamp2\"})\n",
    "title_list = [title.text for title in titles]"
   ]
  },
  {
   "cell_type": "code",
   "execution_count": 6,
   "metadata": {
    "colab": {
     "base_uri": "https://localhost:8080/",
     "height": 359
    },
    "colab_type": "code",
    "executionInfo": {
     "elapsed": 796,
     "status": "ok",
     "timestamp": 1560687189301,
     "user": {
      "displayName": "Teerapong Panboonyuen",
      "photoUrl": "https://lh6.googleusercontent.com/-iKyx5xtWFk8/AAAAAAAAAAI/AAAAAAAACqY/cdrOGhiN8Pw/s64/photo.jpg",
      "userId": "10952242531985089596"
     },
     "user_tz": -420
    },
    "id": "RQoplQ8qMJc6",
    "outputId": "f2dcac46-702b-46d3-f265-9c6906098ffc"
   },
   "outputs": [
    {
     "data": {
      "text/html": [
       "<div>\n",
       "<style scoped>\n",
       "    .dataframe tbody tr th:only-of-type {\n",
       "        vertical-align: middle;\n",
       "    }\n",
       "\n",
       "    .dataframe tbody tr th {\n",
       "        vertical-align: top;\n",
       "    }\n",
       "\n",
       "    .dataframe thead th {\n",
       "        text-align: right;\n",
       "    }\n",
       "</style>\n",
       "<table border=\"1\" class=\"dataframe\">\n",
       "  <thead>\n",
       "    <tr style=\"text-align: right;\">\n",
       "      <th></th>\n",
       "      <th>title</th>\n",
       "    </tr>\n",
       "  </thead>\n",
       "  <tbody>\n",
       "    <tr>\n",
       "      <th>0</th>\n",
       "      <td>เชิญชวนนิสิตและคณาจารย์เข้าร่วมจัดทำโครงงานทาง...</td>\n",
       "    </tr>\n",
       "    <tr>\n",
       "      <th>1</th>\n",
       "      <td>คณะวิศวฯ รับมอบทุนสนับสนุนการวิจัยพัฒนา</td>\n",
       "    </tr>\n",
       "    <tr>\n",
       "      <th>2</th>\n",
       "      <td>พิธีถวายสักการะพระบรมราชานุสาวรีย์พระบาทสมเด็จ...</td>\n",
       "    </tr>\n",
       "    <tr>\n",
       "      <th>3</th>\n",
       "      <td>คณาจารย์คณะวิศวกรรมศาสตร์ จุฬาฯ ร่วมจัดงานเวิร...</td>\n",
       "    </tr>\n",
       "    <tr>\n",
       "      <th>4</th>\n",
       "      <td>อาจารย์วิศวฯ รับรางวัลเชิดชูเกียรติด้านสิ่งแวด...</td>\n",
       "    </tr>\n",
       "    <tr>\n",
       "      <th>5</th>\n",
       "      <td>ทัวร์รายวิชา by DR. NATT : รายวิชา 2104588 การ...</td>\n",
       "    </tr>\n",
       "    <tr>\n",
       "      <th>6</th>\n",
       "      <td>การอบรม MATLAB &amp; SIMULINK</td>\n",
       "    </tr>\n",
       "    <tr>\n",
       "      <th>7</th>\n",
       "      <td>พิธีทำบุญตักบาตร พระสงฆ์ 21 รูป เนื่องในโอกาสบ...</td>\n",
       "    </tr>\n",
       "    <tr>\n",
       "      <th>8</th>\n",
       "      <td>โครงการบรรพชาอุปสมบท คณะวิศวฯ จุฬาฯ น้อมถวายพร...</td>\n",
       "    </tr>\n",
       "    <tr>\n",
       "      <th>9</th>\n",
       "      <td>คณะวิศวฯ ร่วมแสดงความยินดีในวาระครบรอบ 23 ปี แ...</td>\n",
       "    </tr>\n",
       "  </tbody>\n",
       "</table>\n",
       "</div>"
      ],
      "text/plain": [
       "                                               title\n",
       "0  เชิญชวนนิสิตและคณาจารย์เข้าร่วมจัดทำโครงงานทาง...\n",
       "1            คณะวิศวฯ รับมอบทุนสนับสนุนการวิจัยพัฒนา\n",
       "2  พิธีถวายสักการะพระบรมราชานุสาวรีย์พระบาทสมเด็จ...\n",
       "3  คณาจารย์คณะวิศวกรรมศาสตร์ จุฬาฯ ร่วมจัดงานเวิร...\n",
       "4  อาจารย์วิศวฯ รับรางวัลเชิดชูเกียรติด้านสิ่งแวด...\n",
       "5  ทัวร์รายวิชา by DR. NATT : รายวิชา 2104588 การ...\n",
       "6                          การอบรม MATLAB & SIMULINK\n",
       "7  พิธีทำบุญตักบาตร พระสงฆ์ 21 รูป เนื่องในโอกาสบ...\n",
       "8  โครงการบรรพชาอุปสมบท คณะวิศวฯ จุฬาฯ น้อมถวายพร...\n",
       "9  คณะวิศวฯ ร่วมแสดงความยินดีในวาระครบรอบ 23 ปี แ..."
      ]
     },
     "execution_count": 6,
     "metadata": {
      "tags": []
     },
     "output_type": "execute_result"
    }
   ],
   "source": [
    "df = pd.DataFrame({'title': title_list})\n",
    "df"
   ]
  },
  {
   "cell_type": "code",
   "execution_count": 0,
   "metadata": {
    "colab": {},
    "colab_type": "code",
    "id": "cuZ3IjmJKbHq"
   },
   "outputs": [],
   "source": []
  }
 ],
 "metadata": {
  "colab": {
   "collapsed_sections": [],
   "name": "2_WebScraping_2019.ipynb",
   "provenance": [],
   "version": "0.3.2"
  },
  "kernelspec": {
   "display_name": "Python 2",
   "language": "python",
   "name": "python2"
  },
  "language_info": {
   "codemirror_mode": {
    "name": "ipython",
    "version": 2
   },
   "file_extension": ".py",
   "mimetype": "text/x-python",
   "name": "python",
   "nbconvert_exporter": "python",
   "pygments_lexer": "ipython2",
   "version": "2.7.16"
  }
 },
 "nbformat": 4,
 "nbformat_minor": 1
}
