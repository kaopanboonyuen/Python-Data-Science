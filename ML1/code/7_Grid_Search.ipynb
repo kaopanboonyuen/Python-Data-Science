{
  "nbformat": 4,
  "nbformat_minor": 0,
  "metadata": {
    "kernelspec": {
      "display_name": "Python 3",
      "language": "python",
      "name": "python3"
    },
    "language_info": {
      "codemirror_mode": {
        "name": "ipython",
        "version": 3
      },
      "file_extension": ".py",
      "mimetype": "text/x-python",
      "name": "python",
      "nbconvert_exporter": "python",
      "pygments_lexer": "ipython3",
      "version": "3.6.8"
    },
    "colab": {
      "name": "grid_search.ipynb",
      "provenance": []
    }
  },
  "cells": [
    {
      "cell_type": "markdown",
      "metadata": {
        "id": "C3hiM5fnjWTU",
        "colab_type": "text"
      },
      "source": [
        "# Efficiently searching for optimal tuning parameters\n",
        "*From the video series: [Introduction to machine learning with scikit-learn](https://github.com/justmarkham/scikit-learn-videos)*"
      ]
    },
    {
      "cell_type": "markdown",
      "metadata": {
        "id": "dDv8SH40jWTY",
        "colab_type": "text"
      },
      "source": [
        "## Agenda\n",
        "\n",
        "- How can K-fold cross-validation be used to search for an **optimal tuning parameter**?\n",
        "- How can this process be made **more efficient**?\n",
        "- How do you search for **multiple tuning parameters** at once?\n",
        "- What do you do with those tuning parameters before making **real predictions**?\n",
        "- How can the **computational expense** of this process be reduced?"
      ]
    },
    {
      "cell_type": "markdown",
      "metadata": {
        "id": "h1rmSXLajWTZ",
        "colab_type": "text"
      },
      "source": [
        "## Review of K-fold cross-validation"
      ]
    },
    {
      "cell_type": "markdown",
      "metadata": {
        "id": "2Y9uJXO4jWTb",
        "colab_type": "text"
      },
      "source": [
        "Steps for cross-validation:\n",
        "\n",
        "- Dataset is split into K \"folds\" of **equal size**\n",
        "- Each fold acts as the **testing set** 1 time, and acts as the **training set** K-1 times\n",
        "- **Average testing performance** is used as the estimate of out-of-sample performance\n",
        "\n",
        "Benefits of cross-validation:\n",
        "\n",
        "- More **reliable** estimate of out-of-sample performance than train/test split\n",
        "- Can be used for selecting **tuning parameters**, choosing between **models**, and selecting **features**\n",
        "\n",
        "Drawbacks of cross-validation:\n",
        "\n",
        "- Can be computationally **expensive**"
      ]
    },
    {
      "cell_type": "markdown",
      "metadata": {
        "id": "7jWiFSHhjWTc",
        "colab_type": "text"
      },
      "source": [
        "## Review of parameter tuning using `cross_val_score`"
      ]
    },
    {
      "cell_type": "markdown",
      "metadata": {
        "id": "8lK4eHHVjWTf",
        "colab_type": "text"
      },
      "source": [
        "**Goal:** Select the best tuning parameters (aka \"hyperparameters\") for KNN on the iris dataset"
      ]
    },
    {
      "cell_type": "code",
      "metadata": {
        "id": "-HL__dYWjWTh",
        "colab_type": "code",
        "colab": {}
      },
      "source": [
        "from sklearn.datasets import load_iris\n",
        "from sklearn.neighbors import KNeighborsClassifier\n",
        "from sklearn.model_selection import cross_val_score\n",
        "import matplotlib.pyplot as plt\n",
        "import warnings\n",
        "warnings.filterwarnings('ignore')\n",
        "%matplotlib inline"
      ],
      "execution_count": 0,
      "outputs": []
    },
    {
      "cell_type": "code",
      "metadata": {
        "id": "wlBl3JO3jWTm",
        "colab_type": "code",
        "colab": {}
      },
      "source": [
        "# read in the iris data\n",
        "iris = load_iris()\n",
        "\n",
        "# create X (features) and y (response)\n",
        "X = iris.data\n",
        "y = iris.target"
      ],
      "execution_count": 0,
      "outputs": []
    },
    {
      "cell_type": "code",
      "metadata": {
        "id": "W3ctEOCOjWTs",
        "colab_type": "code",
        "colab": {
          "base_uri": "https://localhost:8080/",
          "height": 52
        },
        "outputId": "8e6b5158-6745-4196-a498-6ee59fa80ec9"
      },
      "source": [
        "# 10-fold cross-validation with K=5 for KNN (the n_neighbors parameter)\n",
        "knn = KNeighborsClassifier(n_neighbors=5)\n",
        "scores = cross_val_score(knn, X, y, cv=10, scoring='accuracy')\n",
        "print(scores)"
      ],
      "execution_count": 31,
      "outputs": [
        {
          "output_type": "stream",
          "text": [
            "[1.         0.93333333 1.         1.         0.86666667 0.93333333\n",
            " 0.93333333 1.         1.         1.        ]\n"
          ],
          "name": "stdout"
        }
      ]
    },
    {
      "cell_type": "code",
      "metadata": {
        "id": "TusTFMtdjWTz",
        "colab_type": "code",
        "colab": {
          "base_uri": "https://localhost:8080/",
          "height": 34
        },
        "outputId": "d01d0e65-7a5e-49ac-e908-6edd179b0d77"
      },
      "source": [
        "# use average accuracy as an estimate of out-of-sample accuracy\n",
        "print(scores.mean())"
      ],
      "execution_count": 32,
      "outputs": [
        {
          "output_type": "stream",
          "text": [
            "0.9666666666666668\n"
          ],
          "name": "stdout"
        }
      ]
    },
    {
      "cell_type": "code",
      "metadata": {
        "id": "Z0z2qs5MjWT4",
        "colab_type": "code",
        "colab": {
          "base_uri": "https://localhost:8080/",
          "height": 54
        },
        "outputId": "e14d8acc-2e82-4da5-a569-42294454359d"
      },
      "source": [
        "# search for an optimal value of K for KNN\n",
        "k_range = list(range(1, 31))\n",
        "k_scores = []\n",
        "for k in k_range:\n",
        "    knn = KNeighborsClassifier(n_neighbors=k)\n",
        "    scores = cross_val_score(knn, X, y, cv=10, scoring='accuracy')\n",
        "    k_scores.append(scores.mean())\n",
        "print(k_scores)"
      ],
      "execution_count": 33,
      "outputs": [
        {
          "output_type": "stream",
          "text": [
            "[0.96, 0.9533333333333334, 0.9666666666666666, 0.9666666666666666, 0.9666666666666668, 0.9666666666666668, 0.9666666666666668, 0.9666666666666668, 0.9733333333333334, 0.9666666666666668, 0.9666666666666668, 0.9733333333333334, 0.9800000000000001, 0.9733333333333334, 0.9733333333333334, 0.9733333333333334, 0.9733333333333334, 0.9800000000000001, 0.9733333333333334, 0.9800000000000001, 0.9666666666666666, 0.9666666666666666, 0.9733333333333334, 0.96, 0.9666666666666666, 0.96, 0.9666666666666666, 0.9533333333333334, 0.9533333333333334, 0.9533333333333334]\n"
          ],
          "name": "stdout"
        }
      ]
    },
    {
      "cell_type": "code",
      "metadata": {
        "id": "3td-BEjFjWT9",
        "colab_type": "code",
        "colab": {
          "base_uri": "https://localhost:8080/",
          "height": 296
        },
        "outputId": "e39ebd03-1260-4b08-b402-b9499553b089"
      },
      "source": [
        "# plot the value of K for KNN (x-axis) versus the cross-validated accuracy (y-axis)\n",
        "plt.plot(k_range, k_scores)\n",
        "plt.xlabel('Value of K for KNN')\n",
        "plt.ylabel('Cross-Validated Accuracy')"
      ],
      "execution_count": 34,
      "outputs": [
        {
          "output_type": "execute_result",
          "data": {
            "text/plain": [
              "Text(0, 0.5, 'Cross-Validated Accuracy')"
            ]
          },
          "metadata": {
            "tags": []
          },
          "execution_count": 34
        },
        {
          "output_type": "display_data",
          "data": {
            "image/png": "[encoded data removed]",
            "text/plain": [
              "<Figure size 432x288 with 1 Axes>"
            ]
          },
          "metadata": {
            "tags": []
          }
        }
      ]
    },
    {
      "cell_type": "markdown",
      "metadata": {
        "id": "qVgWYDZHjWUD",
        "colab_type": "text"
      },
      "source": [
        "## More efficient parameter tuning using `GridSearchCV`"
      ]
    },
    {
      "cell_type": "markdown",
      "metadata": {
        "id": "jjAO_qckjWUG",
        "colab_type": "text"
      },
      "source": [
        "Allows you to define a **grid of parameters** that will be **searched** using K-fold cross-validation"
      ]
    },
    {
      "cell_type": "code",
      "metadata": {
        "id": "qoe5vbwsjWUH",
        "colab_type": "code",
        "colab": {}
      },
      "source": [
        "from sklearn.model_selection import GridSearchCV"
      ],
      "execution_count": 0,
      "outputs": []
    },
    {
      "cell_type": "code",
      "metadata": {
        "id": "QGfqtRDmjWUM",
        "colab_type": "code",
        "colab": {
          "base_uri": "https://localhost:8080/",
          "height": 34
        },
        "outputId": "0dd58c03-7580-4ff0-f12e-fb89e3ef0a47"
      },
      "source": [
        "# define the parameter values that should be searched\n",
        "k_range = list(range(1, 31))\n",
        "print(k_range)"
      ],
      "execution_count": 36,
      "outputs": [
        {
          "output_type": "stream",
          "text": [
            "[1, 2, 3, 4, 5, 6, 7, 8, 9, 10, 11, 12, 13, 14, 15, 16, 17, 18, 19, 20, 21, 22, 23, 24, 25, 26, 27, 28, 29, 30]\n"
          ],
          "name": "stdout"
        }
      ]
    },
    {
      "cell_type": "code",
      "metadata": {
        "id": "X9uzdWsOjWUQ",
        "colab_type": "code",
        "colab": {
          "base_uri": "https://localhost:8080/",
          "height": 34
        },
        "outputId": "85b27119-c024-47aa-c607-394c62f8d80d"
      },
      "source": [
        "# create a parameter grid: map the parameter names to the values that should be searched\n",
        "param_grid = dict(n_neighbors=k_range)\n",
        "print(param_grid)"
      ],
      "execution_count": 37,
      "outputs": [
        {
          "output_type": "stream",
          "text": [
            "{'n_neighbors': [1, 2, 3, 4, 5, 6, 7, 8, 9, 10, 11, 12, 13, 14, 15, 16, 17, 18, 19, 20, 21, 22, 23, 24, 25, 26, 27, 28, 29, 30]}\n"
          ],
          "name": "stdout"
        }
      ]
    },
    {
      "cell_type": "code",
      "metadata": {
        "id": "BCRMDNnCjWUX",
        "colab_type": "code",
        "colab": {}
      },
      "source": [
        "# instantiate the grid\n",
        "grid = GridSearchCV(knn, param_grid, cv=10, scoring='accuracy')"
      ],
      "execution_count": 0,
      "outputs": []
    },
    {
      "cell_type": "markdown",
      "metadata": {
        "id": "wuysBqIsjWUb",
        "colab_type": "text"
      },
      "source": [
        "- You can set **`n_jobs = -1`** to run computations in parallel (if supported by your computer and OS)"
      ]
    },
    {
      "cell_type": "code",
      "metadata": {
        "id": "LpPob5SQjWUd",
        "colab_type": "code",
        "colab": {
          "base_uri": "https://localhost:8080/",
          "height": 230
        },
        "outputId": "fa465e0a-b0ee-486b-c482-904fa622076f"
      },
      "source": [
        "# fit the grid with data\n",
        "grid.fit(X, y)"
      ],
      "execution_count": 39,
      "outputs": [
        {
          "output_type": "execute_result",
          "data": {
            "text/plain": [
              "GridSearchCV(cv=10, error_score=nan,\n",
              "             estimator=KNeighborsClassifier(algorithm='auto', leaf_size=30,\n",
              "                                            metric='minkowski',\n",
              "                                            metric_params=None, n_jobs=None,\n",
              "                                            n_neighbors=30, p=2,\n",
              "                                            weights='uniform'),\n",
              "             iid='deprecated', n_jobs=None,\n",
              "             param_grid={'n_neighbors': [1, 2, 3, 4, 5, 6, 7, 8, 9, 10, 11, 12,\n",
              "                                         13, 14, 15, 16, 17, 18, 19, 20, 21, 22,\n",
              "                                         23, 24, 25, 26, 27, 28, 29, 30]},\n",
              "             pre_dispatch='2*n_jobs', refit=True, return_train_score=False,\n",
              "             scoring='accuracy', verbose=0)"
            ]
          },
          "metadata": {
            "tags": []
          },
          "execution_count": 39
        }
      ]
    },
    {
      "cell_type": "code",
      "metadata": {
        "id": "sLocFIORjWUh",
        "colab_type": "code",
        "colab": {
          "base_uri": "https://localhost:8080/",
          "height": 143
        },
        "outputId": "8033551e-ee6d-48e1-f400-5750bc37dcee"
      },
      "source": [
        "# view the complete results (list of named tuples)\n",
        "#grid.grid_scores_\n",
        "print(grid.cv_results_['mean_test_score'])\n",
        "print(grid.cv_results_['params'])"
      ],
      "execution_count": 40,
      "outputs": [
        {
          "output_type": "stream",
          "text": [
            "[0.96       0.95333333 0.96666667 0.96666667 0.96666667 0.96666667\n",
            " 0.96666667 0.96666667 0.97333333 0.96666667 0.96666667 0.97333333\n",
            " 0.98       0.97333333 0.97333333 0.97333333 0.97333333 0.98\n",
            " 0.97333333 0.98       0.96666667 0.96666667 0.97333333 0.96\n",
            " 0.96666667 0.96       0.96666667 0.95333333 0.95333333 0.95333333]\n",
            "[{'n_neighbors': 1}, {'n_neighbors': 2}, {'n_neighbors': 3}, {'n_neighbors': 4}, {'n_neighbors': 5}, {'n_neighbors': 6}, {'n_neighbors': 7}, {'n_neighbors': 8}, {'n_neighbors': 9}, {'n_neighbors': 10}, {'n_neighbors': 11}, {'n_neighbors': 12}, {'n_neighbors': 13}, {'n_neighbors': 14}, {'n_neighbors': 15}, {'n_neighbors': 16}, {'n_neighbors': 17}, {'n_neighbors': 18}, {'n_neighbors': 19}, {'n_neighbors': 20}, {'n_neighbors': 21}, {'n_neighbors': 22}, {'n_neighbors': 23}, {'n_neighbors': 24}, {'n_neighbors': 25}, {'n_neighbors': 26}, {'n_neighbors': 27}, {'n_neighbors': 28}, {'n_neighbors': 29}, {'n_neighbors': 30}]\n"
          ],
          "name": "stdout"
        }
      ]
    },
    {
      "cell_type": "code",
      "metadata": {
        "id": "VmKG4Z6fjWUq",
        "colab_type": "code",
        "colab": {
          "base_uri": "https://localhost:8080/",
          "height": 52
        },
        "outputId": "20f28f03-7fcb-42d7-bddc-0d8ef4574280"
      },
      "source": [
        "# examine the first tuple\n",
        "print(grid.cv_results_['mean_test_score'][0])\n",
        "print(grid.cv_results_['params'][0])"
      ],
      "execution_count": 41,
      "outputs": [
        {
          "output_type": "stream",
          "text": [
            "0.96\n",
            "{'n_neighbors': 1}\n"
          ],
          "name": "stdout"
        }
      ]
    },
    {
      "cell_type": "code",
      "metadata": {
        "id": "HsLAr_LQjWUw",
        "colab_type": "code",
        "colab": {
          "base_uri": "https://localhost:8080/",
          "height": 54
        },
        "outputId": "0bd5da0c-4c8c-472e-8b5b-ea607f3329cb"
      },
      "source": [
        "# create a list of the mean scores only\n",
        "grid_mean_scores = [result for result in grid.cv_results_['mean_test_score']]\n",
        "print(grid_mean_scores)"
      ],
      "execution_count": 42,
      "outputs": [
        {
          "output_type": "stream",
          "text": [
            "[0.96, 0.9533333333333334, 0.9666666666666666, 0.9666666666666666, 0.9666666666666668, 0.9666666666666668, 0.9666666666666668, 0.9666666666666668, 0.9733333333333334, 0.9666666666666668, 0.9666666666666668, 0.9733333333333334, 0.9800000000000001, 0.9733333333333334, 0.9733333333333334, 0.9733333333333334, 0.9733333333333334, 0.9800000000000001, 0.9733333333333334, 0.9800000000000001, 0.9666666666666666, 0.9666666666666666, 0.9733333333333334, 0.96, 0.9666666666666666, 0.96, 0.9666666666666666, 0.9533333333333334, 0.9533333333333334, 0.9533333333333334]\n"
          ],
          "name": "stdout"
        }
      ]
    },
    {
      "cell_type": "code",
      "metadata": {
        "id": "kwvRxI5QjWU2",
        "colab_type": "code",
        "colab": {
          "base_uri": "https://localhost:8080/",
          "height": 296
        },
        "outputId": "1bd59388-9f6d-4145-85ae-baad1d335a76"
      },
      "source": [
        "# plot the results\n",
        "plt.plot(k_range, grid_mean_scores)\n",
        "plt.xlabel('Value of K for KNN')\n",
        "plt.ylabel('Cross-Validated Accuracy')"
      ],
      "execution_count": 43,
      "outputs": [
        {
          "output_type": "execute_result",
          "data": {
            "text/plain": [
              "Text(0, 0.5, 'Cross-Validated Accuracy')"
            ]
          },
          "metadata": {
            "tags": []
          },
          "execution_count": 43
        },
        {
          "output_type": "display_data",
          "data": {
            "image/png": "[encoded data removed]",
            "text/plain": [
              "<Figure size 432x288 with 1 Axes>"
            ]
          },
          "metadata": {
            "tags": []
          }
        }
      ]
    },
    {
      "cell_type": "code",
      "metadata": {
        "id": "R7Qp4YhJjWU6",
        "colab_type": "code",
        "colab": {
          "base_uri": "https://localhost:8080/",
          "height": 105
        },
        "outputId": "784b9c91-147f-440f-ba10-f67e7d5a2b22"
      },
      "source": [
        "# examine the best model\n",
        "print(grid.best_score_)\n",
        "print(grid.best_params_)\n",
        "print(grid.best_estimator_)"
      ],
      "execution_count": 44,
      "outputs": [
        {
          "output_type": "stream",
          "text": [
            "0.9800000000000001\n",
            "{'n_neighbors': 13}\n",
            "KNeighborsClassifier(algorithm='auto', leaf_size=30, metric='minkowski',\n",
            "                     metric_params=None, n_jobs=None, n_neighbors=13, p=2,\n",
            "                     weights='uniform')\n"
          ],
          "name": "stdout"
        }
      ]
    },
    {
      "cell_type": "markdown",
      "metadata": {
        "id": "98f6sfdpjWU9",
        "colab_type": "text"
      },
      "source": [
        "## Searching multiple parameters simultaneously"
      ]
    },
    {
      "cell_type": "markdown",
      "metadata": {
        "id": "4PUBBUPejWU-",
        "colab_type": "text"
      },
      "source": [
        "- **Example:** tuning `max_depth` and `min_samples_leaf` for a `DecisionTreeClassifier`\n",
        "- Could tune parameters **independently**: change `max_depth` while leaving `min_samples_leaf` at its default value, and vice versa\n",
        "- But, best performance might be achieved when **neither parameter** is at its default value"
      ]
    },
    {
      "cell_type": "code",
      "metadata": {
        "id": "nSLfNIlEjWU_",
        "colab_type": "code",
        "colab": {}
      },
      "source": [
        "# define the parameter values that should be searched\n",
        "k_range = list(range(1, 31))\n",
        "weight_options = ['uniform', 'distance']"
      ],
      "execution_count": 0,
      "outputs": []
    },
    {
      "cell_type": "code",
      "metadata": {
        "id": "C2mXUqt4jWVJ",
        "colab_type": "code",
        "colab": {
          "base_uri": "https://localhost:8080/",
          "height": 34
        },
        "outputId": "0472464e-190f-438b-f5f4-8dcf34ae827e"
      },
      "source": [
        "# create a parameter grid: map the parameter names to the values that should be searched\n",
        "param_grid = dict(n_neighbors=k_range, weights=weight_options)\n",
        "print(param_grid)"
      ],
      "execution_count": 46,
      "outputs": [
        {
          "output_type": "stream",
          "text": [
            "{'n_neighbors': [1, 2, 3, 4, 5, 6, 7, 8, 9, 10, 11, 12, 13, 14, 15, 16, 17, 18, 19, 20, 21, 22, 23, 24, 25, 26, 27, 28, 29, 30], 'weights': ['uniform', 'distance']}\n"
          ],
          "name": "stdout"
        }
      ]
    },
    {
      "cell_type": "code",
      "metadata": {
        "id": "EhSpDAjMjWVN",
        "colab_type": "code",
        "colab": {
          "base_uri": "https://localhost:8080/",
          "height": 247
        },
        "outputId": "ec04905e-0e3d-4175-bee6-1b49c532e752"
      },
      "source": [
        "# instantiate and fit the grid\n",
        "grid = GridSearchCV(knn, param_grid, cv=10, scoring='accuracy')\n",
        "grid.fit(X, y)"
      ],
      "execution_count": 47,
      "outputs": [
        {
          "output_type": "execute_result",
          "data": {
            "text/plain": [
              "GridSearchCV(cv=10, error_score=nan,\n",
              "             estimator=KNeighborsClassifier(algorithm='auto', leaf_size=30,\n",
              "                                            metric='minkowski',\n",
              "                                            metric_params=None, n_jobs=None,\n",
              "                                            n_neighbors=30, p=2,\n",
              "                                            weights='uniform'),\n",
              "             iid='deprecated', n_jobs=None,\n",
              "             param_grid={'n_neighbors': [1, 2, 3, 4, 5, 6, 7, 8, 9, 10, 11, 12,\n",
              "                                         13, 14, 15, 16, 17, 18, 19, 20, 21, 22,\n",
              "                                         23, 24, 25, 26, 27, 28, 29, 30],\n",
              "                         'weights': ['uniform', 'distance']},\n",
              "             pre_dispatch='2*n_jobs', refit=True, return_train_score=False,\n",
              "             scoring='accuracy', verbose=0)"
            ]
          },
          "metadata": {
            "tags": []
          },
          "execution_count": 47
        }
      ]
    },
    {
      "cell_type": "code",
      "metadata": {
        "id": "WgFndhgkjWVQ",
        "colab_type": "code",
        "colab": {
          "base_uri": "https://localhost:8080/",
          "height": 1000
        },
        "outputId": "2d26fc1a-d368-443a-a4ed-b7b8ac34d7e9"
      },
      "source": [
        "# view the complete results\n",
        "grid.cv_results_"
      ],
      "execution_count": 48,
      "outputs": [
        {
          "output_type": "execute_result",
          "data": {
            "text/plain": [
              "{'mean_fit_time': array([0.00076911, 0.00052867, 0.00042877, 0.00043414, 0.00042424,\n",
              "        0.00045509, 0.00045009, 0.00041673, 0.00043604, 0.00043609,\n",
              "        0.00043397, 0.00041807, 0.0004494 , 0.00042415, 0.0004154 ,\n",
              "        0.00042138, 0.00041325, 0.00041564, 0.0004128 , 0.00041063,\n",
              "        0.00041008, 0.00041082, 0.00041392, 0.00042844, 0.00044341,\n",
              "        0.00041676, 0.00042229, 0.00041709, 0.00041525, 0.00059354,\n",
              "        0.00043011, 0.00042951, 0.00041084, 0.0004143 , 0.00041578,\n",
              "        0.00042663, 0.00043278, 0.00041301, 0.00041428, 0.0004354 ,\n",
              "        0.00046751, 0.0004154 , 0.00041609, 0.00042832, 0.00043912,\n",
              "        0.00040991, 0.00041897, 0.00043435, 0.00042391, 0.00068681,\n",
              "        0.00053236, 0.00047691, 0.00046933, 0.00041521, 0.00042057,\n",
              "        0.00044162, 0.0004451 , 0.00041392, 0.00045426, 0.00041492]),\n",
              " 'mean_score_time': array([0.00208113, 0.00100658, 0.00113828, 0.00078845, 0.00113087,\n",
              "        0.00086937, 0.00113513, 0.00075445, 0.00117962, 0.00078611,\n",
              "        0.00122702, 0.00080752, 0.00121431, 0.00078223, 0.00114799,\n",
              "        0.00076861, 0.00114582, 0.00080628, 0.00112145, 0.00077896,\n",
              "        0.00114129, 0.00078521, 0.00111325, 0.00081346, 0.0012002 ,\n",
              "        0.00078859, 0.00116568, 0.00079715, 0.0011307 , 0.00106423,\n",
              "        0.00118508, 0.00081873, 0.00112834, 0.0008548 , 0.00114579,\n",
              "        0.00081925, 0.00127082, 0.00080051, 0.00114   , 0.00088212,\n",
              "        0.00129719, 0.0007848 , 0.001158  , 0.00081799, 0.00117021,\n",
              "        0.00081563, 0.00119531, 0.00085669, 0.00122423, 0.00138631,\n",
              "        0.0014411 , 0.00094323, 0.00130332, 0.00080123, 0.00119164,\n",
              "        0.00087624, 0.00122919, 0.00083916, 0.00119498, 0.00082316]),\n",
              " 'mean_test_score': array([0.96      , 0.96      , 0.95333333, 0.96      , 0.96666667,\n",
              "        0.96666667, 0.96666667, 0.96666667, 0.96666667, 0.96666667,\n",
              "        0.96666667, 0.96666667, 0.96666667, 0.96666667, 0.96666667,\n",
              "        0.96666667, 0.97333333, 0.97333333, 0.96666667, 0.97333333,\n",
              "        0.96666667, 0.97333333, 0.97333333, 0.97333333, 0.98      ,\n",
              "        0.97333333, 0.97333333, 0.97333333, 0.97333333, 0.98      ,\n",
              "        0.97333333, 0.97333333, 0.97333333, 0.98      , 0.98      ,\n",
              "        0.97333333, 0.97333333, 0.98      , 0.98      , 0.96666667,\n",
              "        0.96666667, 0.96666667, 0.96666667, 0.96666667, 0.97333333,\n",
              "        0.97333333, 0.96      , 0.97333333, 0.96666667, 0.97333333,\n",
              "        0.96      , 0.96666667, 0.96666667, 0.98      , 0.95333333,\n",
              "        0.97333333, 0.95333333, 0.97333333, 0.95333333, 0.96666667]),\n",
              " 'param_n_neighbors': masked_array(data=[1, 1, 2, 2, 3, 3, 4, 4, 5, 5, 6, 6, 7, 7, 8, 8, 9, 9,\n",
              "                    10, 10, 11, 11, 12, 12, 13, 13, 14, 14, 15, 15, 16, 16,\n",
              "                    17, 17, 18, 18, 19, 19, 20, 20, 21, 21, 22, 22, 23, 23,\n",
              "                    24, 24, 25, 25, 26, 26, 27, 27, 28, 28, 29, 29, 30, 30],\n",
              "              mask=[False, False, False, False, False, False, False, False,\n",
              "                    False, False, False, False, False, False, False, False,\n",
              "                    False, False, False, False, False, False, False, False,\n",
              "                    False, False, False, False, False, False, False, False,\n",
              "                    False, False, False, False, False, False, False, False,\n",
              "                    False, False, False, False, False, False, False, False,\n",
              "                    False, False, False, False, False, False, False, False,\n",
              "                    False, False, False, False],\n",
              "        fill_value='?',\n",
              "             dtype=object),\n",
              " 'param_weights': masked_array(data=['uniform', 'distance', 'uniform', 'distance',\n",
              "                    'uniform', 'distance', 'uniform', 'distance',\n",
              "                    'uniform', 'distance', 'uniform', 'distance',\n",
              "                    'uniform', 'distance', 'uniform', 'distance',\n",
              "                    'uniform', 'distance', 'uniform', 'distance',\n",
              "                    'uniform', 'distance', 'uniform', 'distance',\n",
              "                    'uniform', 'distance', 'uniform', 'distance',\n",
              "                    'uniform', 'distance', 'uniform', 'distance',\n",
              "                    'uniform', 'distance', 'uniform', 'distance',\n",
              "                    'uniform', 'distance', 'uniform', 'distance',\n",
              "                    'uniform', 'distance', 'uniform', 'distance',\n",
              "                    'uniform', 'distance', 'uniform', 'distance',\n",
              "                    'uniform', 'distance', 'uniform', 'distance',\n",
              "                    'uniform', 'distance', 'uniform', 'distance',\n",
              "                    'uniform', 'distance', 'uniform', 'distance'],\n",
              "              mask=[False, False, False, False, False, False, False, False,\n",
              "                    False, False, False, False, False, False, False, False,\n",
              "                    False, False, False, False, False, False, False, False,\n",
              "                    False, False, False, False, False, False, False, False,\n",
              "                    False, False, False, False, False, False, False, False,\n",
              "                    False, False, False, False, False, False, False, False,\n",
              "                    False, False, False, False, False, False, False, False,\n",
              "                    False, False, False, False],\n",
              "        fill_value='?',\n",
              "             dtype=object),\n",
              " 'params': [{'n_neighbors': 1, 'weights': 'uniform'},\n",
              "  {'n_neighbors': 1, 'weights': 'distance'},\n",
              "  {'n_neighbors': 2, 'weights': 'uniform'},\n",
              "  {'n_neighbors': 2, 'weights': 'distance'},\n",
              "  {'n_neighbors': 3, 'weights': 'uniform'},\n",
              "  {'n_neighbors': 3, 'weights': 'distance'},\n",
              "  {'n_neighbors': 4, 'weights': 'uniform'},\n",
              "  {'n_neighbors': 4, 'weights': 'distance'},\n",
              "  {'n_neighbors': 5, 'weights': 'uniform'},\n",
              "  {'n_neighbors': 5, 'weights': 'distance'},\n",
              "  {'n_neighbors': 6, 'weights': 'uniform'},\n",
              "  {'n_neighbors': 6, 'weights': 'distance'},\n",
              "  {'n_neighbors': 7, 'weights': 'uniform'},\n",
              "  {'n_neighbors': 7, 'weights': 'distance'},\n",
              "  {'n_neighbors': 8, 'weights': 'uniform'},\n",
              "  {'n_neighbors': 8, 'weights': 'distance'},\n",
              "  {'n_neighbors': 9, 'weights': 'uniform'},\n",
              "  {'n_neighbors': 9, 'weights': 'distance'},\n",
              "  {'n_neighbors': 10, 'weights': 'uniform'},\n",
              "  {'n_neighbors': 10, 'weights': 'distance'},\n",
              "  {'n_neighbors': 11, 'weights': 'uniform'},\n",
              "  {'n_neighbors': 11, 'weights': 'distance'},\n",
              "  {'n_neighbors': 12, 'weights': 'uniform'},\n",
              "  {'n_neighbors': 12, 'weights': 'distance'},\n",
              "  {'n_neighbors': 13, 'weights': 'uniform'},\n",
              "  {'n_neighbors': 13, 'weights': 'distance'},\n",
              "  {'n_neighbors': 14, 'weights': 'uniform'},\n",
              "  {'n_neighbors': 14, 'weights': 'distance'},\n",
              "  {'n_neighbors': 15, 'weights': 'uniform'},\n",
              "  {'n_neighbors': 15, 'weights': 'distance'},\n",
              "  {'n_neighbors': 16, 'weights': 'uniform'},\n",
              "  {'n_neighbors': 16, 'weights': 'distance'},\n",
              "  {'n_neighbors': 17, 'weights': 'uniform'},\n",
              "  {'n_neighbors': 17, 'weights': 'distance'},\n",
              "  {'n_neighbors': 18, 'weights': 'uniform'},\n",
              "  {'n_neighbors': 18, 'weights': 'distance'},\n",
              "  {'n_neighbors': 19, 'weights': 'uniform'},\n",
              "  {'n_neighbors': 19, 'weights': 'distance'},\n",
              "  {'n_neighbors': 20, 'weights': 'uniform'},\n",
              "  {'n_neighbors': 20, 'weights': 'distance'},\n",
              "  {'n_neighbors': 21, 'weights': 'uniform'},\n",
              "  {'n_neighbors': 21, 'weights': 'distance'},\n",
              "  {'n_neighbors': 22, 'weights': 'uniform'},\n",
              "  {'n_neighbors': 22, 'weights': 'distance'},\n",
              "  {'n_neighbors': 23, 'weights': 'uniform'},\n",
              "  {'n_neighbors': 23, 'weights': 'distance'},\n",
              "  {'n_neighbors': 24, 'weights': 'uniform'},\n",
              "  {'n_neighbors': 24, 'weights': 'distance'},\n",
              "  {'n_neighbors': 25, 'weights': 'uniform'},\n",
              "  {'n_neighbors': 25, 'weights': 'distance'},\n",
              "  {'n_neighbors': 26, 'weights': 'uniform'},\n",
              "  {'n_neighbors': 26, 'weights': 'distance'},\n",
              "  {'n_neighbors': 27, 'weights': 'uniform'},\n",
              "  {'n_neighbors': 27, 'weights': 'distance'},\n",
              "  {'n_neighbors': 28, 'weights': 'uniform'},\n",
              "  {'n_neighbors': 28, 'weights': 'distance'},\n",
              "  {'n_neighbors': 29, 'weights': 'uniform'},\n",
              "  {'n_neighbors': 29, 'weights': 'distance'},\n",
              "  {'n_neighbors': 30, 'weights': 'uniform'},\n",
              "  {'n_neighbors': 30, 'weights': 'distance'}],\n",
              " 'rank_test_score': array([52, 52, 57, 52, 43, 43, 43, 43, 29, 29, 29, 29, 29, 29, 29, 29,  8,\n",
              "         8, 29,  8, 29,  8,  8,  8,  1,  8,  8,  8,  8,  1,  8,  8,  8,  1,\n",
              "         1,  8,  8,  1,  1, 29, 43, 29, 43, 29,  8,  8, 52,  8, 43,  8, 52,\n",
              "        29, 43,  1, 57,  8, 57,  8, 57, 43], dtype=int32),\n",
              " 'split0_test_score': array([1.        , 1.        , 1.        , 1.        , 1.        ,\n",
              "        1.        , 1.        , 1.        , 1.        , 1.        ,\n",
              "        1.        , 1.        , 1.        , 1.        , 1.        ,\n",
              "        1.        , 1.        , 1.        , 1.        , 1.        ,\n",
              "        1.        , 1.        , 1.        , 1.        , 1.        ,\n",
              "        1.        , 1.        , 1.        , 0.93333333, 1.        ,\n",
              "        1.        , 1.        , 0.93333333, 1.        , 1.        ,\n",
              "        1.        , 0.93333333, 1.        , 1.        , 1.        ,\n",
              "        0.93333333, 1.        , 0.93333333, 1.        , 0.93333333,\n",
              "        1.        , 0.93333333, 1.        , 0.93333333, 1.        ,\n",
              "        0.93333333, 1.        , 0.93333333, 1.        , 0.93333333,\n",
              "        1.        , 0.93333333, 1.        , 0.93333333, 1.        ]),\n",
              " 'split1_test_score': array([0.93333333, 0.93333333, 0.93333333, 0.93333333, 0.93333333,\n",
              "        0.93333333, 0.93333333, 0.93333333, 0.93333333, 0.93333333,\n",
              "        0.93333333, 0.93333333, 0.93333333, 0.93333333, 0.93333333,\n",
              "        0.93333333, 0.93333333, 0.93333333, 0.93333333, 0.93333333,\n",
              "        0.93333333, 0.93333333, 0.93333333, 0.93333333, 0.93333333,\n",
              "        0.93333333, 0.93333333, 0.93333333, 0.93333333, 0.93333333,\n",
              "        0.93333333, 0.93333333, 0.93333333, 0.93333333, 0.93333333,\n",
              "        0.93333333, 0.93333333, 0.93333333, 0.93333333, 0.93333333,\n",
              "        0.93333333, 0.93333333, 0.93333333, 0.93333333, 0.93333333,\n",
              "        0.93333333, 0.93333333, 0.93333333, 0.93333333, 0.93333333,\n",
              "        0.93333333, 0.93333333, 0.93333333, 0.93333333, 0.93333333,\n",
              "        0.93333333, 0.93333333, 0.93333333, 0.93333333, 0.93333333]),\n",
              " 'split2_test_score': array([1., 1., 1., 1., 1., 1., 1., 1., 1., 1., 1., 1., 1., 1., 1., 1., 1.,\n",
              "        1., 1., 1., 1., 1., 1., 1., 1., 1., 1., 1., 1., 1., 1., 1., 1., 1.,\n",
              "        1., 1., 1., 1., 1., 1., 1., 1., 1., 1., 1., 1., 1., 1., 1., 1., 1.,\n",
              "        1., 1., 1., 1., 1., 1., 1., 1., 1.]),\n",
              " 'split3_test_score': array([0.93333333, 0.93333333, 0.93333333, 0.93333333, 0.93333333,\n",
              "        0.93333333, 0.93333333, 0.93333333, 1.        , 1.        ,\n",
              "        1.        , 1.        , 1.        , 1.        , 1.        ,\n",
              "        1.        , 1.        , 1.        , 1.        , 1.        ,\n",
              "        1.        , 1.        , 1.        , 1.        , 1.        ,\n",
              "        1.        , 1.        , 1.        , 1.        , 1.        ,\n",
              "        1.        , 1.        , 1.        , 1.        , 1.        ,\n",
              "        1.        , 1.        , 1.        , 1.        , 1.        ,\n",
              "        1.        , 1.        , 1.        , 1.        , 1.        ,\n",
              "        1.        , 1.        , 1.        , 1.        , 1.        ,\n",
              "        1.        , 1.        , 1.        , 1.        , 0.93333333,\n",
              "        1.        , 0.93333333, 0.93333333, 0.93333333, 0.93333333]),\n",
              " 'split4_test_score': array([0.86666667, 0.86666667, 0.86666667, 0.86666667, 0.86666667,\n",
              "        0.86666667, 0.86666667, 0.86666667, 0.86666667, 0.86666667,\n",
              "        0.86666667, 0.86666667, 0.86666667, 0.86666667, 1.        ,\n",
              "        0.86666667, 1.        , 0.93333333, 1.        , 0.93333333,\n",
              "        1.        , 0.93333333, 1.        , 0.86666667, 1.        ,\n",
              "        0.93333333, 1.        , 0.93333333, 1.        , 1.        ,\n",
              "        1.        , 0.93333333, 1.        , 1.        , 1.        ,\n",
              "        0.93333333, 1.        , 1.        , 1.        , 0.86666667,\n",
              "        0.93333333, 0.86666667, 1.        , 0.86666667, 1.        ,\n",
              "        0.93333333, 1.        , 0.93333333, 1.        , 0.93333333,\n",
              "        1.        , 0.86666667, 1.        , 1.        , 1.        ,\n",
              "        0.93333333, 1.        , 1.        , 1.        , 0.93333333]),\n",
              " 'split5_test_score': array([1.        , 1.        , 1.        , 1.        , 1.        ,\n",
              "        1.        , 1.        , 1.        , 0.93333333, 0.93333333,\n",
              "        0.93333333, 0.93333333, 0.93333333, 0.93333333, 0.86666667,\n",
              "        0.93333333, 0.93333333, 0.93333333, 0.86666667, 0.93333333,\n",
              "        0.86666667, 0.93333333, 0.93333333, 1.        , 0.93333333,\n",
              "        0.93333333, 0.86666667, 0.93333333, 0.93333333, 0.93333333,\n",
              "        0.93333333, 0.93333333, 0.93333333, 0.93333333, 0.93333333,\n",
              "        0.93333333, 0.93333333, 0.93333333, 0.93333333, 0.93333333,\n",
              "        0.93333333, 0.93333333, 0.93333333, 0.93333333, 0.93333333,\n",
              "        0.93333333, 0.86666667, 0.93333333, 0.93333333, 0.93333333,\n",
              "        0.86666667, 0.93333333, 0.86666667, 0.93333333, 0.86666667,\n",
              "        0.93333333, 0.86666667, 0.93333333, 0.86666667, 0.93333333]),\n",
              " 'split6_test_score': array([0.86666667, 0.86666667, 0.86666667, 0.86666667, 0.93333333,\n",
              "        0.93333333, 0.93333333, 0.93333333, 0.93333333, 0.93333333,\n",
              "        0.93333333, 0.93333333, 0.93333333, 0.93333333, 0.93333333,\n",
              "        0.93333333, 0.93333333, 0.93333333, 0.93333333, 0.93333333,\n",
              "        0.93333333, 0.93333333, 0.93333333, 0.93333333, 0.93333333,\n",
              "        0.93333333, 0.93333333, 0.93333333, 0.93333333, 0.93333333,\n",
              "        0.93333333, 0.93333333, 0.93333333, 0.93333333, 0.93333333,\n",
              "        0.93333333, 0.93333333, 0.93333333, 0.93333333, 0.93333333,\n",
              "        0.93333333, 0.93333333, 0.93333333, 0.93333333, 0.93333333,\n",
              "        0.93333333, 0.93333333, 0.93333333, 0.93333333, 0.93333333,\n",
              "        0.93333333, 0.93333333, 0.93333333, 0.93333333, 0.93333333,\n",
              "        0.93333333, 0.93333333, 0.93333333, 0.93333333, 0.93333333]),\n",
              " 'split7_test_score': array([1.        , 1.        , 0.93333333, 1.        , 1.        ,\n",
              "        1.        , 1.        , 1.        , 1.        , 1.        ,\n",
              "        1.        , 1.        , 1.        , 1.        , 0.93333333,\n",
              "        1.        , 0.93333333, 1.        , 0.93333333, 1.        ,\n",
              "        0.93333333, 1.        , 0.93333333, 1.        , 1.        ,\n",
              "        1.        , 1.        , 1.        , 1.        , 1.        ,\n",
              "        0.93333333, 1.        , 1.        , 1.        , 1.        ,\n",
              "        1.        , 1.        , 1.        , 1.        , 1.        ,\n",
              "        1.        , 1.        , 0.93333333, 1.        , 1.        ,\n",
              "        1.        , 0.93333333, 1.        , 0.93333333, 1.        ,\n",
              "        0.93333333, 1.        , 1.        , 1.        , 0.93333333,\n",
              "        1.        , 0.93333333, 1.        , 0.93333333, 1.        ]),\n",
              " 'split8_test_score': array([1., 1., 1., 1., 1., 1., 1., 1., 1., 1., 1., 1., 1., 1., 1., 1., 1.,\n",
              "        1., 1., 1., 1., 1., 1., 1., 1., 1., 1., 1., 1., 1., 1., 1., 1., 1.,\n",
              "        1., 1., 1., 1., 1., 1., 1., 1., 1., 1., 1., 1., 1., 1., 1., 1., 1.,\n",
              "        1., 1., 1., 1., 1., 1., 1., 1., 1.]),\n",
              " 'split9_test_score': array([1., 1., 1., 1., 1., 1., 1., 1., 1., 1., 1., 1., 1., 1., 1., 1., 1.,\n",
              "        1., 1., 1., 1., 1., 1., 1., 1., 1., 1., 1., 1., 1., 1., 1., 1., 1.,\n",
              "        1., 1., 1., 1., 1., 1., 1., 1., 1., 1., 1., 1., 1., 1., 1., 1., 1.,\n",
              "        1., 1., 1., 1., 1., 1., 1., 1., 1.]),\n",
              " 'std_fit_time': array([1.43291290e-04, 1.41207505e-04, 2.54512699e-05, 4.02819390e-05,\n",
              "        1.33829936e-05, 7.41097452e-05, 6.42987812e-05, 1.45998825e-05,\n",
              "        3.26279027e-05, 3.17561465e-05, 1.71862590e-05, 1.49388790e-05,\n",
              "        4.26912350e-05, 1.49756477e-05, 8.96976831e-06, 1.32665318e-05,\n",
              "        1.04519018e-05, 1.15124578e-05, 1.01708371e-05, 8.57249907e-06,\n",
              "        1.02081024e-05, 9.39469042e-06, 1.05527898e-05, 3.38465383e-05,\n",
              "        3.76288876e-05, 7.05251668e-06, 1.05551327e-05, 1.99891479e-05,\n",
              "        8.99444952e-06, 1.27112178e-04, 4.39984031e-05, 2.83145025e-05,\n",
              "        7.63669261e-06, 1.53527681e-05, 8.23938873e-06, 3.07988821e-05,\n",
              "        1.28479965e-05, 1.04241282e-05, 1.00188015e-05, 5.13623347e-05,\n",
              "        1.01473112e-04, 1.18357716e-05, 1.97924185e-05, 3.36530590e-05,\n",
              "        6.31079883e-05, 6.17319985e-06, 2.03749706e-05, 3.39186441e-05,\n",
              "        7.10231300e-06, 6.02408832e-05, 6.10450694e-05, 3.57685164e-05,\n",
              "        1.93983223e-05, 9.61229084e-06, 2.73359144e-05, 4.35898087e-05,\n",
              "        4.44223721e-05, 2.18645436e-05, 9.37590907e-05, 1.00950210e-05]),\n",
              " 'std_score_time': array([2.41805798e-04, 3.51068527e-04, 1.01888623e-04, 1.03412557e-04,\n",
              "        4.74396420e-05, 1.81479775e-04, 4.64656280e-05, 1.44093215e-05,\n",
              "        1.38110187e-04, 2.55648317e-05, 1.34323396e-04, 8.04883609e-05,\n",
              "        9.60701918e-05, 2.48606565e-05, 7.85397266e-05, 2.10213811e-05,\n",
              "        8.53360313e-05, 9.49987677e-05, 2.19521374e-05, 4.38334746e-05,\n",
              "        7.09134332e-05, 3.21458984e-05, 1.54623410e-05, 1.28358791e-04,\n",
              "        8.71235121e-05, 1.87173618e-05, 7.53528548e-05, 2.92704325e-05,\n",
              "        2.19809129e-05, 2.12812190e-04, 9.65210285e-05, 4.24527027e-05,\n",
              "        1.67739628e-05, 1.45229407e-04, 3.79010259e-05, 6.17890440e-05,\n",
              "        1.87042279e-04, 1.88932847e-05, 3.12172236e-05, 1.50726274e-04,\n",
              "        2.05649722e-04, 9.16287608e-06, 7.25824631e-05, 5.78886447e-05,\n",
              "        4.07427705e-05, 7.40398523e-05, 7.93883212e-05, 6.09386695e-05,\n",
              "        1.02120263e-04, 1.02794424e-04, 2.35067860e-04, 9.29770590e-05,\n",
              "        3.13270128e-05, 1.82614313e-05, 8.00444319e-05, 1.03000734e-04,\n",
              "        7.10249868e-05, 7.75257192e-05, 4.17953209e-05, 1.72790812e-05]),\n",
              " 'std_test_score': array([0.05333333, 0.05333333, 0.05206833, 0.05333333, 0.04472136,\n",
              "        0.04472136, 0.04472136, 0.04472136, 0.04472136, 0.04472136,\n",
              "        0.04472136, 0.04472136, 0.04472136, 0.04472136, 0.04472136,\n",
              "        0.04472136, 0.03265986, 0.03265986, 0.04472136, 0.03265986,\n",
              "        0.04472136, 0.03265986, 0.03265986, 0.04422166, 0.0305505 ,\n",
              "        0.03265986, 0.04422166, 0.03265986, 0.03265986, 0.0305505 ,\n",
              "        0.03265986, 0.03265986, 0.03265986, 0.0305505 , 0.0305505 ,\n",
              "        0.03265986, 0.03265986, 0.0305505 , 0.0305505 , 0.04472136,\n",
              "        0.03333333, 0.04472136, 0.03333333, 0.04472136, 0.03265986,\n",
              "        0.03265986, 0.04422166, 0.03265986, 0.03333333, 0.03265986,\n",
              "        0.04422166, 0.04472136, 0.04472136, 0.0305505 , 0.04268749,\n",
              "        0.03265986, 0.04268749, 0.03265986, 0.04268749, 0.03333333])}"
            ]
          },
          "metadata": {
            "tags": []
          },
          "execution_count": 48
        }
      ]
    },
    {
      "cell_type": "code",
      "metadata": {
        "id": "2dUV-RvJjWVU",
        "colab_type": "code",
        "colab": {
          "base_uri": "https://localhost:8080/",
          "height": 52
        },
        "outputId": "c485dd34-e9c2-47df-af61-097dbf8f19a2"
      },
      "source": [
        "# examine the best model\n",
        "print(grid.best_score_)\n",
        "print(grid.best_params_)"
      ],
      "execution_count": 49,
      "outputs": [
        {
          "output_type": "stream",
          "text": [
            "0.9800000000000001\n",
            "{'n_neighbors': 13, 'weights': 'uniform'}\n"
          ],
          "name": "stdout"
        }
      ]
    },
    {
      "cell_type": "markdown",
      "metadata": {
        "id": "QBF2QpySjWVZ",
        "colab_type": "text"
      },
      "source": [
        "## Using the best parameters to make predictions"
      ]
    },
    {
      "cell_type": "code",
      "metadata": {
        "id": "lVGrulx8jWVa",
        "colab_type": "code",
        "colab": {
          "base_uri": "https://localhost:8080/",
          "height": 34
        },
        "outputId": "1a22aa4b-7b80-42cb-f07e-494a2d7be119"
      },
      "source": [
        "# train your model using all data and the best known parameters\n",
        "knn = KNeighborsClassifier(n_neighbors=grid.best_params_[\"n_neighbors\"], weights=grid.best_params_[\"weights\"])\n",
        "knn.fit(X, y)\n",
        "\n",
        "# make a prediction on out-of-sample data\n",
        "knn.predict([[3, 5, 4, 2]])"
      ],
      "execution_count": 50,
      "outputs": [
        {
          "output_type": "execute_result",
          "data": {
            "text/plain": [
              "array([1])"
            ]
          },
          "metadata": {
            "tags": []
          },
          "execution_count": 50
        }
      ]
    },
    {
      "cell_type": "code",
      "metadata": {
        "id": "2drqfW5WjWVe",
        "colab_type": "code",
        "colab": {
          "base_uri": "https://localhost:8080/",
          "height": 34
        },
        "outputId": "7d79c2ba-df18-48ae-ff56-4da90deffcae"
      },
      "source": [
        "# shortcut: GridSearchCV automatically refits the best model using all of the data\n",
        "grid.predict([[3, 5, 4, 2]])"
      ],
      "execution_count": 51,
      "outputs": [
        {
          "output_type": "execute_result",
          "data": {
            "text/plain": [
              "array([1])"
            ]
          },
          "metadata": {
            "tags": []
          },
          "execution_count": 51
        }
      ]
    },
    {
      "cell_type": "markdown",
      "metadata": {
        "id": "_E2FUPeCjWVh",
        "colab_type": "text"
      },
      "source": [
        "## Reducing computational expense using `RandomizedSearchCV`"
      ]
    },
    {
      "cell_type": "markdown",
      "metadata": {
        "id": "R9yWQ9SEjWVj",
        "colab_type": "text"
      },
      "source": [
        "- Searching many different parameters at once may be computationally infeasible\n",
        "- `RandomizedSearchCV` searches a subset of the parameters, and you control the computational \"budget\""
      ]
    },
    {
      "cell_type": "code",
      "metadata": {
        "id": "nWRUwtS6jWVl",
        "colab_type": "code",
        "colab": {}
      },
      "source": [
        "from sklearn.model_selection import RandomizedSearchCV"
      ],
      "execution_count": 0,
      "outputs": []
    },
    {
      "cell_type": "code",
      "metadata": {
        "id": "0259sCJtjWVr",
        "colab_type": "code",
        "colab": {}
      },
      "source": [
        "# specify \"parameter distributions\" rather than a \"parameter grid\"\n",
        "param_dist = dict(n_neighbors=k_range, weights=weight_options)"
      ],
      "execution_count": 0,
      "outputs": []
    },
    {
      "cell_type": "markdown",
      "metadata": {
        "id": "5vB7Ka5pjWVw",
        "colab_type": "text"
      },
      "source": [
        "- **Important:** Specify a continuous distribution (rather than a list of values) for any continous parameters"
      ]
    },
    {
      "cell_type": "code",
      "metadata": {
        "id": "YkiUOv4rjWVx",
        "colab_type": "code",
        "colab": {
          "base_uri": "https://localhost:8080/",
          "height": 976
        },
        "outputId": "3064dc9e-c063-4962-91d8-7c839d454ad9"
      },
      "source": [
        "# n_iter controls the number of searches\n",
        "rand = RandomizedSearchCV(knn, param_dist, cv=10, scoring='accuracy', n_iter=10, random_state=5)\n",
        "rand.fit(X, y)\n",
        "rand.cv_results_"
      ],
      "execution_count": 54,
      "outputs": [
        {
          "output_type": "execute_result",
          "data": {
            "text/plain": [
              "{'mean_fit_time': array([0.00081666, 0.00047519, 0.00043321, 0.00042689, 0.00045898,\n",
              "        0.00052147, 0.00047123, 0.00045021, 0.00043657, 0.00043943]),\n",
              " 'mean_score_time': array([0.0015908 , 0.00138075, 0.00115936, 0.00117404, 0.00135167,\n",
              "        0.00093784, 0.00095034, 0.00128586, 0.0008198 , 0.00124941]),\n",
              " 'mean_test_score': array([0.97333333, 0.96666667, 0.98      , 0.96666667, 0.95333333,\n",
              "        0.97333333, 0.96666667, 0.97333333, 0.97333333, 0.97333333]),\n",
              " 'param_n_neighbors': masked_array(data=[16, 22, 18, 27, 29, 10, 22, 14, 12, 15],\n",
              "              mask=[False, False, False, False, False, False, False, False,\n",
              "                    False, False],\n",
              "        fill_value='?',\n",
              "             dtype=object),\n",
              " 'param_weights': masked_array(data=['distance', 'uniform', 'uniform', 'uniform', 'uniform',\n",
              "                    'distance', 'distance', 'uniform', 'distance',\n",
              "                    'uniform'],\n",
              "              mask=[False, False, False, False, False, False, False, False,\n",
              "                    False, False],\n",
              "        fill_value='?',\n",
              "             dtype=object),\n",
              " 'params': [{'n_neighbors': 16, 'weights': 'distance'},\n",
              "  {'n_neighbors': 22, 'weights': 'uniform'},\n",
              "  {'n_neighbors': 18, 'weights': 'uniform'},\n",
              "  {'n_neighbors': 27, 'weights': 'uniform'},\n",
              "  {'n_neighbors': 29, 'weights': 'uniform'},\n",
              "  {'n_neighbors': 10, 'weights': 'distance'},\n",
              "  {'n_neighbors': 22, 'weights': 'distance'},\n",
              "  {'n_neighbors': 14, 'weights': 'uniform'},\n",
              "  {'n_neighbors': 12, 'weights': 'distance'},\n",
              "  {'n_neighbors': 15, 'weights': 'uniform'}],\n",
              " 'rank_test_score': array([ 2,  8,  1,  8, 10,  2,  7,  2,  2,  2], dtype=int32),\n",
              " 'split0_test_score': array([1.        , 0.93333333, 1.        , 0.93333333, 0.93333333,\n",
              "        1.        , 1.        , 1.        , 1.        , 0.93333333]),\n",
              " 'split1_test_score': array([0.93333333, 0.93333333, 0.93333333, 0.93333333, 0.93333333,\n",
              "        0.93333333, 0.93333333, 0.93333333, 0.93333333, 0.93333333]),\n",
              " 'split2_test_score': array([1., 1., 1., 1., 1., 1., 1., 1., 1., 1.]),\n",
              " 'split3_test_score': array([1.        , 1.        , 1.        , 1.        , 0.93333333,\n",
              "        1.        , 1.        , 1.        , 1.        , 1.        ]),\n",
              " 'split4_test_score': array([0.93333333, 1.        , 1.        , 1.        , 1.        ,\n",
              "        0.93333333, 0.86666667, 1.        , 0.86666667, 1.        ]),\n",
              " 'split5_test_score': array([0.93333333, 0.93333333, 0.93333333, 0.86666667, 0.86666667,\n",
              "        0.93333333, 0.93333333, 0.86666667, 1.        , 0.93333333]),\n",
              " 'split6_test_score': array([0.93333333, 0.93333333, 0.93333333, 0.93333333, 0.93333333,\n",
              "        0.93333333, 0.93333333, 0.93333333, 0.93333333, 0.93333333]),\n",
              " 'split7_test_score': array([1.        , 0.93333333, 1.        , 1.        , 0.93333333,\n",
              "        1.        , 1.        , 1.        , 1.        , 1.        ]),\n",
              " 'split8_test_score': array([1., 1., 1., 1., 1., 1., 1., 1., 1., 1.]),\n",
              " 'split9_test_score': array([1., 1., 1., 1., 1., 1., 1., 1., 1., 1.]),\n",
              " 'std_fit_time': array([2.03014842e-04, 9.10034347e-05, 1.54748168e-05, 8.74268284e-06,\n",
              "        1.07729769e-04, 8.01533194e-05, 4.27172979e-05, 9.88333443e-06,\n",
              "        9.99053506e-06, 8.80759021e-06]),\n",
              " 'std_score_time': array([3.08906102e-04, 3.08061864e-04, 1.33177852e-05, 2.78511375e-05,\n",
              "        2.81685836e-04, 1.39110660e-04, 1.89288527e-04, 7.44761828e-05,\n",
              "        1.45939633e-05, 3.60174963e-05]),\n",
              " 'std_test_score': array([0.03265986, 0.03333333, 0.0305505 , 0.04472136, 0.04268749,\n",
              "        0.03265986, 0.04472136, 0.04422166, 0.04422166, 0.03265986])}"
            ]
          },
          "metadata": {
            "tags": []
          },
          "execution_count": 54
        }
      ]
    },
    {
      "cell_type": "code",
      "metadata": {
        "id": "parGdDIijWV1",
        "colab_type": "code",
        "colab": {
          "base_uri": "https://localhost:8080/",
          "height": 52
        },
        "outputId": "cfe000de-7775-47be-a6c9-c368cc115f5c"
      },
      "source": [
        "# examine the best model\n",
        "print(rand.best_score_)\n",
        "print(rand.best_params_)"
      ],
      "execution_count": 55,
      "outputs": [
        {
          "output_type": "stream",
          "text": [
            "0.9800000000000001\n",
            "{'weights': 'uniform', 'n_neighbors': 18}\n"
          ],
          "name": "stdout"
        }
      ]
    },
    {
      "cell_type": "code",
      "metadata": {
        "id": "m8UCQb9qjWV9",
        "colab_type": "code",
        "colab": {
          "base_uri": "https://localhost:8080/",
          "height": 34
        },
        "outputId": "62967f1f-4118-4f43-8a97-20f121218efd"
      },
      "source": [
        "# run RandomizedSearchCV 20 times (with n_iter=10) and record the best score\n",
        "best_scores = []\n",
        "for _ in range(20):\n",
        "    rand = RandomizedSearchCV(knn, param_dist, cv=10, scoring='accuracy', n_iter=10)\n",
        "    rand.fit(X, y)\n",
        "    best_scores.append(round(rand.best_score_, 3))\n",
        "print(best_scores)"
      ],
      "execution_count": 56,
      "outputs": [
        {
          "output_type": "stream",
          "text": [
            "[0.98, 0.98, 0.98, 0.973, 0.98, 0.98, 0.973, 0.98, 0.98, 0.98, 0.973, 0.98, 0.98, 0.973, 0.973, 0.973, 0.98, 0.98, 0.98, 0.98]\n"
          ],
          "name": "stdout"
        }
      ]
    },
    {
      "cell_type": "code",
      "metadata": {
        "id": "UylZfQeMjWWB",
        "colab_type": "code",
        "colab": {}
      },
      "source": [
        ""
      ],
      "execution_count": 0,
      "outputs": []
    },
    {
      "cell_type": "code",
      "metadata": {
        "id": "-61YCqa4jWWG",
        "colab_type": "code",
        "colab": {}
      },
      "source": [
        ""
      ],
      "execution_count": 0,
      "outputs": []
    }
  ]
}