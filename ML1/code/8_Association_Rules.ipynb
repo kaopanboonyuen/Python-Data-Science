{
  "nbformat": 4,
  "nbformat_minor": 0,
  "metadata": {
    "colab": {
      "name": "Association Rules.ipynb",
      "provenance": [],
      "collapsed_sections": []
    },
    "kernelspec": {
      "name": "python3",
      "display_name": "Python 3"
    }
  },
  "cells": [
    {
      "cell_type": "markdown",
      "metadata": {
        "id": "DSz0sb7LghbG"
      },
      "source": [
        "# Association Rules\n",
        "\n",
        "Credit to http://rasbt.github.io/mlxtend/user_guide/frequent_patterns/association_rules/?fbclid=IwAR2F42hsvHjBQ9OAX7-YRwTQSLJzsKS_aH-iwnP3aoFeQYu7BreEFb9nAvo#example-1-generating-association-rules-from-frequent-itemsets"
      ]
    },
    {
      "cell_type": "code",
      "metadata": {
        "id": "hR8dVDBIgc_i"
      },
      "source": [
        "import pandas as pd\n",
        "from mlxtend.preprocessing import TransactionEncoder\n",
        "from mlxtend.frequent_patterns import apriori, fpmax, fpgrowth"
      ],
      "execution_count": 15,
      "outputs": []
    },
    {
      "cell_type": "code",
      "metadata": {
        "id": "MIxiiAHjgsOH"
      },
      "source": [
        "dataset = [['Milk', 'Onion', 'Nutmeg', 'Kidney Beans', 'Eggs', 'Yogurt'],\n",
        "           ['Dill', 'Onion', 'Nutmeg', 'Kidney Beans', 'Eggs', 'Yogurt'],\n",
        "           ['Milk', 'Apple', 'Kidney Beans', 'Eggs'],\n",
        "           ['Milk', 'Unicorn', 'Corn', 'Kidney Beans', 'Yogurt'],\n",
        "           ['Corn', 'Onion', 'Onion', 'Kidney Beans', 'Ice cream', 'Eggs']]"
      ],
      "execution_count": null,
      "outputs": []
    },
    {
      "cell_type": "code",
      "metadata": {
        "id": "AtDDHiD-gz7a"
      },
      "source": [
        "te = TransactionEncoder()\n",
        "te_ary = te.fit(dataset).transform(dataset)\n",
        "df = pd.DataFrame(te_ary, columns=te.columns_)"
      ],
      "execution_count": null,
      "outputs": []
    },
    {
      "cell_type": "code",
      "metadata": {
        "id": "SyBJzyS4gz-S"
      },
      "source": [
        "\n",
        "frequent_itemsets = fpgrowth(df, min_support=0.6, use_colnames=True)\n",
        "### alternatively:\n",
        "#frequent_itemsets = apriori(df, min_support=0.6, use_colnames=True)\n",
        "#frequent_itemsets = fpmax(df, min_support=0.6, use_colnames=True)\n",
        "\n",
        "frequent_itemsets"
      ],
      "execution_count": null,
      "outputs": []
    },
    {
      "cell_type": "code",
      "metadata": {
        "id": "oH8K_yLug0A9"
      },
      "source": [
        "from mlxtend.frequent_patterns import association_rules\n",
        "\n",
        "association_rules(frequent_itemsets, metric=\"confidence\", min_threshold=0.7)"
      ],
      "execution_count": null,
      "outputs": []
    },
    {
      "cell_type": "code",
      "metadata": {
        "id": "1s5MdEl4g0FQ"
      },
      "source": [
        ""
      ],
      "execution_count": null,
      "outputs": []
    }
  ]
}