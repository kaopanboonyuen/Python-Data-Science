{
  "nbformat": 4,
  "nbformat_minor": 0,
  "metadata": {
    "colab": {
      "name": "1_PreviewData.ipynb",
      "provenance": [],
      "collapsed_sections": []
    },
    "kernelspec": {
      "name": "python3",
      "display_name": "Python 3"
    }
  },
  "cells": [
    {
      "cell_type": "markdown",
      "metadata": {
        "id": "Blp1zqAr6MAi"
      },
      "source": [
        "# Load & Preview Data"
      ]
    },
    {
      "cell_type": "markdown",
      "metadata": {
        "id": "IRjfRV0i8rxN"
      },
      "source": [
        "Before you start working with data for a machine learning project, it is vital to understand what the data is, and what we want to achieve. Without it, we have no basis from which to make our decisions about what data is relevant as we clean and prepare our data."
      ]
    },
    {
      "cell_type": "markdown",
      "metadata": {
        "id": "Wz0KtECV86PO"
      },
      "source": [
        "**1) Load & preview data**"
      ]
    },
    {
      "cell_type": "code",
      "metadata": {
        "id": "llOeCsE16Sxp",
        "colab": {
          "base_uri": "https://localhost:8080/"
        },
        "outputId": "7f17f3bb-f64e-4243-afb2-1576ae5475a7"
      },
      "source": [
        "!rm -f customer-churn-data_for-data-prep.csv*\n",
        "\n",
        "!wget \"https://github.com/davidjohnnn/all_datasets/raw/master/bay/customer-churn-data_for-data-prep.csv\" "
      ],
      "execution_count": 1,
      "outputs": [
        {
          "output_type": "stream",
          "text": [
            "--2020-11-24 11:10:40--  https://github.com/davidjohnnn/all_datasets/raw/master/bay/customer-churn-data_for-data-prep.csv\n",
            "Resolving github.com (github.com)... 52.69.186.44\n",
            "Connecting to github.com (github.com)|52.69.186.44|:443... connected.\n",
            "HTTP request sent, awaiting response... 302 Found\n",
            "Location: https://raw.githubusercontent.com/davidjohnnn/all_datasets/master/bay/customer-churn-data_for-data-prep.csv [following]\n",
            "--2020-11-24 11:10:41--  https://raw.githubusercontent.com/davidjohnnn/all_datasets/master/bay/customer-churn-data_for-data-prep.csv\n",
            "Resolving raw.githubusercontent.com (raw.githubusercontent.com)... 151.101.0.133, 151.101.64.133, 151.101.128.133, ...\n",
            "Connecting to raw.githubusercontent.com (raw.githubusercontent.com)|151.101.0.133|:443... connected.\n",
            "HTTP request sent, awaiting response... 200 OK\n",
            "Length: 37300 (36K) [text/plain]\n",
            "Saving to: ‘customer-churn-data_for-data-prep.csv’\n",
            "\n",
            "customer-churn-data 100%[===================>]  36.43K  --.-KB/s    in 0.002s  \n",
            "\n",
            "2020-11-24 11:10:41 (15.1 MB/s) - ‘customer-churn-data_for-data-prep.csv’ saved [37300/37300]\n",
            "\n"
          ],
          "name": "stdout"
        }
      ]
    },
    {
      "cell_type": "code",
      "metadata": {
        "id": "CoO6otupg2dB",
        "colab": {
          "base_uri": "https://localhost:8080/"
        },
        "outputId": "5f8051fe-09a9-42a2-ceb3-0fe23a33f38a"
      },
      "source": [
        "!head -5 customer-churn-data_for-data-prep.csv"
      ],
      "execution_count": 2,
      "outputs": [
        {
          "output_type": "stream",
          "text": [
            "Gender,Payment Method,Churn,LastTransaction,Country,Province,BirthYear\n",
            "male,credit card,loyal,1,TH,Bangkok,1899\n",
            "female,credit card,churn,3,TH,Bangkok,2000\n",
            "male,credit card,loyal,6,TH,Non Nam Thaeng,1980\n",
            "female,credit card,churn,7,TH,Ang Thong,1899\n"
          ],
          "name": "stdout"
        }
      ]
    },
    {
      "cell_type": "code",
      "metadata": {
        "id": "Er6MtvK-eTJZ"
      },
      "source": [
        "import pandas as pd\n",
        "import numpy as np\n",
        "\n",
        "import matplotlib.pyplot as plt\n",
        "%matplotlib inline\n",
        "plt.rcParams['figure.figsize'] = (12,8)"
      ],
      "execution_count": 3,
      "outputs": []
    },
    {
      "cell_type": "code",
      "metadata": {
        "id": "yYJLCQX6eTK_"
      },
      "source": [
        "df = pd.read_csv('customer-churn-data_for-data-prep.csv') "
      ],
      "execution_count": 4,
      "outputs": []
    },
    {
      "cell_type": "code",
      "metadata": {
        "id": "Fmclj7W8vp_b",
        "colab": {
          "base_uri": "https://localhost:8080/",
          "height": 197
        },
        "outputId": "3c6c1703-a599-49e7-ca93-595e48fcf490"
      },
      "source": [
        "df.head()"
      ],
      "execution_count": 5,
      "outputs": [
        {
          "output_type": "execute_result",
          "data": {
            "text/html": [
              "<div>\n",
              "<style scoped>\n",
              "    .dataframe tbody tr th:only-of-type {\n",
              "        vertical-align: middle;\n",
              "    }\n",
              "\n",
              "    .dataframe tbody tr th {\n",
              "        vertical-align: top;\n",
              "    }\n",
              "\n",
              "    .dataframe thead th {\n",
              "        text-align: right;\n",
              "    }\n",
              "</style>\n",
              "<table border=\"1\" class=\"dataframe\">\n",
              "  <thead>\n",
              "    <tr style=\"text-align: right;\">\n",
              "      <th></th>\n",
              "      <th>Gender</th>\n",
              "      <th>Payment Method</th>\n",
              "      <th>Churn</th>\n",
              "      <th>LastTransaction</th>\n",
              "      <th>Country</th>\n",
              "      <th>Province</th>\n",
              "      <th>BirthYear</th>\n",
              "    </tr>\n",
              "  </thead>\n",
              "  <tbody>\n",
              "    <tr>\n",
              "      <th>0</th>\n",
              "      <td>male</td>\n",
              "      <td>credit card</td>\n",
              "      <td>loyal</td>\n",
              "      <td>1</td>\n",
              "      <td>TH</td>\n",
              "      <td>Bangkok</td>\n",
              "      <td>1899.0</td>\n",
              "    </tr>\n",
              "    <tr>\n",
              "      <th>1</th>\n",
              "      <td>female</td>\n",
              "      <td>credit card</td>\n",
              "      <td>churn</td>\n",
              "      <td>3</td>\n",
              "      <td>TH</td>\n",
              "      <td>Bangkok</td>\n",
              "      <td>2000.0</td>\n",
              "    </tr>\n",
              "    <tr>\n",
              "      <th>2</th>\n",
              "      <td>male</td>\n",
              "      <td>credit card</td>\n",
              "      <td>loyal</td>\n",
              "      <td>6</td>\n",
              "      <td>TH</td>\n",
              "      <td>Non Nam Thaeng</td>\n",
              "      <td>1980.0</td>\n",
              "    </tr>\n",
              "    <tr>\n",
              "      <th>3</th>\n",
              "      <td>female</td>\n",
              "      <td>credit card</td>\n",
              "      <td>churn</td>\n",
              "      <td>7</td>\n",
              "      <td>TH</td>\n",
              "      <td>Ang Thong</td>\n",
              "      <td>1899.0</td>\n",
              "    </tr>\n",
              "    <tr>\n",
              "      <th>4</th>\n",
              "      <td>female</td>\n",
              "      <td>credit card</td>\n",
              "      <td>churn</td>\n",
              "      <td>11</td>\n",
              "      <td>TH</td>\n",
              "      <td>Bueng Kan</td>\n",
              "      <td>1985.0</td>\n",
              "    </tr>\n",
              "  </tbody>\n",
              "</table>\n",
              "</div>"
            ],
            "text/plain": [
              "   Gender Payment Method  Churn  ...  Country        Province BirthYear\n",
              "0    male    credit card  loyal  ...       TH         Bangkok    1899.0\n",
              "1  female    credit card  churn  ...       TH         Bangkok    2000.0\n",
              "2    male    credit card  loyal  ...       TH  Non Nam Thaeng    1980.0\n",
              "3  female    credit card  churn  ...       TH       Ang Thong    1899.0\n",
              "4  female    credit card  churn  ...       TH       Bueng Kan    1985.0\n",
              "\n",
              "[5 rows x 7 columns]"
            ]
          },
          "metadata": {
            "tags": []
          },
          "execution_count": 5
        }
      ]
    },
    {
      "cell_type": "code",
      "metadata": {
        "id": "wdb8zF2ieWKb",
        "colab": {
          "base_uri": "https://localhost:8080/"
        },
        "outputId": "6a7eaf18-f571-4ad0-9041-83e7ffb6f0df"
      },
      "source": [
        "df.info()"
      ],
      "execution_count": 6,
      "outputs": [
        {
          "output_type": "stream",
          "text": [
            "<class 'pandas.core.frame.DataFrame'>\n",
            "RangeIndex: 996 entries, 0 to 995\n",
            "Data columns (total 7 columns):\n",
            " #   Column           Non-Null Count  Dtype  \n",
            "---  ------           --------------  -----  \n",
            " 0   Gender           978 non-null    object \n",
            " 1   Payment Method   996 non-null    object \n",
            " 2   Churn            898 non-null    object \n",
            " 3   LastTransaction  996 non-null    int64  \n",
            " 4   Country          996 non-null    object \n",
            " 5   Province         427 non-null    object \n",
            " 6   BirthYear        982 non-null    float64\n",
            "dtypes: float64(1), int64(1), object(5)\n",
            "memory usage: 54.6+ KB\n"
          ],
          "name": "stdout"
        }
      ]
    },
    {
      "cell_type": "code",
      "metadata": {
        "id": "dnl_6GOq8YwB",
        "colab": {
          "base_uri": "https://localhost:8080/",
          "height": 287
        },
        "outputId": "b93d73c2-f5ad-48cd-9544-e6bc8b3ab374"
      },
      "source": [
        "df.describe()"
      ],
      "execution_count": 7,
      "outputs": [
        {
          "output_type": "execute_result",
          "data": {
            "text/html": [
              "<div>\n",
              "<style scoped>\n",
              "    .dataframe tbody tr th:only-of-type {\n",
              "        vertical-align: middle;\n",
              "    }\n",
              "\n",
              "    .dataframe tbody tr th {\n",
              "        vertical-align: top;\n",
              "    }\n",
              "\n",
              "    .dataframe thead th {\n",
              "        text-align: right;\n",
              "    }\n",
              "</style>\n",
              "<table border=\"1\" class=\"dataframe\">\n",
              "  <thead>\n",
              "    <tr style=\"text-align: right;\">\n",
              "      <th></th>\n",
              "      <th>LastTransaction</th>\n",
              "      <th>BirthYear</th>\n",
              "    </tr>\n",
              "  </thead>\n",
              "  <tbody>\n",
              "    <tr>\n",
              "      <th>count</th>\n",
              "      <td>996.000000</td>\n",
              "      <td>982.000000</td>\n",
              "    </tr>\n",
              "    <tr>\n",
              "      <th>mean</th>\n",
              "      <td>111.072289</td>\n",
              "      <td>1972.036660</td>\n",
              "    </tr>\n",
              "    <tr>\n",
              "      <th>std</th>\n",
              "      <td>44.956045</td>\n",
              "      <td>19.600513</td>\n",
              "    </tr>\n",
              "    <tr>\n",
              "      <th>min</th>\n",
              "      <td>1.000000</td>\n",
              "      <td>1899.000000</td>\n",
              "    </tr>\n",
              "    <tr>\n",
              "      <th>25%</th>\n",
              "      <td>77.000000</td>\n",
              "      <td>1960.000000</td>\n",
              "    </tr>\n",
              "    <tr>\n",
              "      <th>50%</th>\n",
              "      <td>110.000000</td>\n",
              "      <td>1974.000000</td>\n",
              "    </tr>\n",
              "    <tr>\n",
              "      <th>75%</th>\n",
              "      <td>145.000000</td>\n",
              "      <td>1988.000000</td>\n",
              "    </tr>\n",
              "    <tr>\n",
              "      <th>max</th>\n",
              "      <td>223.000000</td>\n",
              "      <td>2018.000000</td>\n",
              "    </tr>\n",
              "  </tbody>\n",
              "</table>\n",
              "</div>"
            ],
            "text/plain": [
              "       LastTransaction    BirthYear\n",
              "count       996.000000   982.000000\n",
              "mean        111.072289  1972.036660\n",
              "std          44.956045    19.600513\n",
              "min           1.000000  1899.000000\n",
              "25%          77.000000  1960.000000\n",
              "50%         110.000000  1974.000000\n",
              "75%         145.000000  1988.000000\n",
              "max         223.000000  2018.000000"
            ]
          },
          "metadata": {
            "tags": []
          },
          "execution_count": 7
        }
      ]
    },
    {
      "cell_type": "code",
      "metadata": {
        "id": "Sa-PaOfE8FT4",
        "colab": {
          "base_uri": "https://localhost:8080/",
          "height": 377
        },
        "outputId": "f5934be2-280f-4335-ce64-91c447eebbf8"
      },
      "source": [
        "df.describe(include='all')"
      ],
      "execution_count": 8,
      "outputs": [
        {
          "output_type": "execute_result",
          "data": {
            "text/html": [
              "<div>\n",
              "<style scoped>\n",
              "    .dataframe tbody tr th:only-of-type {\n",
              "        vertical-align: middle;\n",
              "    }\n",
              "\n",
              "    .dataframe tbody tr th {\n",
              "        vertical-align: top;\n",
              "    }\n",
              "\n",
              "    .dataframe thead th {\n",
              "        text-align: right;\n",
              "    }\n",
              "</style>\n",
              "<table border=\"1\" class=\"dataframe\">\n",
              "  <thead>\n",
              "    <tr style=\"text-align: right;\">\n",
              "      <th></th>\n",
              "      <th>Gender</th>\n",
              "      <th>Payment Method</th>\n",
              "      <th>Churn</th>\n",
              "      <th>LastTransaction</th>\n",
              "      <th>Country</th>\n",
              "      <th>Province</th>\n",
              "      <th>BirthYear</th>\n",
              "    </tr>\n",
              "  </thead>\n",
              "  <tbody>\n",
              "    <tr>\n",
              "      <th>count</th>\n",
              "      <td>978</td>\n",
              "      <td>996</td>\n",
              "      <td>898</td>\n",
              "      <td>996.000000</td>\n",
              "      <td>996</td>\n",
              "      <td>427</td>\n",
              "      <td>982.000000</td>\n",
              "    </tr>\n",
              "    <tr>\n",
              "      <th>unique</th>\n",
              "      <td>2</td>\n",
              "      <td>3</td>\n",
              "      <td>2</td>\n",
              "      <td>NaN</td>\n",
              "      <td>1</td>\n",
              "      <td>77</td>\n",
              "      <td>NaN</td>\n",
              "    </tr>\n",
              "    <tr>\n",
              "      <th>top</th>\n",
              "      <td>male</td>\n",
              "      <td>credit card</td>\n",
              "      <td>loyal</td>\n",
              "      <td>NaN</td>\n",
              "      <td>TH</td>\n",
              "      <td>Bangkok</td>\n",
              "      <td>NaN</td>\n",
              "    </tr>\n",
              "    <tr>\n",
              "      <th>freq</th>\n",
              "      <td>534</td>\n",
              "      <td>649</td>\n",
              "      <td>576</td>\n",
              "      <td>NaN</td>\n",
              "      <td>996</td>\n",
              "      <td>128</td>\n",
              "      <td>NaN</td>\n",
              "    </tr>\n",
              "    <tr>\n",
              "      <th>mean</th>\n",
              "      <td>NaN</td>\n",
              "      <td>NaN</td>\n",
              "      <td>NaN</td>\n",
              "      <td>111.072289</td>\n",
              "      <td>NaN</td>\n",
              "      <td>NaN</td>\n",
              "      <td>1972.036660</td>\n",
              "    </tr>\n",
              "    <tr>\n",
              "      <th>std</th>\n",
              "      <td>NaN</td>\n",
              "      <td>NaN</td>\n",
              "      <td>NaN</td>\n",
              "      <td>44.956045</td>\n",
              "      <td>NaN</td>\n",
              "      <td>NaN</td>\n",
              "      <td>19.600513</td>\n",
              "    </tr>\n",
              "    <tr>\n",
              "      <th>min</th>\n",
              "      <td>NaN</td>\n",
              "      <td>NaN</td>\n",
              "      <td>NaN</td>\n",
              "      <td>1.000000</td>\n",
              "      <td>NaN</td>\n",
              "      <td>NaN</td>\n",
              "      <td>1899.000000</td>\n",
              "    </tr>\n",
              "    <tr>\n",
              "      <th>25%</th>\n",
              "      <td>NaN</td>\n",
              "      <td>NaN</td>\n",
              "      <td>NaN</td>\n",
              "      <td>77.000000</td>\n",
              "      <td>NaN</td>\n",
              "      <td>NaN</td>\n",
              "      <td>1960.000000</td>\n",
              "    </tr>\n",
              "    <tr>\n",
              "      <th>50%</th>\n",
              "      <td>NaN</td>\n",
              "      <td>NaN</td>\n",
              "      <td>NaN</td>\n",
              "      <td>110.000000</td>\n",
              "      <td>NaN</td>\n",
              "      <td>NaN</td>\n",
              "      <td>1974.000000</td>\n",
              "    </tr>\n",
              "    <tr>\n",
              "      <th>75%</th>\n",
              "      <td>NaN</td>\n",
              "      <td>NaN</td>\n",
              "      <td>NaN</td>\n",
              "      <td>145.000000</td>\n",
              "      <td>NaN</td>\n",
              "      <td>NaN</td>\n",
              "      <td>1988.000000</td>\n",
              "    </tr>\n",
              "    <tr>\n",
              "      <th>max</th>\n",
              "      <td>NaN</td>\n",
              "      <td>NaN</td>\n",
              "      <td>NaN</td>\n",
              "      <td>223.000000</td>\n",
              "      <td>NaN</td>\n",
              "      <td>NaN</td>\n",
              "      <td>2018.000000</td>\n",
              "    </tr>\n",
              "  </tbody>\n",
              "</table>\n",
              "</div>"
            ],
            "text/plain": [
              "       Gender Payment Method  Churn  ...  Country Province    BirthYear\n",
              "count     978            996    898  ...      996      427   982.000000\n",
              "unique      2              3      2  ...        1       77          NaN\n",
              "top      male    credit card  loyal  ...       TH  Bangkok          NaN\n",
              "freq      534            649    576  ...      996      128          NaN\n",
              "mean      NaN            NaN    NaN  ...      NaN      NaN  1972.036660\n",
              "std       NaN            NaN    NaN  ...      NaN      NaN    19.600513\n",
              "min       NaN            NaN    NaN  ...      NaN      NaN  1899.000000\n",
              "25%       NaN            NaN    NaN  ...      NaN      NaN  1960.000000\n",
              "50%       NaN            NaN    NaN  ...      NaN      NaN  1974.000000\n",
              "75%       NaN            NaN    NaN  ...      NaN      NaN  1988.000000\n",
              "max       NaN            NaN    NaN  ...      NaN      NaN  2018.000000\n",
              "\n",
              "[11 rows x 7 columns]"
            ]
          },
          "metadata": {
            "tags": []
          },
          "execution_count": 8
        }
      ]
    },
    {
      "cell_type": "code",
      "metadata": {
        "id": "8JS5LtYZzQQf",
        "colab": {
          "base_uri": "https://localhost:8080/"
        },
        "outputId": "ed962e71-7446-4a1e-faef-09a9d004bb18"
      },
      "source": [
        "df.isnull().sum()"
      ],
      "execution_count": 9,
      "outputs": [
        {
          "output_type": "execute_result",
          "data": {
            "text/plain": [
              "Gender              18\n",
              "Payment Method       0\n",
              "Churn               98\n",
              "LastTransaction      0\n",
              "Country              0\n",
              "Province           569\n",
              "BirthYear           14\n",
              "dtype: int64"
            ]
          },
          "metadata": {
            "tags": []
          },
          "execution_count": 9
        }
      ]
    },
    {
      "cell_type": "markdown",
      "metadata": {
        "id": "e8HUS_lX6V7M"
      },
      "source": [
        "**Histogram plot**"
      ]
    },
    {
      "cell_type": "code",
      "metadata": {
        "id": "7pC9XXtm6Upx",
        "colab": {
          "base_uri": "https://localhost:8080/",
          "height": 524
        },
        "outputId": "acb8fbf4-310b-4137-d0bd-cbb1e436bed8"
      },
      "source": [
        "df['Gender'].value_counts().plot(kind='bar', label = True)\n",
        "# df['Gender'].fillna('Missing').value_counts().plot(kind='bar')\n",
        "df['Gender'].isnull().sum()"
      ],
      "execution_count": 10,
      "outputs": [
        {
          "output_type": "execute_result",
          "data": {
            "text/plain": [
              "18"
            ]
          },
          "metadata": {
            "tags": []
          },
          "execution_count": 10
        },
        {
          "output_type": "display_data",
          "data": {
            "image/png": "[encoded data removed]",
            "text/plain": [
              "<Figure size 864x576 with 1 Axes>"
            ]
          },
          "metadata": {
            "tags": [],
            "needs_background": "light"
          }
        }
      ]
    },
    {
      "cell_type": "code",
      "metadata": {
        "id": "di74o0F9enF0",
        "colab": {
          "base_uri": "https://localhost:8080/",
          "height": 544
        },
        "outputId": "d8ce23a7-1c48-445d-8994-95e337174457"
      },
      "source": [
        "df['Payment Method'].value_counts().plot(kind='bar')\n",
        "# df['Payment Method'].fillna('Missing').value_counts().plot(kind='bar')\n",
        "df['Payment Method'].isnull().sum()"
      ],
      "execution_count": 11,
      "outputs": [
        {
          "output_type": "execute_result",
          "data": {
            "text/plain": [
              "0"
            ]
          },
          "metadata": {
            "tags": []
          },
          "execution_count": 11
        },
        {
          "output_type": "display_data",
          "data": {
            "image/png": "[encoded data removed]",
            "text/plain": [
              "<Figure size 864x576 with 1 Axes>"
            ]
          },
          "metadata": {
            "tags": [],
            "needs_background": "light"
          }
        }
      ]
    },
    {
      "cell_type": "code",
      "metadata": {
        "id": "ZalgHRj5enKf",
        "colab": {
          "base_uri": "https://localhost:8080/",
          "height": 520
        },
        "outputId": "a260a90d-6cc7-4d98-8f0e-8adc00e01159"
      },
      "source": [
        "df['Churn'].value_counts().plot(kind='bar')\n",
        "# df['Churn'].fillna('Missing').value_counts().plot(kind='bar')\n",
        "df['Churn'].isnull().sum()"
      ],
      "execution_count": 12,
      "outputs": [
        {
          "output_type": "execute_result",
          "data": {
            "text/plain": [
              "98"
            ]
          },
          "metadata": {
            "tags": []
          },
          "execution_count": 12
        },
        {
          "output_type": "display_data",
          "data": {
            "image/png": "[encoded data removed]",
            "text/plain": [
              "<Figure size 864x576 with 1 Axes>"
            ]
          },
          "metadata": {
            "tags": [],
            "needs_background": "light"
          }
        }
      ]
    },
    {
      "cell_type": "code",
      "metadata": {
        "id": "pUNpq9dgenPt",
        "colab": {
          "base_uri": "https://localhost:8080/",
          "height": 503
        },
        "outputId": "f25d9724-b253-447f-dca4-d0c5086fccf6"
      },
      "source": [
        "df['Country'].value_counts().plot(kind='bar')\n",
        "# df['Country'].fillna('Missing').value_counts().plot(kind='bar')\n",
        "df['Country'].isnull().sum()"
      ],
      "execution_count": 13,
      "outputs": [
        {
          "output_type": "execute_result",
          "data": {
            "text/plain": [
              "0"
            ]
          },
          "metadata": {
            "tags": []
          },
          "execution_count": 13
        },
        {
          "output_type": "display_data",
          "data": {
            "image/png": "[encoded data removed]",
            "text/plain": [
              "<Figure size 864x576 with 1 Axes>"
            ]
          },
          "metadata": {
            "tags": [],
            "needs_background": "light"
          }
        }
      ]
    },
    {
      "cell_type": "code",
      "metadata": {
        "id": "2UGzdgpleouC",
        "colab": {
          "base_uri": "https://localhost:8080/",
          "height": 621
        },
        "outputId": "83701db8-4008-483d-f4ea-cad5ea0e045e"
      },
      "source": [
        "df['Province'].value_counts().plot(kind='bar')\n",
        "# df['Province'].fillna('Missing').value_counts().plot(kind='bar')\n",
        "df['Province'].isnull().sum()"
      ],
      "execution_count": 14,
      "outputs": [
        {
          "output_type": "execute_result",
          "data": {
            "text/plain": [
              "569"
            ]
          },
          "metadata": {
            "tags": []
          },
          "execution_count": 14
        },
        {
          "output_type": "display_data",
          "data": {
            "image/png": "[encoded data removed]",
            "text/plain": [
              "<Figure size 864x576 with 1 Axes>"
            ]
          },
          "metadata": {
            "tags": [],
            "needs_background": "light"
          }
        }
      ]
    },
    {
      "cell_type": "code",
      "metadata": {
        "id": "u_HXbXxieaGs",
        "colab": {
          "base_uri": "https://localhost:8080/",
          "height": 501
        },
        "outputId": "5656b27a-78c5-4a97-9c65-75db89112820"
      },
      "source": [
        "df['LastTransaction'].plot.hist(bins=100, alpha=1)\n",
        "df['LastTransaction'].isnull().sum()"
      ],
      "execution_count": 15,
      "outputs": [
        {
          "output_type": "execute_result",
          "data": {
            "text/plain": [
              "0"
            ]
          },
          "metadata": {
            "tags": []
          },
          "execution_count": 15
        },
        {
          "output_type": "display_data",
          "data": {
            "image/png": "[encoded data removed]",
            "text/plain": [
              "<Figure size 864x576 with 1 Axes>"
            ]
          },
          "metadata": {
            "tags": [],
            "needs_background": "light"
          }
        }
      ]
    },
    {
      "cell_type": "code",
      "metadata": {
        "id": "Np7BbusuhR4V",
        "colab": {
          "base_uri": "https://localhost:8080/",
          "height": 501
        },
        "outputId": "67355a5d-6cd7-40d2-8bd2-3e2c2ad0ec61"
      },
      "source": [
        "df['BirthYear'].plot.hist(bins=100, alpha=1)\n",
        "df['BirthYear'].isnull().sum()"
      ],
      "execution_count": 16,
      "outputs": [
        {
          "output_type": "execute_result",
          "data": {
            "text/plain": [
              "14"
            ]
          },
          "metadata": {
            "tags": []
          },
          "execution_count": 16
        },
        {
          "output_type": "display_data",
          "data": {
            "image/png": "[encoded data removed]",
            "text/plain": [
              "<Figure size 864x576 with 1 Axes>"
            ]
          },
          "metadata": {
            "tags": [],
            "needs_background": "light"
          }
        }
      ]
    },
    {
      "cell_type": "code",
      "metadata": {
        "id": "Uu549nVU3LAg"
      },
      "source": [
        ""
      ],
      "execution_count": 16,
      "outputs": []
    }
  ]
}